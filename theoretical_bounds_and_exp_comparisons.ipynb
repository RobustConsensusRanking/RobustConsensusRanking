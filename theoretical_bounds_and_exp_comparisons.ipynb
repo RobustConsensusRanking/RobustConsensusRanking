{
 "cells": [
  {
   "cell_type": "markdown",
   "id": "b4e61b17",
   "metadata": {},
   "source": [
    "# Theoretical lower and upper bounds for medians\n",
    "\n",
    "This notebook is divided in two part.\n",
    "1) First part is used to generate Figures 1 and 2 of the paper \"Robust Consensus in Ranking Data Analysis: Definitions, Properties and Computational Issues\".\n",
    "2) Second part needs first part to run, and is used to generate Figure 4 of the same paper.\n",
    "\n",
    "For the first part:\n",
    "\n",
    "\n",
    "The first two cells are loading the relevant libraries and defining usefull functions.\n",
    "\n",
    "The following two cells output the plots for the Figures"
   ]
  },
  {
   "cell_type": "markdown",
   "id": "016b66e6",
   "metadata": {},
   "source": [
    "### Libraries"
   ]
  },
  {
   "cell_type": "code",
   "execution_count": null,
   "id": "6e6ce1ea",
   "metadata": {},
   "outputs": [],
   "source": [
    "%pylab\n",
    "%matplotlib inline\n",
    "import itertools\n",
    "import torch\n",
    "from matplotlib.patches import Patch"
   ]
  },
  {
   "cell_type": "markdown",
   "id": "931bed6a",
   "metadata": {},
   "source": [
    "### Useful functions"
   ]
  },
  {
   "cell_type": "code",
   "execution_count": 2,
   "id": "56a0c5de",
   "metadata": {},
   "outputs": [],
   "source": [
    "def e_i(i, d=24):\n",
    "    x = np.zeros(d)\n",
    "    x[i] = 1.0\n",
    "    return x\n",
    "\n",
    "def kendall_tau(y, sigma):\n",
    "    n = len(sigma)\n",
    "    sigma_inv = np.argsort(sigma)\n",
    "    y_inv = np.argsort(y)\n",
    "    sigma_pairs = (sigma_inv[:, np.newaxis] > sigma_inv[np.newaxis, :]).astype(int)\n",
    "    y_pairs = (y_inv[:, np.newaxis] > y_inv[np.newaxis, :]).astype(int)\n",
    "    return np.sum(np.abs(sigma_pairs-y_pairs))/n/(n-1)\n",
    "\n",
    "def spearman_rho(y, sigma):\n",
    "    n = len(sigma)\n",
    "    sigma_inv = np.argsort(sigma)\n",
    "    y_inv = np.argsort(y)\n",
    "    return 3 * np.linalg.norm(y_inv - sigma_inv, ord=2)**2 / n / (n**2 - 1)\n",
    "\n",
    "def spearman_footrule(y, sigma):\n",
    "    n = len(sigma)\n",
    "    sigma_inv = np.argsort(sigma)\n",
    "    y_inv = np.argsort(y)\n",
    "    return np.linalg.norm(y_inv - sigma_inv, ord=1) / 8\n",
    "\n",
    "def loss_matrix(d, all_ranks):\n",
    "    n_fact = np.shape(all_ranks)[0]\n",
    "\n",
    "    D = np.zeros((n_fact,n_fact))\n",
    "    for i in range(n_fact):\n",
    "        for j in range(n_fact):\n",
    "            sigma = all_ranks[i]\n",
    "            nu = all_ranks[j]\n",
    "            D[i,j] = d(sigma, nu)  \n",
    "    return D\n",
    "\n",
    "def median(p, D):\n",
    "    return e_i(np.argmin(p @ D))\n",
    "\n",
    "def at_delta(i_star, i, delta, D):\n",
    "    return (i_star @ (D @ i)) >= delta\n",
    "\n",
    "\n",
    "## Lower bound functions\n",
    "def lb_not_opt(p, sigma, nu, D):\n",
    "    return (p @ (D @ sigma) - p @ D @ nu) / np.linalg.norm(D @ (sigma - nu), ord=np.inf)\n",
    "\n",
    "def lb(p, delta, D, M):\n",
    "    e_i_star = median(p, D)\n",
    "    val_ij = np.ones((n_fact, n_fact)) * np.inf\n",
    "    for i in range(n_fact):\n",
    "        if at_delta(e_i_star, e_i(i), delta, M):\n",
    "            val_ij[i,:] = 0\n",
    "            for j in range(n_fact):\n",
    "                if np.linalg.norm(D @ (e_i(i) - e_i(j)), ord=np.inf) > 0:\n",
    "                    val_ij[i,j] = lb_not_opt(p, e_i(i), e_i(j), D)\n",
    "    return np.min(np.max(val_ij, axis=-1))\n",
    "\n",
    "\n",
    "## Upper bound functions\n",
    "def ub_not_opt(p, sigma, nu, D):\n",
    "    e_i_star = median(p, D)\n",
    "    e_i_star_rev = median(p, -D)\n",
    "    return 2*(p @ (D @ sigma) - p @ D @ nu) / (sigma @ D @ e_i_star + nu @ D @ e_i_star_rev - nu @ D @ e_i_star - sigma @ D @ e_i_star_rev)\n",
    "\n",
    "def ub(p, delta, D, M):\n",
    "    e_i_star = median(p, D)\n",
    "    e_i_star_rev = median(p, -D)\n",
    "    val_ij = np.ones((n_fact, n_fact)) * np.inf\n",
    "    for i in range(n_fact):\n",
    "        if at_delta(e_i_star, e_i(i), delta, M):\n",
    "            val_ij[i,:] = 0\n",
    "            for j in range(n_fact):\n",
    "                if (e_i(i) @ D @ e_i_star + e_i(j) @ D @ e_i_star_rev - e_i(j) @ D @ e_i_star - e_i(i) @ D @ e_i_star_rev) > 0:\n",
    "                    val_ij[i,j] = ub_not_opt(p, e_i(i), e_i(j), D)\n",
    "    eps = np.min(np.max(val_ij, axis=-1))\n",
    "    valid = 2*p @ median(p, D) >= eps\n",
    "    return eps * valid + (1.0-valid)\n"
   ]
  },
  {
   "cell_type": "markdown",
   "id": "6bdb8651",
   "metadata": {},
   "source": [
    "### Experiments and plots"
   ]
  },
  {
   "cell_type": "code",
   "execution_count": 3,
   "id": "85887033",
   "metadata": {},
   "outputs": [
    {
     "data": {
      "text/plain": [
       "<Figure size 360x216 with 0 Axes>"
      ]
     },
     "metadata": {},
     "output_type": "display_data"
    },
    {
     "data": {
      "image/png": "[encoded data removed]",
      "text/plain": [
       "<Figure size 360x216 with 1 Axes>"
      ]
     },
     "metadata": {
      "needs_background": "light"
     },
     "output_type": "display_data"
    }
   ],
   "source": [
    "n_items = 4\n",
    "n_fact = np.math.factorial(n_items)\n",
    "all_ranks = list(itertools.permutations(list(np.arange(n_items))))\n",
    "all_ranks = [np.array(elem) for elem in all_ranks]\n",
    "all_ranks = np.asarray(all_ranks)\n",
    "\n",
    "np.random.seed(682)\n",
    "plt.figure(figsize=(5,3))\n",
    "\n",
    "p = np.random.uniform(size=n_fact) \n",
    "p /= p.sum()\n",
    "\n",
    "deltas = np.linspace(0,1,100)\n",
    "M = loss_matrix(kendall_tau, all_ranks)\n",
    "\n",
    "patches = []\n",
    "\n",
    "y_max = 0.10\n",
    "\n",
    "plt.rcParams.update({\n",
    "    \"text.usetex\": True\n",
    "        })\n",
    "plt.figure(figsize=(5,3))\n",
    "cm = plt.cm.get_cmap('viridis')\n",
    "cm1 = cm(0.1)[:3]\n",
    "cm2 = cm(0.9)[:3]\n",
    "\n",
    "D = loss_matrix(kendall_tau, all_ranks)\n",
    "ubs = [ub(p, delta, D, M) for delta in deltas]\n",
    "lbs = [lb(p, delta, D, M) for delta in deltas]\n",
    "plt.plot(deltas, lbs, \"-\", c='cornflowerblue')\n",
    "plt.plot(deltas, np.clip(ubs, a_min=0.0, a_max=y_max), \"-\", c='cornflowerblue')\n",
    "plt.fill_between(deltas, lbs, np.clip(ubs, a_min=0.0, a_max=y_max), alpha=0.5, color='cornflowerblue')\n",
    "patches.append(Patch(facecolor='cornflowerblue', edgecolor='none', alpha=1, label=r\"Kemeny\"))\n",
    "\n",
    "D = loss_matrix(spearman_rho, all_ranks)\n",
    "ubs = 0.5*np.ones_like(deltas)\n",
    "lbs = np.array([lb(p, delta, D, M) for delta in deltas])\n",
    "plt.plot(deltas, lbs, c=cm1, alpha = 1, label=r'Borda')\n",
    "plt.fill_between(deltas, lbs, lbs+0.01, alpha=0.3, edgecolor=cm1, facecolor='none', hatch=\"\\\\\\\\\", linewidth=0.0)\n",
    "\n",
    "D = loss_matrix(spearman_footrule, all_ranks)\n",
    "lbs = np.array([lb(p, delta, D, M) for delta in deltas])\n",
    "plt.plot(deltas, lbs, c=cm2, alpha = 1, label=r'Footrule')\n",
    "plt.fill_between(deltas, lbs, lbs+0.01, alpha=0.3, edgecolor=cm2, facecolor='none', hatch=\"\\\\\\\\\", linewidth=0.0)\n",
    "\n",
    "h, l = plt.gca().get_legend_handles_labels()\n",
    "plt.legend(handles=h+patches, fontsize=12)\n",
    "plt.xlabel(r\"Attack amplitude $\\delta$\", fontsize=14)\n",
    "plt.ylabel(r\"Bounds $\\varepsilon^+(\\delta)$ and $\\varepsilon^-(\\delta)$\", fontsize=14)\n",
    "plt.title(r\"Breakdown fct for different medians\", fontsize=15)\n",
    "plt.xticks(fontsize=11)\n",
    "plt.yticks(fontsize=11)\n",
    "plt.show()"
   ]
  },
  {
   "cell_type": "code",
   "execution_count": 4,
   "id": "75c27dd1",
   "metadata": {},
   "outputs": [
    {
     "data": {
      "image/png": "[encoded data removed]",
      "text/plain": [
       "<Figure size 360x216 with 1 Axes>"
      ]
     },
     "metadata": {
      "needs_background": "light"
     },
     "output_type": "display_data"
    }
   ],
   "source": [
    "n_items = 4\n",
    "n_fact = np.math.factorial(n_items)\n",
    "all_ranks = list(itertools.permutations(list(np.arange(n_items))))\n",
    "all_ranks = [np.array(elem) for elem in all_ranks]\n",
    "all_ranks = np.asarray(all_ranks)\n",
    "\n",
    "np.random.seed(23)\n",
    "\n",
    "deltas = np.linspace(0,1,100)\n",
    "M = loss_matrix(kendall_tau, all_ranks)\n",
    "\n",
    "patches = []\n",
    "\n",
    "y_max = 0.3\n",
    "\n",
    "D = loss_matrix(kendall_tau, all_ranks)\n",
    "\n",
    "noise = np.random.uniform(size=n_fact) \n",
    "noise /= noise.sum()\n",
    "\n",
    "plt.rcParams.update({\n",
    "    \"text.usetex\": True\n",
    "        })\n",
    "plt.figure(figsize=(5,3))\n",
    "cm = plt.cm.get_cmap('viridis')\n",
    "\n",
    "p = 0.1*noise + 0.9*np.ones(n_fact)/n_fact\n",
    "ubs = [ub(p, delta, D, M) for delta in deltas]\n",
    "lbs = [lb(p, delta, D, M) for delta in deltas]\n",
    "plt.plot(deltas, lbs, \"-\", c=cm(0.1))\n",
    "plt.plot(deltas, ubs, \"-\", c=cm(0.1))\n",
    "plt.fill_between(deltas, lbs, ubs, alpha=0.3, color=cm(0.1))\n",
    "patches.append(Patch(facecolor=cm(0.1), edgecolor=cm(0.1), alpha=1, label='Uniform'))\n",
    "\n",
    "p = 0.1*noise + 0.9*e_i(0)\n",
    "ubs = [ub(p, delta, D, M) for delta in deltas]\n",
    "lbs = [lb(p, delta, D, M) for delta in deltas]\n",
    "plt.plot(deltas, lbs, \"-\", c=cm(1/2))\n",
    "plt.plot(deltas, ubs, \"-\", c=cm(1/2))\n",
    "plt.fill_between(deltas, lbs, ubs, alpha=0.3, color=cm(1/2))\n",
    "patches.append(Patch(facecolor=cm(1/2), edgecolor=cm(1/2), alpha=1, label='Point mass'))\n",
    "\n",
    "p = 0.1*noise + 0.45*e_i(0) + 0.45*e_i(1)\n",
    "ubs = [ub(p, delta, D, M) for delta in deltas]\n",
    "lbs = [lb(p, delta, D, M) for delta in deltas]\n",
    "plt.plot(deltas, lbs, \"-\", c=cm(0.9))\n",
    "plt.plot(deltas, ubs, \"-\", c=cm(0.9))\n",
    "plt.fill_between(deltas, lbs, ubs, alpha=0.3, color=cm(0.9))\n",
    "patches.append(Patch(facecolor=cm(0.9), edgecolor=cm(0.9), alpha=1, label='Bucket'))\n",
    "\n",
    "\n",
    "h, l = plt.gca().get_legend_handles_labels()\n",
    "plt.legend(handles=h+patches, fontsize=12)\n",
    "plt.xlabel(r\"Attack amplitude $\\delta$\", fontsize=14)\n",
    "plt.ylabel(r\"Bounds $\\varepsilon^+(\\delta)$ and $\\varepsilon^-(\\delta)$\", fontsize=14)\n",
    "plt.title(r\"Kemeny's median breakdown fct.\", fontsize=15)\n",
    "plt.xticks(fontsize=11)\n",
    "plt.yticks(fontsize=11)\n",
    "\n",
    "plt.show()"
   ]
  },
  {
   "cell_type": "code",
   "execution_count": null,
   "id": "7c9a7642",
   "metadata": {},
   "outputs": [],
   "source": []
  },
  {
   "cell_type": "code",
   "execution_count": null,
   "id": "5f0a72cf",
   "metadata": {},
   "outputs": [],
   "source": []
  },
  {
   "cell_type": "code",
   "execution_count": null,
   "id": "cbf844aa",
   "metadata": {},
   "outputs": [],
   "source": []
  },
  {
   "cell_type": "markdown",
   "id": "43360a1b",
   "metadata": {},
   "source": [
    "# Robustness at different levels\n",
    "\n",
    "The next cells are used to output Figure 4 of the paper \"Robust Consensus in Ranking Data Analysis:\n",
    "Definitions, Properties and Computational Issues\".\n",
    "\n",
    "The first cells are loading the relevant librairies and defining useful functions.\n",
    "\n",
    "The last 3 cells launch experiment for Kemeny's median, for the Downward Merge algorithm, and plot all the results"
   ]
  },
  {
   "cell_type": "markdown",
   "id": "353c1f69",
   "metadata": {},
   "source": [
    "### Librairies"
   ]
  },
  {
   "cell_type": "code",
   "execution_count": null,
   "id": "148dcbe6",
   "metadata": {},
   "outputs": [],
   "source": [
    "from operator import itemgetter\n",
    "from app.launcher_classic import launch_exp, pairwise_matrix"
   ]
  },
  {
   "cell_type": "code",
   "execution_count": 6,
   "id": "7038eb65",
   "metadata": {},
   "outputs": [],
   "source": [
    "%load_ext autoreload\n",
    "%autoreload 2"
   ]
  },
  {
   "cell_type": "markdown",
   "id": "2befa955",
   "metadata": {},
   "source": [
    "### Useful function"
   ]
  },
  {
   "cell_type": "code",
   "execution_count": 7,
   "id": "7bf69297",
   "metadata": {},
   "outputs": [],
   "source": [
    "def get_res(p_torch, thresholds_, dist=\"erm\", epochs=10000, w=\"\", save=False, dist_type_sym=False, norm_type=\"1\", deltas=np.linspace(0,6,13)):\n",
    "\n",
    "    res_thresholds = dict()\n",
    "    for a_ in thresholds_:\n",
    "        thresholds = [a_.item()]\n",
    "        print(f\"THRESHOLD : {thresholds}\")\n",
    "        eps_list_all = list()\n",
    "        alt_eps_list_all = list()\n",
    "\n",
    "        for delta in deltas:\n",
    "            print(f\"Delta = {delta}\")\n",
    "            perf_list, eps_list1, eps_list2, alt_eps_list1, alt_eps_list2, dict_training = launch_exp(dist,\n",
    "                        p_torch, w=w, delta=delta, thresholds_=thresholds, epochs=epochs, save=save, dist_type_sym=dist_type_sym,\n",
    "                        norm_type=norm_type, nb_simu_training=25, exp_type=\"unimodal\")\n",
    "            eps_list_all.append(eps_list1[0].item())\n",
    "            alt_eps_list_all.append(alt_eps_list1[0].item())\n",
    "        res_thresholds[thresholds[0]] = {\"full\":eps_list_all, \"alt\":alt_eps_list_all}\n",
    "    \n",
    "    return res_thresholds\n",
    "\n",
    "def myplot(p, res_dict, res_dict_additional=None, save=False, deltas=np.linspace(0,6,13)):\n",
    "    plt.rcParams.update({\n",
    "    \"text.usetex\": True\n",
    "        })\n",
    "    cm = plt.cm.get_cmap('Reds')\n",
    "    cm(0.5)\n",
    "\n",
    "    deltas2 = np.linspace(0,1,100)\n",
    "    M = loss_matrix(spearman_footrule, all_ranks)\n",
    "\n",
    "    patches = []\n",
    "\n",
    "    D = loss_matrix(kendall_tau, all_ranks)\n",
    "    ubs = [ub(p, delta, D, M) for delta in deltas2]\n",
    "    lbs = [lb(p, delta, D, M) for delta in deltas2]\n",
    "    plt.fill_between(deltas2, lbs, ubs, alpha=1.0, color='b')\n",
    "    patches.append(Patch(facecolor='b', edgecolor='none', alpha=1.0, label=r'Kemeny bounds $\\varepsilon^+(\\delta)$ and $\\varepsilon^-(\\delta)$', lw=3))\n",
    "    plt.axhline(2*p @ median(p, D), color='b', alpha=1.0, linestyle='--')\n",
    "\n",
    "    plt.xlabel(r\"Attack amplitude $\\delta$\", fontsize=14)\n",
    "    plt.ylabel(r\"Attack budget $\\varepsilon(\\delta)$ \", fontsize=14)\n",
    "    \n",
    "    for k, threshold in enumerate(res_dict.keys()):\n",
    "        my_ys = list()\n",
    "        for i, (e_full, e_alt) in enumerate(zip(res_dict[threshold][\"full\"], res_dict[threshold][\"alt\"])):\n",
    "            my_ys.append(e_full/2.0)\n",
    "        \n",
    "        if len(list(res_dict.keys())) > 1:\n",
    "            plt.plot(np.asarray(deltas)/6, my_ys, \"o-\", color=cm((k+1/len(list(res_dict.keys())))), label=r\"$\\varepsilon^{\\gamma}_p(\\delta)$ (exp.) - \"+str(np.round(threshold, 3)), alpha=1.0, linewidth=0.5, ms=8)\n",
    "        else:\n",
    "            plt.plot(np.asarray(deltas)/6, my_ys, \"x-\", color=\"cornflowerblue\", label=r\"$\\varepsilon^{\\gamma}_p(\\delta)$ (exp.) - Kemeny\", alpha=1.0, linewidth=0.5, ms=11)\n",
    "    \n",
    "    if res_dict_additional is not None:\n",
    "        for k, threshold in enumerate(res_dict_additional.keys()):\n",
    "            my_ys = list()\n",
    "            for i, (e_full, e_alt) in enumerate(zip(res_dict_additional[threshold][\"full\"], res_dict_additional[threshold][\"alt\"])):\n",
    "                my_ys.append(e_full/2.0)\n",
    "            plt.plot(np.asarray(deltas)/6, my_ys, \"o-\", color=cm((k+1)/len(list(res_dict_additional.keys()))), label=r\"$\\varepsilon^{\\gamma}_p(\\delta)$ (exp.) - $\\theta =$ \"+str(np.round(threshold, 3)), alpha=1.0, linewidth=0.5, ms=8)\n",
    "    \n",
    "    h, l = plt.gca().get_legend_handles_labels()\n",
    "    legend = plt.legend(title=\"Legend\", fontsize=12, handles=h+patches)\n",
    "    legend.get_title().set_fontsize('13')\n",
    "    plt.title(r\"Theoretical and experimental attack budgets\", fontsize=15)\n",
    "    plt.xticks(fontsize=11)\n",
    "    plt.yticks(fontsize=11)\n",
    "    plt.show()\n",
    "    \n",
    "def get_mean_res_dict(res_all_dicts, thresholds_):\n",
    "    res_dict_mean = dict()\n",
    "    for threshold in thresholds_:\n",
    "        res_dict_mean[threshold] = dict()\n",
    "        all_deltas_full = list()\n",
    "        all_deltas_alt = list()\n",
    "        for key in res_all_dicts.keys():\n",
    "            all_deltas_full.append(res_all_dicts[key][threshold][\"full\"])\n",
    "            all_deltas_alt.append(res_all_dicts[key][threshold][\"alt\"])\n",
    "\n",
    "        mean_full = [np.mean(list(map(itemgetter(k), all_deltas_full))) for k in range(len(all_deltas_full[0]))]\n",
    "        mean_alt = [np.mean(list(map(itemgetter(k), all_deltas_alt))) for k in range(len(all_deltas_alt[0]))]\n",
    "        res_dict_mean[threshold][\"full\"] = mean_full\n",
    "        res_dict_mean[threshold][\"alt\"] = mean_alt\n",
    "    return res_dict_mean"
   ]
  },
  {
   "cell_type": "markdown",
   "id": "b4ce6407",
   "metadata": {},
   "source": [
    "### Launching experiments and plots"
   ]
  },
  {
   "cell_type": "code",
   "execution_count": 8,
   "id": "d3ddd228",
   "metadata": {},
   "outputs": [
    {
     "name": "stdout",
     "output_type": "stream",
     "text": [
      "tensor([[0.0000, 0.9539, 0.9527, 0.9506],\n",
      "        [0.0461, 0.0000, 0.9479, 0.9524],\n",
      "        [0.0473, 0.0521, 0.0000, 0.5009],\n",
      "        [0.0494, 0.0476, 0.4991, 0.0000]], dtype=torch.float64)\n"
     ]
    }
   ],
   "source": [
    "# Distrib\n",
    "np.random.seed(183)\n",
    "noise = np.random.uniform(size=n_fact) \n",
    "noise /= noise.sum()\n",
    "p = 0.1*noise + 0.45*e_i(0) + 0.45*e_i(1)\n",
    "p_torch = torch.tensor(p)\n",
    "torch_all_ranks = torch.tensor(all_ranks)\n",
    "P = pairwise_matrix(p_torch, torch_all_ranks, n=4)\n",
    "print(P)\n",
    "\n",
    "thresholds_ = torch.tensor([0.05, 0.5])\n",
    "deltas = np.array([0, 0.1, 0.25, 0.5, 1.0, 1.3, 1.4, 1.5, 1.6, 1.7, 3, 4, 5, 6])"
   ]
  },
  {
   "cell_type": "markdown",
   "id": "c9c9ab7a",
   "metadata": {},
   "source": [
    "#### Kemeny's median"
   ]
  },
  {
   "cell_type": "code",
   "execution_count": null,
   "id": "22a4796a",
   "metadata": {},
   "outputs": [],
   "source": [
    "res_erm_all = dict()\n",
    "for i in range(10):\n",
    "    res_erm = get_res(p_torch, thresholds_=torch.tensor([0.0]), dist=\"erm\", epochs=5000, deltas=deltas)\n",
    "    res_erm_all[i] = res_erm\n",
    "res_dict_erm_mean = get_mean_res_dict(res_erm_all, thresholds_=[0.0])\n",
    "myplot(p, res_dict_erm_mean, save=False, deltas=deltas)"
   ]
  },
  {
   "cell_type": "markdown",
   "id": "acc24045",
   "metadata": {},
   "source": [
    "#### Downward Merge Algorithm"
   ]
  },
  {
   "cell_type": "code",
   "execution_count": null,
   "id": "f47858b6",
   "metadata": {},
   "outputs": [],
   "source": [
    "res_maxpair = get_res(p_torch, thresholds_=thresholds_, dist=\"maxpair\", epochs=5000, deltas=deltas)\n",
    "myplot(p, res_maxpair, save=False, deltas=deltas)"
   ]
  },
  {
   "cell_type": "markdown",
   "id": "750a1e1b",
   "metadata": {},
   "source": [
    "#### General plot"
   ]
  },
  {
   "cell_type": "code",
   "execution_count": null,
   "id": "aa2e4db7",
   "metadata": {},
   "outputs": [],
   "source": [
    "myplot(p, res_dict_erm_mean, res_dict_additional=res_maxpair, save=False, deltas=deltas)"
   ]
  }
 ],
 "metadata": {
  "kernelspec": {
   "display_name": "Python 3 (ipykernel)",
   "language": "python",
   "name": "python3"
  },
  "language_info": {
   "codemirror_mode": {
    "name": "ipython",
    "version": 3
   },
   "file_extension": ".py",
   "mimetype": "text/x-python",
   "name": "python",
   "nbconvert_exporter": "python",
   "pygments_lexer": "ipython3",
   "version": "3.9.7"
  }
 },
 "nbformat": 4,
 "nbformat_minor": 5
}
