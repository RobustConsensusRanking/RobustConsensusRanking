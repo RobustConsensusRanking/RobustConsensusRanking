{
 "cells": [
  {
   "cell_type": "code",
   "execution_count": 1,
   "id": "c238326f",
   "metadata": {},
   "outputs": [
    {
     "name": "stderr",
     "output_type": "stream",
     "text": [
      "<frozen importlib._bootstrap>:228: RuntimeWarning: scipy._lib.messagestream.MessageStream size changed, may indicate binary incompatibility. Expected 56 from C header, got 64 from PyObject\n",
      "2023-01-25 14:26:12,637 -- Device - INFO -- Device is cpu\n"
     ]
    }
   ],
   "source": [
    "import numpy as np\n",
    "import copy\n",
    "import torch\n",
    "import itertools\n",
    "import matplotlib.pyplot as plt\n",
    "from torch.distributions import MultivariateNormal, Normal\n",
    "from torch.optim.lr_scheduler import LambdaLR, ConstantLR, CyclicLR\n",
    "from torch.autograd import Variable\n",
    "from scipy.optimize import root_scalar, shgo\n",
    "import networkx as nx\n",
    "import os\n",
    "from app.launcher_classic import torch_dist, get_multimodal, proba_plackett_luce, pairwise_matrix\n",
    "from app.launcher_classic import plot_end_training as plot_end_training_classic\n",
    "from app.launcher_classic import torch_dist as torch_dist_classic\n",
    "from app.launcher_pairwise import torch_dist as torch_dist_pairwise\n",
    "#from app.launcher_pairwise import plot_end_training as plot_end_training_pairwise\n",
    "\n",
    "device = \"cpu\"\n",
    "default_tensor_type = torch.FloatTensor"
   ]
  },
  {
   "cell_type": "code",
   "execution_count": 2,
   "id": "797edb84",
   "metadata": {},
   "outputs": [],
   "source": [
    "%load_ext autoreload\n",
    "%autoreload 2"
   ]
  },
  {
   "cell_type": "code",
   "execution_count": 3,
   "id": "a6a68745",
   "metadata": {},
   "outputs": [],
   "source": [
    "n_items = 4\n",
    "all_ranks = list(itertools.permutations(list(np.arange(n_items))))\n",
    "all_ranks = [np.array(elem) for elem in all_ranks]\n",
    "torch_all_ranks = torch.from_numpy(np.asarray(all_ranks))"
   ]
  },
  {
   "cell_type": "markdown",
   "id": "1be3e3a6",
   "metadata": {},
   "source": [
    "# Functions to plot experiments"
   ]
  },
  {
   "cell_type": "code",
   "execution_count": 4,
   "id": "e3e36ea3",
   "metadata": {},
   "outputs": [],
   "source": [
    "def get_path_exp(dist, w, delta, epochs, dist_type_sym, norm_type, ratio_norm_, prefix=\"\", folder_path=None):\n",
    "    if folder_path == None:\n",
    "        folder_path = f\"{os.getcwd()}/perf_robustness_profile/\"+prefix\n",
    "    filename = f\"perf_robustness_dist={dist}_w={w}_delta={delta}_epochs={epochs}_dist_type_sym={dist_type_sym}_norm_L{norm_type}_ratio_{ratio_norm_}.pt\"\n",
    "    return folder_path+filename"
   ]
  },
  {
   "cell_type": "code",
   "execution_count": 5,
   "id": "e6afac17",
   "metadata": {},
   "outputs": [],
   "source": [
    "def load_plot_exp(path, dist, torch_all_ranks, plot_training=False, type_=\"classic\", n=4):\n",
    "    dict_res = torch.load(path)\n",
    "    training_dict = dict_res['training_dict']\n",
    "    final_val_dict = dict_res['final_val_dict']\n",
    "    epochs = int(path.split('epochs=')[1].split('_')[0])\n",
    "    p_torch=final_val_dict['p_torch']\n",
    "    print(f\"PTORCh = {p_torch}\")\n",
    "    #print(f\"\\n\\n\\n IN LOAD PLOT EXP --> path = {path}\")\n",
    "    \n",
    "    for i, threshold in enumerate(training_dict.keys()):\n",
    "        qlist_ = training_dict[threshold]['qs_'][epochs-10000:]\n",
    "        q1 = np.mean(qlist_, axis=0)\n",
    "        q2 = training_dict[threshold]['mean_qs'][-1]\n",
    "        p_torch=final_val_dict['p_torch']\n",
    "    \n",
    "    if plot_training:\n",
    "        for threshold in list(training_dict.keys()):\n",
    "            if type_ == \"classic\":\n",
    "                dist_Tp_Tq = lambda _p,_q: torch_dist_classic(dist, _p, _q, torch_all_ranks, threshold=threshold, dist_type_sym=dist_type_sym)\n",
    "            elif type_ == \"pairwise\":\n",
    "                dist_Tp_Tq = lambda _P,_Q: torch_dist_pairwise(dist, _P, _Q, torch_all_ranks, threshold=threshold, dist_type_sym=dist_type_sym)\n",
    "            \n",
    "            norms_ = training_dict[threshold]['norms']\n",
    "            losses = training_dict[threshold]['losses']\n",
    "            mean_qs_=training_dict[threshold]['mean_qs']\n",
    "            #check_qs = mean_qs_[-2:]\n",
    "            #Qs = [pairwise_matrix(check_qs_, torch_all_ranks, n=n) for check_qs_ in check_qs]\n",
    "            #print(f\"Distrib adv = {check_qs}\\nPairwise adv = {Qs}\")\n",
    "            phis_=training_dict[threshold]['phis']\n",
    "            mean_phi2_=training_dict[threshold]['mean_phi2']\n",
    "            lambdas_=training_dict[threshold]['lambdas']\n",
    "            mean_lambdas_=training_dict[threshold]['mean_lambdas']\n",
    "            grad_data=training_dict[threshold]['grad_data']\n",
    "            freq_phi_=training_dict[threshold]['freq_phi']\n",
    "            p_torch=final_val_dict['p_torch']\n",
    "            print(f\"load plot n = {n}, ptorch = {p_torch.shape}, all ranks = {torch_all_ranks.shape}\")\n",
    "            P=pairwise_matrix(p_torch, torch_all_ranks, n=n)\n",
    "            \n",
    "            if type_ == \"classic\":\n",
    "                plot_end_training_classic(p_torch=p_torch, dist_Tp_Tq=dist_Tp_Tq, norms_=norms_, losses=losses, mean_qs_=mean_qs_, phis_=phis_, mean_phi2_=mean_phi2_, lambdas_=lambdas_, mean_lambdas_=mean_lambdas_, grad_data=grad_data, freq_phi_=freq_phi_, norm_type=norm_type)\n",
    "            elif type_ == \"pairwise\":\n",
    "                plot_end_training_pairwise(P=P, dist_Tp_Tq=dist_Tp_Tq, norms_=norms_, losses=losses, mean_qs_=mean_qs_, phis_=phis_, mean_phi2_=mean_phi2_, lambdas_=lambdas_, mean_lambdas_=mean_lambdas_, grad_data=grad_data, freq_phi_=freq_phi_, norm_type=norm_type)\n",
    "\n",
    "    return final_val_dict[\"perf_list\"], final_val_dict[\"eps_list1\"], final_val_dict[\"eps_list2\"], final_val_dict[\"alt_eps_list1\"], final_val_dict[\"alt_eps_list2\"], final_val_dict[\"thresholds\"]\n"
   ]
  },
  {
   "cell_type": "code",
   "execution_count": 6,
   "id": "f1e5b227",
   "metadata": {},
   "outputs": [],
   "source": [
    "def get_res(mypath, dist, torch_all_ranks, plot_training=False, type_=\"classic\", n=4, choose_val=\"full\"):\n",
    "    \n",
    "    perf_list, eps_list1, eps_list2, alt_eps_list1, alt_eps_list2, thresholds = load_plot_exp(mypath, dist, torch_all_ranks, plot_training=plot_training, type_=type_, n=n)\n",
    "    \n",
    "    print(f\"perf_list = {perf_list} \\n\\n eps_list1 (l1 norm) = {eps_list1}  \\n eps_list2 (l2 norm) = {eps_list2} \\n\\n alt_eps_list1 (l1 norm) = {alt_eps_list1}  \\n alt_eps_list2 (l2 norm) = {alt_eps_list2} \\n\\n\")\n",
    "    \n",
    "    l1_norm = list()\n",
    "    for i in range(len(eps_list1)):\n",
    "        minval = torch.min( torch.tensor(eps_list1[i]), torch.tensor(alt_eps_list1[i]) ) \n",
    "        maxval = torch.max( torch.tensor(eps_list1[i]), torch.tensor(alt_eps_list1[i]) ) \n",
    "        if choose_val == \"full\":\n",
    "            l1_norm.append(torch.tensor(eps_list1[i]))\n",
    "        elif choose_val == \"alt\":\n",
    "            l1_norm.append(torch.tensor(alt_eps_list1[i]))\n",
    "        elif choose_val == \"min\":\n",
    "            l1_norm.append(minval)\n",
    "        elif choose_val == \"max\":\n",
    "            l1_norm.append(maxval)\n",
    "\n",
    "    l2_norm = list()\n",
    "    for i in range(len(eps_list2)):\n",
    "        minval = torch.min( torch.tensor(eps_list2[i]), torch.tensor(alt_eps_list2[i]) ) \n",
    "        maxval = torch.max( torch.tensor(eps_list2[i]), torch.tensor(alt_eps_list2[i]) ) \n",
    "        if choose_val == \"full\":\n",
    "            l2_norm.append(torch.tensor(eps_list2[i]))\n",
    "        elif choose_val == \"alt\":\n",
    "            l2_norm.append(torch.tensor(alt_eps_list2[i]))\n",
    "        elif choose_val == \"min\":\n",
    "            l2_norm.append(minval)\n",
    "        elif choose_val == \"max\":\n",
    "            l2_norm.append(maxval)\n",
    "\n",
    "    #print(f\"final res l1 norm = {l1_norm} \\nfinal res l2 norm = {l2_norm} \")\n",
    "    \n",
    "    return perf_list, l1_norm, l2_norm\n",
    "    \n",
    "    "
   ]
  },
  {
   "cell_type": "code",
   "execution_count": 155,
   "id": "46a1d23e",
   "metadata": {},
   "outputs": [],
   "source": [
    "def exp_plot(my_paths, dists, torch_all_ranks, norm=\"L1\", title_add=\"\", plot_training=False, type_=\"classic\", n=4, thresholds=np.linspace(0,0.5,11), choose_val=\"full\"):\n",
    "    fig_size = (7, 3)\n",
    "    plt.rcParams.update({\n",
    "    \"text.usetex\": True,\n",
    "    'text.latex.preamble': r'\\usepackage{amsfonts}'\n",
    "        })\n",
    "    f = plt.figure(figsize=fig_size)\n",
    "    axarr = f.add_subplot(1,1,1)\n",
    "    min_cmap = thresholds[0]\n",
    "    max_cmap = thresholds[-1]\n",
    "    for i, (my_path, dist) in enumerate(zip(my_paths, dists)):\n",
    "        perf_list, l1_norm, l2_norm = get_res(my_path, dist, torch_all_ranks, plot_training=plot_training, type_=type_, n=n, choose_val=choose_val)\n",
    "        t = thresholds\n",
    "        l1_norm = [1/2*l1_norm_ for l1_norm_ in l1_norm]\n",
    "        perf_list = [perf_list_/(n*(n-1)/2) for perf_list_ in perf_list]\n",
    "        print(f\"normalize l1 norm = {l1_norm}\")\n",
    "        if dist == \"erm\":\n",
    "            markertype = \"x\"\n",
    "            lab = \"Median\"\n",
    "        elif dist == \"maxpair\":\n",
    "            #l1_norm = l1_norm[:-1]\n",
    "            #perf_list = perf_list[:-1]\n",
    "            markertype = \"o\"\n",
    "            cm = plt.cm.get_cmap('Reds')\n",
    "            lab = \"Maxpair\"\n",
    "        elif dist == \"merge\":\n",
    "            #l1_norm = l1_norm[:-1]\n",
    "            #perf_list = perf_list[:-1]\n",
    "            markertype = \"^\"\n",
    "            cm = plt.cm.get_cmap('Reds')\n",
    "            lab = \"Merge\"\n",
    "        print(f\"for point nb {i} --> l1_norm = {l1_norm}\")\n",
    "        if norm==\"L1\":\n",
    "            if dist != \"erm\":\n",
    "                list_col = [cm((i+1)/len(thresholds)) for i in range(len(thresholds))]\n",
    "                #plt.scatter(perf_list, l1_norm, marker=markertype, c=t, label=lab, vmin=min_cmap, vmax=max_cmap, cmap=cm, edgecolors=\"black\", s=90)\n",
    "                scatter1 = plt.scatter(perf_list, l1_norm, marker=markertype, c=list_col, edgecolors=\"black\", s=90)\n",
    "            else:\n",
    "                scatter2 = plt.scatter(perf_list, l1_norm, marker=markertype, s=120, c=\"cornflowerblue\")\n",
    "        else:\n",
    "            if dist != \"erm\":\n",
    "                list_col = [cm((i+1)/len(thresholds)) for i in range(len(thresholds))]\n",
    "                #plt.scatter(perf_list, l2_norm, marker=markertype, c=t, label=lab, vmax=max_cmap, cmap=cm, edgecolors=\"black\", s=90)\n",
    "                scatter1 = plt.scatter(perf_list, l2_norm, marker=markertype, c=list_col, label=lab, edgecolors=\"black\", s=90)\n",
    "            else:\n",
    "                scatter2 = plt.scatter(perf_list, l2_norm, marker=markertype, label=lab, s=120, c=\"cornflowerblue\")\n",
    "    #plt.legend()\n",
    "    print(f\"scatter legend = {scatter1.legend_elements()[0]}, {scatter2.legend_elements()[0]}\")\n",
    "    plt.legend(handles=scatter1.legend_elements()[0], labels=thresholds)\n",
    "    plt.xlabel(f\"Loss\", fontsize=12)\n",
    "    plt.ylabel(r\"Robustness - attack budget $\\varepsilon^*(1)$\", fontsize=12)\n",
    "    plt.title(f\"{title_add}\", fontsize=14)\n",
    "    #if (\"maxpair\" in dists):\n",
    "    #    cbar = plt.colorbar(mappable=plt.cm.ScalarMappable(cmap=cm, norm=plt.Normalize(min_cmap, max_cmap)),\n",
    "    #             orientation='vertical', format='%.3f', label=\"Threshold\")\n",
    "    #elif (\"merge\" in dists):\n",
    "    #    cbar = plt.colorbar(mappable=plt.cm.ScalarMappable(cmap=cm, norm=plt.Normalize(min_cmap, max_cmap)),\n",
    "    #             orientation='vertical', format='%.3f', label=\"Threshold\", location='left')\n",
    "    #for t in cbar.ax.get_yticklabels():\n",
    "    #    t.set_fontsize(12)\n",
    "    #cbar.set_label(label=\"Thresholds\", size=12)\n",
    "    plt.xticks(fontsize=12)\n",
    "    plt.yticks(fontsize=12)\n",
    "    #plt.ylim(3, 5)\n",
    "    return f"
   ]
  },
  {
   "cell_type": "code",
   "execution_count": 126,
   "id": "b1c7729d",
   "metadata": {},
   "outputs": [],
   "source": [
    "def get_pair_results(my_paths, dists, torch_all_ranks, title_add=\"\", plot_training=False, n=4, thresholds=np.linspace(0,0.5,11), choose_val=\"full\"):\n",
    "    \n",
    "    perf_list_res = list()\n",
    "    l1_norm_res = list()\n",
    "    \n",
    "    for i, (my_path, dist) in enumerate(zip(my_paths, dists)):\n",
    "        print(f\"path get pair = {my_path}\")\n",
    "        perf_list, l1_norm, l2_norm = get_res(my_path, dist, torch_all_ranks, plot_training=plot_training, type_=\"classic\", n=n, choose_val=choose_val)\n",
    "        print(f\"res get paur ={perf_list}, {l1_norm}\")\n",
    "        perf_list_res.append(perf_list[0]/(n*(n-1)/2))\n",
    "        l1_norm_res.append(l1_norm[0].item()/2)\n",
    "    \n",
    "    return perf_list_res, l1_norm_res\n",
    "    \n",
    "    \n",
    "    \n",
    "    "
   ]
  },
  {
   "cell_type": "code",
   "execution_count": null,
   "id": "50b4fcb9",
   "metadata": {},
   "outputs": [],
   "source": []
  },
  {
   "cell_type": "code",
   "execution_count": 62,
   "id": "96f34bde",
   "metadata": {},
   "outputs": [
    {
     "name": "stdout",
     "output_type": "stream",
     "text": [
      "[<matplotlib.lines.Line2D object at 0x13547f400>, <matplotlib.lines.Line2D object at 0x13547f760>, <matplotlib.lines.Line2D object at 0x1354aac10>]\n"
     ]
    },
    {
     "data": {
      "image/png": "[encoded data removed]",
      "text/plain": [
       "<Figure size 432x288 with 1 Axes>"
      ]
     },
     "metadata": {
      "needs_background": "light"
     },
     "output_type": "display_data"
    }
   ],
   "source": [
    "import matplotlib.pyplot as plt\n",
    "from matplotlib.colors import ListedColormap\n",
    "\n",
    "x = [1, 3, 4, 6, 7, 9]\n",
    "y = [0, 0, 5, 8, 8, 8]\n",
    "classes = [r'$t=0.05$', r'$t=0.1$', r'$t=0.5$']\n",
    "classes2 = [\"A\", \"B\", \"C\"]\n",
    "values = [1/3, 1/3, 2/3, 3/3, 3/3, 3/3]\n",
    "cm = plt.cm.get_cmap('Reds')\n",
    "list_col = [cm(1/3), cm(1/3), cm(2/3), cm(1), cm(1), cm(1)]\n",
    "scatter = plt.scatter(x, y, c=values, cmap=cm, edgecolor=\"black\")\n",
    "plt.legend(handles=scatter.legend_elements()[0], labels=classes, fontsize=12)\n",
    "\n",
    "print(scatter.legend_elements()[0])"
   ]
  },
  {
   "cell_type": "markdown",
   "id": "60f741e4",
   "metadata": {},
   "source": [
    "# Plotting with launcher classic fixed"
   ]
  },
  {
   "cell_type": "markdown",
   "id": "940a0bbe",
   "metadata": {},
   "source": [
    "## Two untied"
   ]
  },
  {
   "cell_type": "markdown",
   "id": "73b17294",
   "metadata": {},
   "source": [
    "### Gap = 0.1"
   ]
  },
  {
   "cell_type": "code",
   "execution_count": 45,
   "id": "bc916ad9",
   "metadata": {},
   "outputs": [
    {
     "name": "stdout",
     "output_type": "stream",
     "text": [
      "['/Users/m.goibert/Documents/Criteo/Projets_Recherche/P5_General_Depth_Fct/depth-functions/perf_robustness_profile/two_untied/perf_robustness_dist=erm_w=two_untied_mix=1.0_gap=0.1_seed=279_delta=1_epochs=10001_dist_type_sym=False_norm_L1_ratio_1.0.pt', '/Users/m.goibert/Documents/Criteo/Projets_Recherche/P5_General_Depth_Fct/depth-functions/perf_robustness_profile/two_untied/perf_robustness_dist=maxpair_w=two_untied_mix=1.0_gap=0.1_seed=279_delta=1_epochs=10001_dist_type_sym=False_norm_L1_ratio_1.0.pt']\n",
      "PTORCh = tensor([[0.6000, 0.4000, 0.0000, 0.0000, 0.0000, 0.0000, 0.0000, 0.0000, 0.0000,\n",
      "         0.0000, 0.0000, 0.0000, 0.0000, 0.0000, 0.0000, 0.0000, 0.0000, 0.0000,\n",
      "         0.0000, 0.0000, 0.0000, 0.0000, 0.0000, 0.0000]], dtype=torch.float64)\n",
      "perf_list = [0.40000012516975403] \n",
      "\n",
      " eps_list1 (l1 norm) = [tensor(0.4022, dtype=torch.float64)]  \n",
      " eps_list2 (l2 norm) = [tensor(0.2066, dtype=torch.float64)] \n",
      "\n",
      " alt_eps_list1 (l1 norm) = [tensor(0.2789, dtype=torch.float64)]  \n",
      " alt_eps_list2 (l2 norm) = [tensor(0.2789, dtype=torch.float64)] \n",
      "\n",
      "\n",
      "normalize l1 norm = [tensor(0.1395, dtype=torch.float64)]\n",
      "for point nb 0 --> l1_norm = [tensor(0.1395, dtype=torch.float64)]\n"
     ]
    },
    {
     "name": "stderr",
     "output_type": "stream",
     "text": [
      "/var/folders/lv/q8rb__s56z713dgsz22yrb4w0000gp/T/ipykernel_98416/708935748.py:9: UserWarning: To copy construct from a tensor, it is recommended to use sourceTensor.clone().detach() or sourceTensor.clone().detach().requires_grad_(True), rather than torch.tensor(sourceTensor).\n",
      "  minval = torch.min( torch.tensor(eps_list1[i]), torch.tensor(alt_eps_list1[i]) )\n",
      "/var/folders/lv/q8rb__s56z713dgsz22yrb4w0000gp/T/ipykernel_98416/708935748.py:10: UserWarning: To copy construct from a tensor, it is recommended to use sourceTensor.clone().detach() or sourceTensor.clone().detach().requires_grad_(True), rather than torch.tensor(sourceTensor).\n",
      "  maxval = torch.max( torch.tensor(eps_list1[i]), torch.tensor(alt_eps_list1[i]) )\n",
      "/var/folders/lv/q8rb__s56z713dgsz22yrb4w0000gp/T/ipykernel_98416/708935748.py:14: UserWarning: To copy construct from a tensor, it is recommended to use sourceTensor.clone().detach() or sourceTensor.clone().detach().requires_grad_(True), rather than torch.tensor(sourceTensor).\n",
      "  l1_norm.append(torch.tensor(alt_eps_list1[i]))\n",
      "/var/folders/lv/q8rb__s56z713dgsz22yrb4w0000gp/T/ipykernel_98416/708935748.py:22: UserWarning: To copy construct from a tensor, it is recommended to use sourceTensor.clone().detach() or sourceTensor.clone().detach().requires_grad_(True), rather than torch.tensor(sourceTensor).\n",
      "  minval = torch.min( torch.tensor(eps_list2[i]), torch.tensor(alt_eps_list2[i]) )\n",
      "/var/folders/lv/q8rb__s56z713dgsz22yrb4w0000gp/T/ipykernel_98416/708935748.py:23: UserWarning: To copy construct from a tensor, it is recommended to use sourceTensor.clone().detach() or sourceTensor.clone().detach().requires_grad_(True), rather than torch.tensor(sourceTensor).\n",
      "  maxval = torch.max( torch.tensor(eps_list2[i]), torch.tensor(alt_eps_list2[i]) )\n",
      "/var/folders/lv/q8rb__s56z713dgsz22yrb4w0000gp/T/ipykernel_98416/708935748.py:27: UserWarning: To copy construct from a tensor, it is recommended to use sourceTensor.clone().detach() or sourceTensor.clone().detach().requires_grad_(True), rather than torch.tensor(sourceTensor).\n",
      "  l2_norm.append(torch.tensor(alt_eps_list2[i]))\n",
      "No artists with labels found to put in legend.  Note that artists whose label start with an underscore are ignored when legend() is called with no argument.\n"
     ]
    },
    {
     "name": "stdout",
     "output_type": "stream",
     "text": [
      "PTORCh = tensor([[0.6000, 0.4000, 0.0000, 0.0000, 0.0000, 0.0000, 0.0000, 0.0000, 0.0000,\n",
      "         0.0000, 0.0000, 0.0000, 0.0000, 0.0000, 0.0000, 0.0000, 0.0000, 0.0000,\n",
      "         0.0000, 0.0000, 0.0000, 0.0000, 0.0000, 0.0000]])\n",
      "perf_list = [0.40000012516975403, 0.5000001341104507, 3.0000000596046448] \n",
      "\n",
      " eps_list1 (l1 norm) = [tensor(0.3029), tensor(0.9043), tensor(1.8606)]  \n",
      " eps_list2 (l2 norm) = [tensor(0.1533), tensor(0.3802), tensor(0.7015)] \n",
      "\n",
      " alt_eps_list1 (l1 norm) = [tensor(0.1710), tensor(0.7656), tensor(1.8471)]  \n",
      " alt_eps_list2 (l2 norm) = [tensor(0.1710), tensor(0.7656), tensor(1.8471)] \n",
      "\n",
      "\n",
      "normalize l1 norm = [tensor(0.0855), tensor(0.3828), tensor(0.9236)]\n",
      "for point nb 1 --> l1_norm = [tensor(0.0855), tensor(0.3828), tensor(0.9236)]\n",
      "scatter legend = [], []\n"
     ]
    },
    {
     "data": {
      "image/png": "[encoded data removed]",
      "text/plain": [
       "<Figure size 504x216 with 1 Axes>"
      ]
     },
     "metadata": {
      "needs_background": "light"
     },
     "output_type": "display_data"
    }
   ],
   "source": [
    "n_items = 4\n",
    "all_ranks = list(itertools.permutations(list(np.arange(n_items))))\n",
    "all_ranks = [np.array(elem) for elem in all_ranks]\n",
    "torch_all_ranks = torch.from_numpy(np.asarray(all_ranks))\n",
    "\n",
    "# Basic (mostly unchanged) parameters\n",
    "delta = 1\n",
    "epochs = 10001\n",
    "dist_type_sym = False\n",
    "norm_type = \"1\"\n",
    "ratio_norm_ = 1.0\n",
    "prefix = \"two_untied/\"\n",
    "\n",
    "# Parameters changing for every exp\n",
    "w = \"two_untied_mix=1.0_gap=0.1_seed=279\"\n",
    "#title_add = r\"Loss vs Robustness Tradeoff ($\\delta = 1$)\"\n",
    "title_add = \"\"\n",
    "thresholds = np.array([0.0500, 0.1010, 0.5000])\n",
    "choose_val=\"alt\"\n",
    "\n",
    "# dist\n",
    "dists = [\"erm\", \"maxpair\"]#, \"merge\"]\n",
    "my_paths = [get_path_exp(dist, w, delta, epochs, dist_type_sym, norm_type, ratio_norm_, prefix=prefix) for dist in dists]\n",
    "print(my_paths)\n",
    "\n",
    "f1 = exp_plot(my_paths, dists, torch_all_ranks, norm=\"L1\", title_add=title_add, plot_training=False, type_=\"classic\", n=4, thresholds=thresholds, choose_val=choose_val)\n",
    "plt.tight_layout()\n",
    "#plt.savefig(f\"/Users/m.goibert/Documents/Criteo/Projets_Recherche/P5_General_Depth_Fct/img_paper/classic_unimodal_n=4_seed=938.png\", dpi=200)\n",
    "\n"
   ]
  },
  {
   "cell_type": "markdown",
   "id": "07a57823",
   "metadata": {},
   "source": [
    "### Gap = 0.01"
   ]
  },
  {
   "cell_type": "code",
   "execution_count": 9,
   "id": "6d540b9b",
   "metadata": {},
   "outputs": [
    {
     "name": "stdout",
     "output_type": "stream",
     "text": [
      "['/Users/m.goibert/Documents/Criteo/Projets_Recherche/P5_General_Depth_Fct/depth-functions/perf_robustness_profile/two_untied/perf_robustness_dist=erm_w=two_untied_mix=0.95_gap=0.01_seed=279_delta=1_epochs=10001_dist_type_sym=False_norm_L1_ratio_1.0.pt', '/Users/m.goibert/Documents/Criteo/Projets_Recherche/P5_General_Depth_Fct/depth-functions/perf_robustness_profile/two_untied/perf_robustness_dist=maxpair_w=two_untied_mix=0.95_gap=0.01_seed=279_delta=1_epochs=10001_dist_type_sym=False_norm_L1_ratio_1.0.pt', '/Users/m.goibert/Documents/Criteo/Projets_Recherche/P5_General_Depth_Fct/depth-functions/perf_robustness_profile/two_untied/perf_robustness_dist=merge_w=two_untied_mix=0.95_gap=0.01_seed=279_delta=1_epochs=10001_dist_type_sym=False_norm_L1_ratio_1.0.pt']\n",
      "PTORCh = tensor([[4.8710e-01, 4.6834e-01, 2.5084e-03, 1.9022e-03, 2.4497e-04, 4.1282e-04,\n",
      "         1.1550e-03, 3.1756e-03, 3.8283e-03, 3.9353e-03, 3.6042e-03, 3.3915e-03,\n",
      "         2.2852e-03, 1.4876e-03, 1.9613e-03, 6.8242e-04, 1.4853e-04, 2.5638e-03,\n",
      "         1.7132e-03, 7.7790e-04, 1.8581e-03, 7.9835e-04, 3.2958e-03, 2.8358e-03]])\n",
      "perf_list = [0.6119546290719882] \n",
      "\n",
      " eps_list1 (l1 norm) = [tensor(0.2424)]  \n",
      " eps_list2 (l2 norm) = [tensor(0.0985)] \n",
      "\n",
      " alt_eps_list1 (l1 norm) = [tensor(0.0690)]  \n",
      " alt_eps_list2 (l2 norm) = [tensor(0.0690)] \n",
      "\n",
      "\n",
      "normalize l1 norm = [tensor(0.0345)]\n",
      "for point nb 0 --> l1_norm = [tensor(0.0345)]\n"
     ]
    },
    {
     "name": "stderr",
     "output_type": "stream",
     "text": [
      "/var/folders/lv/q8rb__s56z713dgsz22yrb4w0000gp/T/ipykernel_98416/708935748.py:9: UserWarning: To copy construct from a tensor, it is recommended to use sourceTensor.clone().detach() or sourceTensor.clone().detach().requires_grad_(True), rather than torch.tensor(sourceTensor).\n",
      "  minval = torch.min( torch.tensor(eps_list1[i]), torch.tensor(alt_eps_list1[i]) )\n",
      "/var/folders/lv/q8rb__s56z713dgsz22yrb4w0000gp/T/ipykernel_98416/708935748.py:10: UserWarning: To copy construct from a tensor, it is recommended to use sourceTensor.clone().detach() or sourceTensor.clone().detach().requires_grad_(True), rather than torch.tensor(sourceTensor).\n",
      "  maxval = torch.max( torch.tensor(eps_list1[i]), torch.tensor(alt_eps_list1[i]) )\n",
      "/var/folders/lv/q8rb__s56z713dgsz22yrb4w0000gp/T/ipykernel_98416/708935748.py:14: UserWarning: To copy construct from a tensor, it is recommended to use sourceTensor.clone().detach() or sourceTensor.clone().detach().requires_grad_(True), rather than torch.tensor(sourceTensor).\n",
      "  l1_norm.append(torch.tensor(alt_eps_list1[i]))\n",
      "/var/folders/lv/q8rb__s56z713dgsz22yrb4w0000gp/T/ipykernel_98416/708935748.py:22: UserWarning: To copy construct from a tensor, it is recommended to use sourceTensor.clone().detach() or sourceTensor.clone().detach().requires_grad_(True), rather than torch.tensor(sourceTensor).\n",
      "  minval = torch.min( torch.tensor(eps_list2[i]), torch.tensor(alt_eps_list2[i]) )\n",
      "/var/folders/lv/q8rb__s56z713dgsz22yrb4w0000gp/T/ipykernel_98416/708935748.py:23: UserWarning: To copy construct from a tensor, it is recommended to use sourceTensor.clone().detach() or sourceTensor.clone().detach().requires_grad_(True), rather than torch.tensor(sourceTensor).\n",
      "  maxval = torch.max( torch.tensor(eps_list2[i]), torch.tensor(alt_eps_list2[i]) )\n",
      "/var/folders/lv/q8rb__s56z713dgsz22yrb4w0000gp/T/ipykernel_98416/708935748.py:27: UserWarning: To copy construct from a tensor, it is recommended to use sourceTensor.clone().detach() or sourceTensor.clone().detach().requires_grad_(True), rather than torch.tensor(sourceTensor).\n",
      "  l2_norm.append(torch.tensor(alt_eps_list2[i]))\n"
     ]
    },
    {
     "name": "stdout",
     "output_type": "stream",
     "text": [
      "PTORCh = tensor([[4.8710e-01, 4.6834e-01, 2.5084e-03, 1.9022e-03, 2.4497e-04, 4.1282e-04,\n",
      "         1.1550e-03, 3.1756e-03, 3.8283e-03, 3.9353e-03, 3.6042e-03, 3.3915e-03,\n",
      "         2.2852e-03, 1.4876e-03, 1.9613e-03, 6.8242e-04, 1.4853e-04, 2.5638e-03,\n",
      "         1.7132e-03, 7.7790e-04, 1.8581e-03, 7.9835e-04, 3.2958e-03, 2.8358e-03]])\n",
      "perf_list = [0.6119546290719882, 0.6215095614825259, 3.0000000423024176] \n",
      "\n",
      " eps_list1 (l1 norm) = [tensor(0.2423), tensor(0.9686), tensor(1.7715)]  \n",
      " eps_list2 (l2 norm) = [tensor(0.0979), tensor(0.4212), tensor(0.6543)] \n",
      "\n",
      " alt_eps_list1 (l1 norm) = [tensor(0.0671), tensor(0.8614), tensor(1.7580)]  \n",
      " alt_eps_list2 (l2 norm) = [tensor(0.0671), tensor(0.8614), tensor(1.7580)] \n",
      "\n",
      "\n",
      "normalize l1 norm = [tensor(0.0335), tensor(0.4307), tensor(0.8790)]\n",
      "for point nb 1 --> l1_norm = [tensor(0.0335), tensor(0.4307), tensor(0.8790)]\n",
      "PTORCh = tensor([[4.8710e-01, 4.6834e-01, 2.5084e-03, 1.9022e-03, 2.4497e-04, 4.1282e-04,\n",
      "         1.1550e-03, 3.1756e-03, 3.8283e-03, 3.9353e-03, 3.6042e-03, 3.3915e-03,\n",
      "         2.2852e-03, 1.4876e-03, 1.9613e-03, 6.8242e-04, 1.4853e-04, 2.5638e-03,\n",
      "         1.7132e-03, 7.7790e-04, 1.8581e-03, 7.9835e-04, 3.2958e-03, 2.8358e-03]])\n",
      "perf_list = [0.6119546290719882, 0.6215095614825259, 3.0000000423024176] \n",
      "\n",
      " eps_list1 (l1 norm) = [tensor(0.2421), tensor(0.9849), tensor(1.7715)]  \n",
      " eps_list2 (l2 norm) = [tensor(0.0980), tensor(0.4089), tensor(0.6543)] \n",
      "\n",
      " alt_eps_list1 (l1 norm) = [tensor(0.0670), tensor(0.8653), tensor(1.7580)]  \n",
      " alt_eps_list2 (l2 norm) = [tensor(0.0670), tensor(0.8653), tensor(1.7580)] \n",
      "\n",
      "\n",
      "normalize l1 norm = [tensor(0.0335), tensor(0.4326), tensor(0.8790)]\n",
      "for point nb 2 --> l1_norm = [tensor(0.0335), tensor(0.4326), tensor(0.8790)]\n"
     ]
    },
    {
     "data": {
      "image/png": "[encoded data removed]",
      "text/plain": [
       "<Figure size 432x216 with 2 Axes>"
      ]
     },
     "metadata": {
      "needs_background": "light"
     },
     "output_type": "display_data"
    }
   ],
   "source": [
    "n_items = 4\n",
    "all_ranks = list(itertools.permutations(list(np.arange(n_items))))\n",
    "all_ranks = [np.array(elem) for elem in all_ranks]\n",
    "torch_all_ranks = torch.from_numpy(np.asarray(all_ranks))\n",
    "\n",
    "# Basic (mostly unchanged) parameters\n",
    "delta = 1\n",
    "epochs = 10001\n",
    "dist_type_sym = False\n",
    "norm_type = \"1\"\n",
    "ratio_norm_ = 1.0\n",
    "prefix = \"two_untied/\"\n",
    "\n",
    "# Parameters changing for every exp\n",
    "w = \"two_untied_mix=0.95_gap=0.01_seed=279\"\n",
    "title_add = \"Loss vs Robustness Tradeoff - Unimodal - Delta=1\"\n",
    "#thresholds = np.array([0.0500, 0.1010, 0.5000])\n",
    "thresholds = np.array([0.001, 0.0101, 0.5])\n",
    "choose_val=\"alt\"\n",
    "\n",
    "# dist\n",
    "dists = [\"erm\", \"maxpair\", \"merge\"]\n",
    "my_paths = [get_path_exp(dist, w, delta, epochs, dist_type_sym, norm_type, ratio_norm_, prefix=prefix) for dist in dists]\n",
    "print(my_paths)\n",
    "\n",
    "f1 = exp_plot(my_paths, dists, torch_all_ranks, norm=\"L1\", title_add=title_add, plot_training=False, type_=\"classic\", n=4, thresholds=thresholds, choose_val=choose_val)\n",
    "plt.tight_layout()\n",
    "#plt.savefig(f\"/Users/m.goibert/Documents/Criteo/Projets_Recherche/P5_General_Depth_Fct/img_paper/classic_unimodal_n=4_seed=938.png\", dpi=200)\n"
   ]
  },
  {
   "cell_type": "markdown",
   "id": "31f6246b",
   "metadata": {},
   "source": [
    "### Multimodal"
   ]
  },
  {
   "cell_type": "code",
   "execution_count": 11,
   "id": "33d0e74b",
   "metadata": {},
   "outputs": [
    {
     "name": "stdout",
     "output_type": "stream",
     "text": [
      "['/Users/m.goibert/Documents/Criteo/Projets_Recherche/P5_General_Depth_Fct/depth-functions/perf_robustness_profile/multimodal_sst/perf_robustness_dist=erm_w=multimodal_sst_m=1.0_seed=279_n=4_delta=1_epochs=10001_dist_type_sym=False_norm_L1_ratio_1.0.pt', '/Users/m.goibert/Documents/Criteo/Projets_Recherche/P5_General_Depth_Fct/depth-functions/perf_robustness_profile/multimodal_sst/perf_robustness_dist=maxpair_w=multimodal_sst_m=1.0_seed=279_n=4_delta=1_epochs=10001_dist_type_sym=False_norm_L1_ratio_1.0.pt']\n",
      "PTORCh = tensor([[0.1219, 0.1026, 0.0595, 0.0398, 0.0477, 0.0351, 0.0284, 0.0251, 0.0179,\n",
      "         0.0307, 0.0173, 0.0329, 0.0290, 0.0408, 0.0225, 0.0367, 0.0490, 0.0501,\n",
      "         0.0227, 0.0328, 0.0208, 0.0400, 0.0457, 0.0509]])\n",
      "perf_list = [2.6904711816459894] \n",
      "\n",
      " eps_list1 (l1 norm) = [tensor(0.0102)]  \n",
      " eps_list2 (l2 norm) = [tensor(0.0039)] \n",
      "\n",
      " alt_eps_list1 (l1 norm) = [tensor(0.0002)]  \n",
      " alt_eps_list2 (l2 norm) = [tensor(0.0002)] \n",
      "\n",
      "\n",
      "normalize l1 norm = [tensor(9.5382e-05)]\n",
      "for point nb 0 --> l1_norm = [tensor(9.5382e-05)]\n"
     ]
    },
    {
     "name": "stderr",
     "output_type": "stream",
     "text": [
      "/var/folders/lv/q8rb__s56z713dgsz22yrb4w0000gp/T/ipykernel_98416/708935748.py:9: UserWarning: To copy construct from a tensor, it is recommended to use sourceTensor.clone().detach() or sourceTensor.clone().detach().requires_grad_(True), rather than torch.tensor(sourceTensor).\n",
      "  minval = torch.min( torch.tensor(eps_list1[i]), torch.tensor(alt_eps_list1[i]) )\n",
      "/var/folders/lv/q8rb__s56z713dgsz22yrb4w0000gp/T/ipykernel_98416/708935748.py:10: UserWarning: To copy construct from a tensor, it is recommended to use sourceTensor.clone().detach() or sourceTensor.clone().detach().requires_grad_(True), rather than torch.tensor(sourceTensor).\n",
      "  maxval = torch.max( torch.tensor(eps_list1[i]), torch.tensor(alt_eps_list1[i]) )\n",
      "/var/folders/lv/q8rb__s56z713dgsz22yrb4w0000gp/T/ipykernel_98416/708935748.py:14: UserWarning: To copy construct from a tensor, it is recommended to use sourceTensor.clone().detach() or sourceTensor.clone().detach().requires_grad_(True), rather than torch.tensor(sourceTensor).\n",
      "  l1_norm.append(torch.tensor(alt_eps_list1[i]))\n",
      "/var/folders/lv/q8rb__s56z713dgsz22yrb4w0000gp/T/ipykernel_98416/708935748.py:22: UserWarning: To copy construct from a tensor, it is recommended to use sourceTensor.clone().detach() or sourceTensor.clone().detach().requires_grad_(True), rather than torch.tensor(sourceTensor).\n",
      "  minval = torch.min( torch.tensor(eps_list2[i]), torch.tensor(alt_eps_list2[i]) )\n",
      "/var/folders/lv/q8rb__s56z713dgsz22yrb4w0000gp/T/ipykernel_98416/708935748.py:23: UserWarning: To copy construct from a tensor, it is recommended to use sourceTensor.clone().detach() or sourceTensor.clone().detach().requires_grad_(True), rather than torch.tensor(sourceTensor).\n",
      "  maxval = torch.max( torch.tensor(eps_list2[i]), torch.tensor(alt_eps_list2[i]) )\n",
      "/var/folders/lv/q8rb__s56z713dgsz22yrb4w0000gp/T/ipykernel_98416/708935748.py:27: UserWarning: To copy construct from a tensor, it is recommended to use sourceTensor.clone().detach() or sourceTensor.clone().detach().requires_grad_(True), rather than torch.tensor(sourceTensor).\n",
      "  l2_norm.append(torch.tensor(alt_eps_list2[i]))\n"
     ]
    },
    {
     "name": "stdout",
     "output_type": "stream",
     "text": [
      "PTORCh = tensor([[0.1219, 0.1026, 0.0595, 0.0398, 0.0477, 0.0351, 0.0284, 0.0251, 0.0179,\n",
      "         0.0307, 0.0173, 0.0329, 0.0290, 0.0408, 0.0225, 0.0367, 0.0490, 0.0501,\n",
      "         0.0227, 0.0328, 0.0208, 0.0400, 0.0457, 0.0509]])\n",
      "perf_list = [2.698580304160714, 2.7493435703217983, 2.8789789397269487, 2.999999977648258, 2.999999977648258, 2.999999977648258] \n",
      "\n",
      " eps_list1 (l1 norm) = [tensor(0.0102), tensor(0.0102), tensor(0.0102), tensor(0.3368), tensor(0.3368), tensor(0.3368)]  \n",
      " eps_list2 (l2 norm) = [tensor(0.0039), tensor(0.0039), tensor(0.0039), tensor(0.1099), tensor(0.1099), tensor(0.1099)] \n",
      "\n",
      " alt_eps_list1 (l1 norm) = [tensor(6.1797e-05), tensor(0.0001), tensor(5.4307e-05), tensor(0.3511), tensor(0.3511), tensor(0.3511)]  \n",
      " alt_eps_list2 (l2 norm) = [tensor(6.1797e-05), tensor(0.0001), tensor(5.4307e-05), tensor(0.3511), tensor(0.3511), tensor(0.3511)] \n",
      "\n",
      "\n",
      "normalize l1 norm = [tensor(3.0898e-05), tensor(7.1406e-05), tensor(2.7154e-05), tensor(0.1756), tensor(0.1756), tensor(0.1756)]\n",
      "for point nb 1 --> l1_norm = [tensor(3.0898e-05), tensor(7.1406e-05), tensor(2.7154e-05), tensor(0.1756), tensor(0.1756), tensor(0.1756)]\n"
     ]
    },
    {
     "data": {
      "image/png": "[encoded data removed]",
      "text/plain": [
       "<Figure size 432x216 with 2 Axes>"
      ]
     },
     "metadata": {
      "needs_background": "light"
     },
     "output_type": "display_data"
    }
   ],
   "source": [
    "n_items = 4\n",
    "all_ranks = list(itertools.permutations(list(np.arange(n_items))))\n",
    "all_ranks = [np.array(elem) for elem in all_ranks]\n",
    "torch_all_ranks = torch.from_numpy(np.asarray(all_ranks))\n",
    "\n",
    "# Basic (mostly unchanged) parameters\n",
    "delta = 1\n",
    "epochs = 10001\n",
    "dist_type_sym = False\n",
    "norm_type = \"1\"\n",
    "ratio_norm_ = 1.0\n",
    "prefix = \"multimodal_sst/\"\n",
    "\n",
    "# Parameters changing for every exp\n",
    "w = \"multimodal_sst_m=1.0_seed=279_n=4\"\n",
    "title_add = \"Loss vs Robustness Tradeoff - Unimodal - Delta=1\"\n",
    "thresholds = np.array([0.009, 0.03, 0.06, 0.075, 0.13, 0.5])\n",
    "choose_val=\"alt\"\n",
    "\n",
    "# dist\n",
    "dists = [\"erm\", \"maxpair\"]#, \"merge\"]\n",
    "my_paths = [get_path_exp(dist, w, delta, epochs, dist_type_sym, norm_type, ratio_norm_, prefix=prefix) for dist in dists]\n",
    "print(my_paths)\n",
    "\n",
    "f1 = exp_plot(my_paths, dists, torch_all_ranks, norm=\"L1\", title_add=title_add, plot_training=False, type_=\"classic\", n=4, thresholds=thresholds, choose_val=choose_val)\n",
    "plt.tight_layout()\n",
    "#plt.savefig(f\"/Users/m.goibert/Documents/Criteo/Projets_Recherche/P5_General_Depth_Fct/img_paper/classic_unimodal_n=4_seed=938.png\", dpi=200)\n"
   ]
  },
  {
   "cell_type": "markdown",
   "id": "7b8a23c8",
   "metadata": {},
   "source": [
    "### Peaked"
   ]
  },
  {
   "cell_type": "code",
   "execution_count": 12,
   "id": "fc7abcf7",
   "metadata": {},
   "outputs": [
    {
     "name": "stdout",
     "output_type": "stream",
     "text": [
      "PTORCh = tensor([[9.6459e-01, 3.4842e-02, 9.0614e-06, 2.9676e-12, 3.2731e-07, 2.9676e-12,\n",
      "         5.4236e-04, 1.9591e-05, 2.8648e-12, 5.2753e-22, 1.0348e-13, 5.2753e-22,\n",
      "         5.0922e-09, 1.6677e-15, 2.8632e-12, 5.2724e-22, 9.3716e-19, 5.2694e-22,\n",
      "         1.8394e-10, 1.6677e-15, 1.0342e-13, 5.2724e-22, 9.3716e-19, 5.2694e-22]],\n",
      "       dtype=torch.float64)\n",
      "perf_list = [0.03543361728953287] \n",
      "\n",
      " eps_list1 (l1 norm) = [tensor(1.9251, dtype=torch.float64)]  \n",
      " eps_list2 (l2 norm) = [tensor(0.9967, dtype=torch.float64)] \n",
      "\n",
      " alt_eps_list1 (l1 norm) = [tensor(1.9291, dtype=torch.float64)]  \n",
      " alt_eps_list2 (l2 norm) = [tensor(1.9291, dtype=torch.float64)] \n",
      "\n",
      "\n",
      "normalize l1 norm = [tensor(0.9625, dtype=torch.float64)]\n",
      "for point nb 0 --> l1_norm = [tensor(0.9625, dtype=torch.float64)]\n"
     ]
    },
    {
     "name": "stderr",
     "output_type": "stream",
     "text": [
      "/var/folders/lv/q8rb__s56z713dgsz22yrb4w0000gp/T/ipykernel_98416/708935748.py:9: UserWarning: To copy construct from a tensor, it is recommended to use sourceTensor.clone().detach() or sourceTensor.clone().detach().requires_grad_(True), rather than torch.tensor(sourceTensor).\n",
      "  minval = torch.min( torch.tensor(eps_list1[i]), torch.tensor(alt_eps_list1[i]) )\n",
      "/var/folders/lv/q8rb__s56z713dgsz22yrb4w0000gp/T/ipykernel_98416/708935748.py:10: UserWarning: To copy construct from a tensor, it is recommended to use sourceTensor.clone().detach() or sourceTensor.clone().detach().requires_grad_(True), rather than torch.tensor(sourceTensor).\n",
      "  maxval = torch.max( torch.tensor(eps_list1[i]), torch.tensor(alt_eps_list1[i]) )\n",
      "/var/folders/lv/q8rb__s56z713dgsz22yrb4w0000gp/T/ipykernel_98416/708935748.py:12: UserWarning: To copy construct from a tensor, it is recommended to use sourceTensor.clone().detach() or sourceTensor.clone().detach().requires_grad_(True), rather than torch.tensor(sourceTensor).\n",
      "  l1_norm.append(torch.tensor(eps_list1[i]))\n",
      "/var/folders/lv/q8rb__s56z713dgsz22yrb4w0000gp/T/ipykernel_98416/708935748.py:22: UserWarning: To copy construct from a tensor, it is recommended to use sourceTensor.clone().detach() or sourceTensor.clone().detach().requires_grad_(True), rather than torch.tensor(sourceTensor).\n",
      "  minval = torch.min( torch.tensor(eps_list2[i]), torch.tensor(alt_eps_list2[i]) )\n",
      "/var/folders/lv/q8rb__s56z713dgsz22yrb4w0000gp/T/ipykernel_98416/708935748.py:23: UserWarning: To copy construct from a tensor, it is recommended to use sourceTensor.clone().detach() or sourceTensor.clone().detach().requires_grad_(True), rather than torch.tensor(sourceTensor).\n",
      "  maxval = torch.max( torch.tensor(eps_list2[i]), torch.tensor(alt_eps_list2[i]) )\n",
      "/var/folders/lv/q8rb__s56z713dgsz22yrb4w0000gp/T/ipykernel_98416/708935748.py:25: UserWarning: To copy construct from a tensor, it is recommended to use sourceTensor.clone().detach() or sourceTensor.clone().detach().requires_grad_(True), rather than torch.tensor(sourceTensor).\n",
      "  l2_norm.append(torch.tensor(eps_list2[i]))\n"
     ]
    },
    {
     "name": "stdout",
     "output_type": "stream",
     "text": [
      "PTORCh = tensor([[9.6459e-01, 3.4842e-02, 9.0614e-06, 2.9676e-12, 3.2731e-07, 2.9676e-12,\n",
      "         5.4236e-04, 1.9591e-05, 2.8648e-12, 5.2753e-22, 1.0348e-13, 5.2753e-22,\n",
      "         5.0922e-09, 1.6677e-15, 2.8632e-12, 5.2724e-22, 9.3716e-19, 5.2694e-22,\n",
      "         1.8394e-10, 1.6677e-15, 1.0342e-13, 5.2724e-22, 9.3716e-19, 5.2694e-22]],\n",
      "       dtype=torch.float64)\n",
      "perf_list = [0.03543361728953287, 0.5005713541582666, 0.5005713541582666, 2.999999999999999] \n",
      "\n",
      " eps_list1 (l1 norm) = [tensor(1.1944, dtype=torch.float64), tensor(0.1981, dtype=torch.float64), tensor(0.1795, dtype=torch.float64), tensor(1.9286, dtype=torch.float64)]  \n",
      " eps_list2 (l2 norm) = [tensor(0.6359, dtype=torch.float64), tensor(0.0874, dtype=torch.float64), tensor(0.0918, dtype=torch.float64), tensor(0.9856, dtype=torch.float64)] \n",
      "\n",
      " alt_eps_list1 (l1 norm) = [tensor(1.0144, dtype=torch.float64), tensor(0.0487, dtype=torch.float64), tensor(0.0173, dtype=torch.float64), tensor(1.9291, dtype=torch.float64)]  \n",
      " alt_eps_list2 (l2 norm) = [tensor(1.0144, dtype=torch.float64), tensor(0.0487, dtype=torch.float64), tensor(0.0173, dtype=torch.float64), tensor(1.9291, dtype=torch.float64)] \n",
      "\n",
      "\n",
      "normalize l1 norm = [tensor(0.5972, dtype=torch.float64), tensor(0.0991, dtype=torch.float64), tensor(0.0898, dtype=torch.float64), tensor(0.9643, dtype=torch.float64)]\n",
      "for point nb 1 --> l1_norm = [tensor(0.5972, dtype=torch.float64), tensor(0.0991, dtype=torch.float64), tensor(0.0898, dtype=torch.float64), tensor(0.9643, dtype=torch.float64)]\n",
      "PTORCh = tensor([[9.6459e-01, 3.4842e-02, 9.0614e-06, 2.9676e-12, 3.2731e-07, 2.9676e-12,\n",
      "         5.4236e-04, 1.9591e-05, 2.8648e-12, 5.2753e-22, 1.0348e-13, 5.2753e-22,\n",
      "         5.0922e-09, 1.6677e-15, 2.8632e-12, 5.2724e-22, 9.3716e-19, 5.2694e-22,\n",
      "         1.8394e-10, 1.6677e-15, 1.0342e-13, 5.2724e-22, 9.3716e-19, 5.2694e-22]],\n",
      "       dtype=torch.float64)\n",
      "perf_list = [0.03543361728953287, 0.5005713541582666, 0.5005713541582666, 2.999999999999999] \n",
      "\n",
      " eps_list1 (l1 norm) = [tensor(1.1026, dtype=torch.float64), tensor(0.2070, dtype=torch.float64), tensor(0.1802, dtype=torch.float64), tensor(1.9286, dtype=torch.float64)]  \n",
      " eps_list2 (l2 norm) = [tensor(0.6152, dtype=torch.float64), tensor(0.0884, dtype=torch.float64), tensor(0.0921, dtype=torch.float64), tensor(0.9856, dtype=torch.float64)] \n",
      "\n",
      " alt_eps_list1 (l1 norm) = [tensor(0.9576, dtype=torch.float64), tensor(0.0568, dtype=torch.float64), tensor(0.0173, dtype=torch.float64), tensor(1.9291, dtype=torch.float64)]  \n",
      " alt_eps_list2 (l2 norm) = [tensor(0.9576, dtype=torch.float64), tensor(0.0568, dtype=torch.float64), tensor(0.0173, dtype=torch.float64), tensor(1.9291, dtype=torch.float64)] \n",
      "\n",
      "\n",
      "normalize l1 norm = [tensor(0.5513, dtype=torch.float64), tensor(0.1035, dtype=torch.float64), tensor(0.0901, dtype=torch.float64), tensor(0.9643, dtype=torch.float64)]\n",
      "for point nb 2 --> l1_norm = [tensor(0.5513, dtype=torch.float64), tensor(0.1035, dtype=torch.float64), tensor(0.0901, dtype=torch.float64), tensor(0.9643, dtype=torch.float64)]\n"
     ]
    },
    {
     "data": {
      "image/png": "[encoded data removed]",
      "text/plain": [
       "<Figure size 432x216 with 2 Axes>"
      ]
     },
     "metadata": {
      "needs_background": "light"
     },
     "output_type": "display_data"
    }
   ],
   "source": [
    "# Basic (mostly unchanged) parameters\n",
    "n_items = 4\n",
    "all_ranks = list(itertools.permutations(list(np.arange(n_items))))\n",
    "all_ranks = [np.array(elem) for elem in all_ranks]\n",
    "torch_all_ranks = torch.from_numpy(np.asarray(all_ranks))\n",
    "\n",
    "delta = 1\n",
    "epochs = 10001\n",
    "dist_type_sym = False\n",
    "norm_type = \"1\"\n",
    "ratio_norm_ = 1.0\n",
    "prefix = \"unimodal/\"\n",
    "seed_val = 279\n",
    "choose_val = \"full\"\n",
    "\n",
    "# Parameters changing for every exp seed = 279\n",
    "m = 10\n",
    "w = \"[2.2831823e-01 1.2837668e-04 1.1639423e-09 4.2043390e-11]\"\n",
    "title_add = \"\"\n",
    "\n",
    "thresholds = np.array([0.01, 0.47, 0.495, 0.5])\n",
    "\n",
    "# dist\n",
    "dists = [\"erm\", \"maxpair\", \"merge\"]\n",
    "my_paths = [get_path_exp(dist, w, delta, epochs, dist_type_sym, norm_type, ratio_norm_, prefix=prefix) for dist in dists]\n",
    "\n",
    "f1 = exp_plot(my_paths, dists, torch_all_ranks, norm=\"L1\", title_add=title_add, plot_training=False, type_=\"classic\", n=n_items, thresholds=thresholds, choose_val=choose_val)\n",
    "#plt.tight_layout()\n",
    "#plt.savefig(f\"/Users/m.goibert/Documents/Criteo/Projets_Recherche/P5_General_Depth_Fct/img_paper/classic_dirac_n=4_seed=279.png\", dpi=200)\n",
    "\n",
    "\n",
    "  "
   ]
  },
  {
   "cell_type": "markdown",
   "id": "ee3de448",
   "metadata": {},
   "source": [
    "## Uniform"
   ]
  },
  {
   "cell_type": "code",
   "execution_count": 13,
   "id": "e1433926",
   "metadata": {},
   "outputs": [
    {
     "name": "stdout",
     "output_type": "stream",
     "text": [
      "PTORCh = tensor([[0.0426, 0.0425, 0.0424, 0.0417, 0.0422, 0.0417, 0.0425, 0.0424, 0.0421,\n",
      "         0.0412, 0.0419, 0.0411, 0.0421, 0.0415, 0.0419, 0.0410, 0.0410, 0.0407,\n",
      "         0.0419, 0.0414, 0.0417, 0.0409, 0.0410, 0.0407]], dtype=torch.float64)\n",
      "perf_list = [2.9802862798290857] \n",
      "\n",
      " eps_list1 (l1 norm) = [tensor(0.0014, dtype=torch.float64)]  \n",
      " eps_list2 (l2 norm) = [tensor(0.0003, dtype=torch.float64)] \n",
      "\n",
      " alt_eps_list1 (l1 norm) = [tensor(0.0011, dtype=torch.float64)]  \n",
      " alt_eps_list2 (l2 norm) = [tensor(0.0011, dtype=torch.float64)] \n",
      "\n",
      "\n",
      "normalize l1 norm = [tensor(0.0007, dtype=torch.float64)]\n",
      "for point nb 0 --> l1_norm = [tensor(0.0007, dtype=torch.float64)]\n"
     ]
    },
    {
     "name": "stderr",
     "output_type": "stream",
     "text": [
      "/var/folders/lv/q8rb__s56z713dgsz22yrb4w0000gp/T/ipykernel_98416/708935748.py:9: UserWarning: To copy construct from a tensor, it is recommended to use sourceTensor.clone().detach() or sourceTensor.clone().detach().requires_grad_(True), rather than torch.tensor(sourceTensor).\n",
      "  minval = torch.min( torch.tensor(eps_list1[i]), torch.tensor(alt_eps_list1[i]) )\n",
      "/var/folders/lv/q8rb__s56z713dgsz22yrb4w0000gp/T/ipykernel_98416/708935748.py:10: UserWarning: To copy construct from a tensor, it is recommended to use sourceTensor.clone().detach() or sourceTensor.clone().detach().requires_grad_(True), rather than torch.tensor(sourceTensor).\n",
      "  maxval = torch.max( torch.tensor(eps_list1[i]), torch.tensor(alt_eps_list1[i]) )\n",
      "/var/folders/lv/q8rb__s56z713dgsz22yrb4w0000gp/T/ipykernel_98416/708935748.py:12: UserWarning: To copy construct from a tensor, it is recommended to use sourceTensor.clone().detach() or sourceTensor.clone().detach().requires_grad_(True), rather than torch.tensor(sourceTensor).\n",
      "  l1_norm.append(torch.tensor(eps_list1[i]))\n",
      "/var/folders/lv/q8rb__s56z713dgsz22yrb4w0000gp/T/ipykernel_98416/708935748.py:22: UserWarning: To copy construct from a tensor, it is recommended to use sourceTensor.clone().detach() or sourceTensor.clone().detach().requires_grad_(True), rather than torch.tensor(sourceTensor).\n",
      "  minval = torch.min( torch.tensor(eps_list2[i]), torch.tensor(alt_eps_list2[i]) )\n",
      "/var/folders/lv/q8rb__s56z713dgsz22yrb4w0000gp/T/ipykernel_98416/708935748.py:23: UserWarning: To copy construct from a tensor, it is recommended to use sourceTensor.clone().detach() or sourceTensor.clone().detach().requires_grad_(True), rather than torch.tensor(sourceTensor).\n",
      "  maxval = torch.max( torch.tensor(eps_list2[i]), torch.tensor(alt_eps_list2[i]) )\n",
      "/var/folders/lv/q8rb__s56z713dgsz22yrb4w0000gp/T/ipykernel_98416/708935748.py:25: UserWarning: To copy construct from a tensor, it is recommended to use sourceTensor.clone().detach() or sourceTensor.clone().detach().requires_grad_(True), rather than torch.tensor(sourceTensor).\n",
      "  l2_norm.append(torch.tensor(eps_list2[i]))\n"
     ]
    },
    {
     "name": "stdout",
     "output_type": "stream",
     "text": [
      "PTORCh = tensor([[0.0426, 0.0425, 0.0424, 0.0417, 0.0422, 0.0417, 0.0425, 0.0424, 0.0421,\n",
      "         0.0412, 0.0419, 0.0411, 0.0421, 0.0415, 0.0419, 0.0410, 0.0410, 0.0407,\n",
      "         0.0419, 0.0414, 0.0417, 0.0409, 0.0410, 0.0407]], dtype=torch.float64)\n",
      "perf_list = [2.9802862798290857, 2.981116496611806, 3.0] \n",
      "\n",
      " eps_list1 (l1 norm) = [tensor(0.0011, dtype=torch.float64), tensor(0.0006, dtype=torch.float64), tensor(0.0074, dtype=torch.float64)]  \n",
      " eps_list2 (l2 norm) = [tensor(0.0003, dtype=torch.float64), tensor(0.0002, dtype=torch.float64), tensor(0.0016, dtype=torch.float64)] \n",
      "\n",
      " alt_eps_list1 (l1 norm) = [tensor(0.0013, dtype=torch.float64), tensor(0.0008, dtype=torch.float64), tensor(0.0064, dtype=torch.float64)]  \n",
      " alt_eps_list2 (l2 norm) = [tensor(0.0013, dtype=torch.float64), tensor(0.0008, dtype=torch.float64), tensor(0.0064, dtype=torch.float64)] \n",
      "\n",
      "\n",
      "normalize l1 norm = [tensor(0.0006, dtype=torch.float64), tensor(0.0003, dtype=torch.float64), tensor(0.0037, dtype=torch.float64)]\n",
      "for point nb 1 --> l1_norm = [tensor(0.0006, dtype=torch.float64), tensor(0.0003, dtype=torch.float64), tensor(0.0037, dtype=torch.float64)]\n",
      "PTORCh = tensor([[0.0426, 0.0425, 0.0424, 0.0417, 0.0422, 0.0417, 0.0425, 0.0424, 0.0421,\n",
      "         0.0412, 0.0419, 0.0411, 0.0421, 0.0415, 0.0419, 0.0410, 0.0410, 0.0407,\n",
      "         0.0419, 0.0414, 0.0417, 0.0409, 0.0410, 0.0407]], dtype=torch.float64)\n",
      "perf_list = [2.9802862798290857, 2.981116496611806, 3.0] \n",
      "\n",
      " eps_list1 (l1 norm) = [tensor(0.0009, dtype=torch.float64), tensor(0.0008, dtype=torch.float64), tensor(0.0073, dtype=torch.float64)]  \n",
      " eps_list2 (l2 norm) = [tensor(0.0002, dtype=torch.float64), tensor(0.0002, dtype=torch.float64), tensor(0.0016, dtype=torch.float64)] \n",
      "\n",
      " alt_eps_list1 (l1 norm) = [tensor(0.0009, dtype=torch.float64), tensor(0.0010, dtype=torch.float64), tensor(0.0064, dtype=torch.float64)]  \n",
      " alt_eps_list2 (l2 norm) = [tensor(0.0009, dtype=torch.float64), tensor(0.0010, dtype=torch.float64), tensor(0.0064, dtype=torch.float64)] \n",
      "\n",
      "\n",
      "normalize l1 norm = [tensor(0.0004, dtype=torch.float64), tensor(0.0004, dtype=torch.float64), tensor(0.0037, dtype=torch.float64)]\n",
      "for point nb 2 --> l1_norm = [tensor(0.0004, dtype=torch.float64), tensor(0.0004, dtype=torch.float64), tensor(0.0037, dtype=torch.float64)]\n"
     ]
    },
    {
     "data": {
      "image/png": "[encoded data removed]",
      "text/plain": [
       "<Figure size 432x216 with 2 Axes>"
      ]
     },
     "metadata": {
      "needs_background": "light"
     },
     "output_type": "display_data"
    }
   ],
   "source": [
    "# Basic (mostly unchanged) parameters\n",
    "delta = 1\n",
    "epochs = 10001\n",
    "dist_type_sym = False\n",
    "norm_type = \"1\"\n",
    "ratio_norm_ = 1.0\n",
    "prefix = \"unimodal/\"\n",
    "seed_val = 279\n",
    "n_items = 4\n",
    "all_ranks = list(itertools.permutations(list(np.arange(n_items))))\n",
    "all_ranks = [np.array(elem) for elem in all_ranks]\n",
    "torch_all_ranks = torch.from_numpy(np.asarray(all_ranks))\n",
    "\n",
    "choose_val = \"full\"\n",
    "\n",
    "# Parameters changing for every exp seed = 279\n",
    "m = 0.01\n",
    "w = f\"[0.99852407 0.9910795  0.9796387  0.97639084]\"\n",
    "title_add = \"\"\n",
    "\n",
    "thresholds = np.array([2.0000e-04, 1.0000e-03, 5.0000e-01])\n",
    "\n",
    "# dist\n",
    "dists = [\"erm\", \"maxpair\", \"merge\"]\n",
    "my_paths = [get_path_exp(dist, w, delta, epochs, dist_type_sym, norm_type, ratio_norm_, prefix=prefix) for dist in dists]\n",
    "\n",
    "f1 = exp_plot(my_paths, dists, torch_all_ranks, norm=\"L1\", title_add=title_add, plot_training=False, type_=\"classic\", n=n_items, thresholds=thresholds, choose_val=choose_val)\n",
    "#plt.tight_layout()\n",
    "#plt.savefig(f\"/Users/m.goibert/Documents/Criteo/Projets_Recherche/P5_General_Depth_Fct/img_paper/classic_uniform_n=4_seed=279.png\", dpi=200)\n",
    "\n",
    "                      "
   ]
  },
  {
   "cell_type": "markdown",
   "id": "8219b877",
   "metadata": {},
   "source": [
    "# Random Plackett Luce"
   ]
  },
  {
   "cell_type": "code",
   "execution_count": 90,
   "id": "a51f1fb8",
   "metadata": {},
   "outputs": [
    {
     "name": "stdout",
     "output_type": "stream",
     "text": [
      "PTORCh = tensor([[0.1088, 0.0678, 0.0781, 0.0298, 0.0418, 0.0255, 0.1045, 0.0652, 0.0709,\n",
      "         0.0250, 0.0382, 0.0216, 0.0632, 0.0241, 0.0597, 0.0210, 0.0160, 0.0148,\n",
      "         0.0309, 0.0189, 0.0294, 0.0166, 0.0146, 0.0135]], dtype=torch.float64)\n",
      "perf_list = [2.1413761003903655] \n",
      "\n",
      " eps_list1 (l1 norm) = [tensor(0.0255, dtype=torch.float64)]  \n",
      " eps_list2 (l2 norm) = [tensor(0.0055, dtype=torch.float64)] \n",
      "\n",
      " alt_eps_list1 (l1 norm) = [tensor(0.0281, dtype=torch.float64)]  \n",
      " alt_eps_list2 (l2 norm) = [tensor(0.0281, dtype=torch.float64)] \n",
      "\n",
      "\n",
      "PTORCh = tensor([[0.1088, 0.0678, 0.0781, 0.0298, 0.0418, 0.0255, 0.1045, 0.0652, 0.0709,\n",
      "         0.0250, 0.0382, 0.0216, 0.0632, 0.0241, 0.0597, 0.0210, 0.0160, 0.0148,\n",
      "         0.0309, 0.0189, 0.0294, 0.0166, 0.0146, 0.0135]], dtype=torch.float64)\n",
      "perf_list = [2.1608390305320806] \n",
      "\n",
      " eps_list1 (l1 norm) = [tensor(0.2816, dtype=torch.float64)]  \n",
      " eps_list2 (l2 norm) = [tensor(0.0722, dtype=torch.float64)] \n",
      "\n",
      " alt_eps_list1 (l1 norm) = [tensor(0.2518, dtype=torch.float64)]  \n",
      " alt_eps_list2 (l2 norm) = [tensor(0.2518, dtype=torch.float64)] \n",
      "\n",
      "\n"
     ]
    },
    {
     "name": "stderr",
     "output_type": "stream",
     "text": [
      "/var/folders/lv/q8rb__s56z713dgsz22yrb4w0000gp/T/ipykernel_98416/708935748.py:9: UserWarning: To copy construct from a tensor, it is recommended to use sourceTensor.clone().detach() or sourceTensor.clone().detach().requires_grad_(True), rather than torch.tensor(sourceTensor).\n",
      "  minval = torch.min( torch.tensor(eps_list1[i]), torch.tensor(alt_eps_list1[i]) )\n",
      "/var/folders/lv/q8rb__s56z713dgsz22yrb4w0000gp/T/ipykernel_98416/708935748.py:10: UserWarning: To copy construct from a tensor, it is recommended to use sourceTensor.clone().detach() or sourceTensor.clone().detach().requires_grad_(True), rather than torch.tensor(sourceTensor).\n",
      "  maxval = torch.max( torch.tensor(eps_list1[i]), torch.tensor(alt_eps_list1[i]) )\n",
      "/var/folders/lv/q8rb__s56z713dgsz22yrb4w0000gp/T/ipykernel_98416/708935748.py:12: UserWarning: To copy construct from a tensor, it is recommended to use sourceTensor.clone().detach() or sourceTensor.clone().detach().requires_grad_(True), rather than torch.tensor(sourceTensor).\n",
      "  l1_norm.append(torch.tensor(eps_list1[i]))\n",
      "/var/folders/lv/q8rb__s56z713dgsz22yrb4w0000gp/T/ipykernel_98416/708935748.py:22: UserWarning: To copy construct from a tensor, it is recommended to use sourceTensor.clone().detach() or sourceTensor.clone().detach().requires_grad_(True), rather than torch.tensor(sourceTensor).\n",
      "  minval = torch.min( torch.tensor(eps_list2[i]), torch.tensor(alt_eps_list2[i]) )\n",
      "/var/folders/lv/q8rb__s56z713dgsz22yrb4w0000gp/T/ipykernel_98416/708935748.py:23: UserWarning: To copy construct from a tensor, it is recommended to use sourceTensor.clone().detach() or sourceTensor.clone().detach().requires_grad_(True), rather than torch.tensor(sourceTensor).\n",
      "  maxval = torch.max( torch.tensor(eps_list2[i]), torch.tensor(alt_eps_list2[i]) )\n",
      "/var/folders/lv/q8rb__s56z713dgsz22yrb4w0000gp/T/ipykernel_98416/708935748.py:25: UserWarning: To copy construct from a tensor, it is recommended to use sourceTensor.clone().detach() or sourceTensor.clone().detach().requires_grad_(True), rather than torch.tensor(sourceTensor).\n",
      "  l2_norm.append(torch.tensor(eps_list2[i]))\n"
     ]
    },
    {
     "data": {
      "image/png": "[encoded data removed]",
      "text/plain": [
       "<Figure size 504x216 with 1 Axes>"
      ]
     },
     "metadata": {
      "needs_background": "light"
     },
     "output_type": "display_data"
    }
   ],
   "source": [
    "# Basic (mostly unchanged) parameters\n",
    "delta = 1\n",
    "epochs = 20001\n",
    "dist_type_sym = False\n",
    "norm_type = \"1\"\n",
    "ratio_norm_ = 1.0\n",
    "prefix = \"unimodal/\"\n",
    "n_items = 4\n",
    "all_ranks = list(itertools.permutations(list(np.arange(n_items))))\n",
    "all_ranks = [np.array(elem) for elem in all_ranks]\n",
    "torch_all_ranks = torch.from_numpy(np.asarray(all_ranks))\n",
    "\n",
    "choose_val = \"full\"\n",
    "\n",
    "# Parameters changing for every exp seed = 279\n",
    "w = f\"[1.1173979 1.0336659 0.6316072 0.3937561]\"\n",
    "title_add = \"\"\n",
    "\n",
    "thresholds = np.array([0.05])\n",
    "\n",
    "# dist\n",
    "dists = [\"erm\", \"maxpair\"]#, \"merge\"]\n",
    "my_paths = [get_path_exp(dist, w, delta, epochs, dist_type_sym, norm_type, ratio_norm_, prefix=prefix) for dist in dists]\n",
    "perf_18, tv_dist_18 = get_pair_results(my_paths, dists, torch_all_ranks, title_add=\"\", plot_training=False, n=4, thresholds=np.linspace(0,0.5,11), choose_val=\"full\")\n",
    "\n",
    "                      "
   ]
  },
  {
   "cell_type": "code",
   "execution_count": 91,
   "id": "f27c9dcb",
   "metadata": {},
   "outputs": [
    {
     "name": "stdout",
     "output_type": "stream",
     "text": [
      "PTORCh = tensor([[0.2650, 0.2534, 0.0685, 0.0099, 0.0651, 0.0098, 0.1166, 0.1114, 0.0123,\n",
      "         0.0007, 0.0118, 0.0007, 0.0234, 0.0034, 0.0096, 0.0005, 0.0011, 0.0004,\n",
      "         0.0222, 0.0034, 0.0091, 0.0005, 0.0011, 0.0004]], dtype=torch.float64)\n",
      "perf_list = [1.1258836323997201] \n",
      "\n",
      " eps_list1 (l1 norm) = [tensor(0.0132, dtype=torch.float64)]  \n",
      " eps_list2 (l2 norm) = [tensor(0.0040, dtype=torch.float64)] \n",
      "\n",
      " alt_eps_list1 (l1 norm) = [tensor(0.0127, dtype=torch.float64)]  \n",
      " alt_eps_list2 (l2 norm) = [tensor(0.0127, dtype=torch.float64)] \n",
      "\n",
      "\n",
      "PTORCh = tensor([[0.2650, 0.2534, 0.0685, 0.0099, 0.0651, 0.0098, 0.1166, 0.1114, 0.0123,\n",
      "         0.0007, 0.0118, 0.0007, 0.0234, 0.0034, 0.0096, 0.0005, 0.0011, 0.0004,\n",
      "         0.0222, 0.0034, 0.0091, 0.0005, 0.0011, 0.0004]], dtype=torch.float64)\n",
      "perf_list = [1.137143160998768] \n",
      "\n",
      " eps_list1 (l1 norm) = [tensor(0.4656, dtype=torch.float64)]  \n",
      " eps_list2 (l2 norm) = [tensor(0.1706, dtype=torch.float64)] \n",
      "\n",
      " alt_eps_list1 (l1 norm) = [tensor(0.3655, dtype=torch.float64)]  \n",
      " alt_eps_list2 (l2 norm) = [tensor(0.3655, dtype=torch.float64)] \n",
      "\n",
      "\n",
      "[0.18764727206662002, 0.18952386016646136] [0.006610512300268549, 0.23281972816580165]\n"
     ]
    },
    {
     "name": "stderr",
     "output_type": "stream",
     "text": [
      "/var/folders/lv/q8rb__s56z713dgsz22yrb4w0000gp/T/ipykernel_98416/708935748.py:9: UserWarning: To copy construct from a tensor, it is recommended to use sourceTensor.clone().detach() or sourceTensor.clone().detach().requires_grad_(True), rather than torch.tensor(sourceTensor).\n",
      "  minval = torch.min( torch.tensor(eps_list1[i]), torch.tensor(alt_eps_list1[i]) )\n",
      "/var/folders/lv/q8rb__s56z713dgsz22yrb4w0000gp/T/ipykernel_98416/708935748.py:10: UserWarning: To copy construct from a tensor, it is recommended to use sourceTensor.clone().detach() or sourceTensor.clone().detach().requires_grad_(True), rather than torch.tensor(sourceTensor).\n",
      "  maxval = torch.max( torch.tensor(eps_list1[i]), torch.tensor(alt_eps_list1[i]) )\n",
      "/var/folders/lv/q8rb__s56z713dgsz22yrb4w0000gp/T/ipykernel_98416/708935748.py:12: UserWarning: To copy construct from a tensor, it is recommended to use sourceTensor.clone().detach() or sourceTensor.clone().detach().requires_grad_(True), rather than torch.tensor(sourceTensor).\n",
      "  l1_norm.append(torch.tensor(eps_list1[i]))\n",
      "/var/folders/lv/q8rb__s56z713dgsz22yrb4w0000gp/T/ipykernel_98416/708935748.py:22: UserWarning: To copy construct from a tensor, it is recommended to use sourceTensor.clone().detach() or sourceTensor.clone().detach().requires_grad_(True), rather than torch.tensor(sourceTensor).\n",
      "  minval = torch.min( torch.tensor(eps_list2[i]), torch.tensor(alt_eps_list2[i]) )\n",
      "/var/folders/lv/q8rb__s56z713dgsz22yrb4w0000gp/T/ipykernel_98416/708935748.py:23: UserWarning: To copy construct from a tensor, it is recommended to use sourceTensor.clone().detach() or sourceTensor.clone().detach().requires_grad_(True), rather than torch.tensor(sourceTensor).\n",
      "  maxval = torch.max( torch.tensor(eps_list2[i]), torch.tensor(alt_eps_list2[i]) )\n",
      "/var/folders/lv/q8rb__s56z713dgsz22yrb4w0000gp/T/ipykernel_98416/708935748.py:25: UserWarning: To copy construct from a tensor, it is recommended to use sourceTensor.clone().detach() or sourceTensor.clone().detach().requires_grad_(True), rather than torch.tensor(sourceTensor).\n",
      "  l2_norm.append(torch.tensor(eps_list2[i]))\n"
     ]
    },
    {
     "data": {
      "image/png": "[encoded data removed]",
      "text/plain": [
       "<Figure size 504x216 with 1 Axes>"
      ]
     },
     "metadata": {
      "needs_background": "light"
     },
     "output_type": "display_data"
    }
   ],
   "source": [
    "# Basic (mostly unchanged) parameters\n",
    "delta = 1\n",
    "epochs = 20001\n",
    "dist_type_sym = False\n",
    "norm_type = \"1\"\n",
    "ratio_norm_ = 1.0\n",
    "prefix = \"unimodal/\"\n",
    "n_items = 4\n",
    "all_ranks = list(itertools.permutations(list(np.arange(n_items))))\n",
    "all_ranks = [np.array(elem) for elem in all_ranks]\n",
    "torch_all_ranks = torch.from_numpy(np.asarray(all_ranks))\n",
    "\n",
    "choose_val = \"full\"\n",
    "\n",
    "# Parameters changing for every exp seed = 279\n",
    "w = f\"[1.7226691  0.6500638  0.09824223 0.09391503]\"\n",
    "title_add = \"\"\n",
    "\n",
    "thresholds = np.array([0.05])\n",
    "\n",
    "# dist\n",
    "dists = [\"erm\", \"maxpair\"]#, \"merge\"]\n",
    "my_paths = [get_path_exp(dist, w, delta, epochs, dist_type_sym, norm_type, ratio_norm_, prefix=prefix) for dist in dists]\n",
    "perf_283, tv_dist_283 = get_pair_results(my_paths, dists, torch_all_ranks, title_add=\"\", plot_training=False, n=4, thresholds=np.linspace(0,0.5,11), choose_val=\"full\")\n",
    "print(perf_283, tv_dist_283)\n"
   ]
  },
  {
   "cell_type": "code",
   "execution_count": 93,
   "id": "1eddadf8",
   "metadata": {},
   "outputs": [
    {
     "name": "stdout",
     "output_type": "stream",
     "text": [
      "PTORCh = tensor([[0.1650, 0.0666, 0.1519, 0.0547, 0.0441, 0.0393, 0.1002, 0.0405, 0.0445,\n",
      "         0.0065, 0.0151, 0.0055, 0.0896, 0.0323, 0.0433, 0.0063, 0.0127, 0.0052,\n",
      "         0.0228, 0.0204, 0.0129, 0.0047, 0.0112, 0.0045]], dtype=torch.float64)\n",
      "perf_list = [1.7076694239642527] \n",
      "\n",
      " eps_list1 (l1 norm) = [tensor(0.0847, dtype=torch.float64)]  \n",
      " eps_list2 (l2 norm) = [tensor(0.0251, dtype=torch.float64)] \n",
      "\n",
      " alt_eps_list1 (l1 norm) = [tensor(0.0543, dtype=torch.float64)]  \n",
      " alt_eps_list2 (l2 norm) = [tensor(0.0543, dtype=torch.float64)] \n",
      "\n",
      "\n",
      "PTORCh = tensor([[0.1650, 0.0666, 0.1519, 0.0547, 0.0441, 0.0393, 0.1002, 0.0405, 0.0445,\n",
      "         0.0065, 0.0151, 0.0055, 0.0896, 0.0323, 0.0433, 0.0063, 0.0127, 0.0052,\n",
      "         0.0228, 0.0204, 0.0129, 0.0047, 0.0112, 0.0045]], dtype=torch.float64)\n",
      "perf_list = [1.7362260592552405] \n",
      "\n",
      " eps_list1 (l1 norm) = [tensor(0.4847, dtype=torch.float64)]  \n",
      " eps_list2 (l2 norm) = [tensor(0.1338, dtype=torch.float64)] \n",
      "\n",
      " alt_eps_list1 (l1 norm) = [tensor(0.4333, dtype=torch.float64)]  \n",
      " alt_eps_list2 (l2 norm) = [tensor(0.4333, dtype=torch.float64)] \n",
      "\n",
      "\n",
      "[0.2846115706607088, 0.28937100987587344] [0.042343510516319544, 0.24233808791635944]\n"
     ]
    },
    {
     "name": "stderr",
     "output_type": "stream",
     "text": [
      "/var/folders/lv/q8rb__s56z713dgsz22yrb4w0000gp/T/ipykernel_98416/708935748.py:9: UserWarning: To copy construct from a tensor, it is recommended to use sourceTensor.clone().detach() or sourceTensor.clone().detach().requires_grad_(True), rather than torch.tensor(sourceTensor).\n",
      "  minval = torch.min( torch.tensor(eps_list1[i]), torch.tensor(alt_eps_list1[i]) )\n",
      "/var/folders/lv/q8rb__s56z713dgsz22yrb4w0000gp/T/ipykernel_98416/708935748.py:10: UserWarning: To copy construct from a tensor, it is recommended to use sourceTensor.clone().detach() or sourceTensor.clone().detach().requires_grad_(True), rather than torch.tensor(sourceTensor).\n",
      "  maxval = torch.max( torch.tensor(eps_list1[i]), torch.tensor(alt_eps_list1[i]) )\n",
      "/var/folders/lv/q8rb__s56z713dgsz22yrb4w0000gp/T/ipykernel_98416/708935748.py:12: UserWarning: To copy construct from a tensor, it is recommended to use sourceTensor.clone().detach() or sourceTensor.clone().detach().requires_grad_(True), rather than torch.tensor(sourceTensor).\n",
      "  l1_norm.append(torch.tensor(eps_list1[i]))\n",
      "/var/folders/lv/q8rb__s56z713dgsz22yrb4w0000gp/T/ipykernel_98416/708935748.py:22: UserWarning: To copy construct from a tensor, it is recommended to use sourceTensor.clone().detach() or sourceTensor.clone().detach().requires_grad_(True), rather than torch.tensor(sourceTensor).\n",
      "  minval = torch.min( torch.tensor(eps_list2[i]), torch.tensor(alt_eps_list2[i]) )\n",
      "/var/folders/lv/q8rb__s56z713dgsz22yrb4w0000gp/T/ipykernel_98416/708935748.py:23: UserWarning: To copy construct from a tensor, it is recommended to use sourceTensor.clone().detach() or sourceTensor.clone().detach().requires_grad_(True), rather than torch.tensor(sourceTensor).\n",
      "  maxval = torch.max( torch.tensor(eps_list2[i]), torch.tensor(alt_eps_list2[i]) )\n",
      "/var/folders/lv/q8rb__s56z713dgsz22yrb4w0000gp/T/ipykernel_98416/708935748.py:25: UserWarning: To copy construct from a tensor, it is recommended to use sourceTensor.clone().detach() or sourceTensor.clone().detach().requires_grad_(True), rather than torch.tensor(sourceTensor).\n",
      "  l2_norm.append(torch.tensor(eps_list2[i]))\n"
     ]
    },
    {
     "data": {
      "image/png": "[encoded data removed]",
      "text/plain": [
       "<Figure size 504x216 with 1 Axes>"
      ]
     },
     "metadata": {
      "needs_background": "light"
     },
     "output_type": "display_data"
    }
   ],
   "source": [
    "# Basic (mostly unchanged) parameters\n",
    "delta = 1\n",
    "epochs = 20001\n",
    "dist_type_sym = False\n",
    "norm_type = \"1\"\n",
    "ratio_norm_ = 1.0\n",
    "prefix = \"unimodal/\"\n",
    "n_items = 4\n",
    "all_ranks = list(itertools.permutations(list(np.arange(n_items))))\n",
    "all_ranks = [np.array(elem) for elem in all_ranks]\n",
    "torch_all_ranks = torch.from_numpy(np.asarray(all_ranks))\n",
    "\n",
    "choose_val = \"full\"\n",
    "\n",
    "# Parameters changing for every exp seed = 279\n",
    "w = f\"[2.7095466  1.1030647  0.98387283 0.3974442 ]\"\n",
    "title_add = \"\"\n",
    "\n",
    "thresholds = np.array([0.05])\n",
    "\n",
    "# dist\n",
    "dists = [\"erm\", \"maxpair\"]#, \"merge\"]\n",
    "my_paths = [get_path_exp(dist, w, delta, epochs, dist_type_sym, norm_type, ratio_norm_, prefix=prefix) for dist in dists]\n",
    "perf_1903, tv_dist_1903 = get_pair_results(my_paths, dists, torch_all_ranks, title_add=\"\", plot_training=False, n=4, thresholds=np.linspace(0,0.5,11), choose_val=\"full\")\n",
    "print(perf_1903, tv_dist_1903)\n"
   ]
  },
  {
   "cell_type": "code",
   "execution_count": 95,
   "id": "4c6a826a",
   "metadata": {},
   "outputs": [
    {
     "name": "stdout",
     "output_type": "stream",
     "text": [
      "PTORCh = tensor([[4.8710e-01, 4.6834e-01, 2.5084e-03, 1.9022e-03, 2.4497e-04, 4.1282e-04,\n",
      "         1.1550e-03, 3.1756e-03, 3.8283e-03, 3.9353e-03, 3.6042e-03, 3.3915e-03,\n",
      "         2.2852e-03, 1.4876e-03, 1.9613e-03, 6.8242e-04, 1.4853e-04, 2.5638e-03,\n",
      "         1.7132e-03, 7.7790e-04, 1.8581e-03, 7.9835e-04, 3.2958e-03, 2.8358e-03]])\n",
      "perf_list = [0.6119546290719882] \n",
      "\n",
      " eps_list1 (l1 norm) = [tensor(0.0114)]  \n",
      " eps_list2 (l2 norm) = [tensor(0.0059)] \n",
      "\n",
      " alt_eps_list1 (l1 norm) = [tensor(0.0067)]  \n",
      " alt_eps_list2 (l2 norm) = [tensor(0.0067)] \n",
      "\n",
      "\n",
      "PTORCh = tensor([[4.8710e-01, 4.6834e-01, 2.5084e-03, 1.9022e-03, 2.4497e-04, 4.1282e-04,\n",
      "         1.1550e-03, 3.1756e-03, 3.8283e-03, 3.9353e-03, 3.6042e-03, 3.3915e-03,\n",
      "         2.2852e-03, 1.4876e-03, 1.9613e-03, 6.8242e-04, 1.4853e-04, 2.5638e-03,\n",
      "         1.7132e-03, 7.7790e-04, 1.8581e-03, 7.9835e-04, 3.2958e-03, 2.8358e-03]])\n",
      "perf_list = [0.6215095614825259] \n",
      "\n",
      " eps_list1 (l1 norm) = [tensor(0.9837)]  \n",
      " eps_list2 (l2 norm) = [tensor(0.3931)] \n",
      "\n",
      " alt_eps_list1 (l1 norm) = [tensor(0.8740)]  \n",
      " alt_eps_list2 (l2 norm) = [tensor(0.8740)] \n",
      "\n",
      "\n",
      "[0.1019924381786647, 0.10358492691375432] [0.0057142144069075584, 0.49185746908187866]\n"
     ]
    },
    {
     "name": "stderr",
     "output_type": "stream",
     "text": [
      "/var/folders/lv/q8rb__s56z713dgsz22yrb4w0000gp/T/ipykernel_98416/708935748.py:9: UserWarning: To copy construct from a tensor, it is recommended to use sourceTensor.clone().detach() or sourceTensor.clone().detach().requires_grad_(True), rather than torch.tensor(sourceTensor).\n",
      "  minval = torch.min( torch.tensor(eps_list1[i]), torch.tensor(alt_eps_list1[i]) )\n",
      "/var/folders/lv/q8rb__s56z713dgsz22yrb4w0000gp/T/ipykernel_98416/708935748.py:10: UserWarning: To copy construct from a tensor, it is recommended to use sourceTensor.clone().detach() or sourceTensor.clone().detach().requires_grad_(True), rather than torch.tensor(sourceTensor).\n",
      "  maxval = torch.max( torch.tensor(eps_list1[i]), torch.tensor(alt_eps_list1[i]) )\n",
      "/var/folders/lv/q8rb__s56z713dgsz22yrb4w0000gp/T/ipykernel_98416/708935748.py:12: UserWarning: To copy construct from a tensor, it is recommended to use sourceTensor.clone().detach() or sourceTensor.clone().detach().requires_grad_(True), rather than torch.tensor(sourceTensor).\n",
      "  l1_norm.append(torch.tensor(eps_list1[i]))\n",
      "/var/folders/lv/q8rb__s56z713dgsz22yrb4w0000gp/T/ipykernel_98416/708935748.py:22: UserWarning: To copy construct from a tensor, it is recommended to use sourceTensor.clone().detach() or sourceTensor.clone().detach().requires_grad_(True), rather than torch.tensor(sourceTensor).\n",
      "  minval = torch.min( torch.tensor(eps_list2[i]), torch.tensor(alt_eps_list2[i]) )\n",
      "/var/folders/lv/q8rb__s56z713dgsz22yrb4w0000gp/T/ipykernel_98416/708935748.py:23: UserWarning: To copy construct from a tensor, it is recommended to use sourceTensor.clone().detach() or sourceTensor.clone().detach().requires_grad_(True), rather than torch.tensor(sourceTensor).\n",
      "  maxval = torch.max( torch.tensor(eps_list2[i]), torch.tensor(alt_eps_list2[i]) )\n",
      "/var/folders/lv/q8rb__s56z713dgsz22yrb4w0000gp/T/ipykernel_98416/708935748.py:25: UserWarning: To copy construct from a tensor, it is recommended to use sourceTensor.clone().detach() or sourceTensor.clone().detach().requires_grad_(True), rather than torch.tensor(sourceTensor).\n",
      "  l2_norm.append(torch.tensor(eps_list2[i]))\n"
     ]
    },
    {
     "data": {
      "image/png": "[encoded data removed]",
      "text/plain": [
       "<Figure size 504x216 with 1 Axes>"
      ]
     },
     "metadata": {
      "needs_background": "light"
     },
     "output_type": "display_data"
    }
   ],
   "source": [
    "# Basic (mostly unchanged) parameters\n",
    "delta = 1\n",
    "epochs = 20001\n",
    "dist_type_sym = False\n",
    "norm_type = \"1\"\n",
    "ratio_norm_ = 1.0\n",
    "prefix = \"two_untied/\"\n",
    "n_items = 4\n",
    "all_ranks = list(itertools.permutations(list(np.arange(n_items))))\n",
    "all_ranks = [np.array(elem) for elem in all_ranks]\n",
    "torch_all_ranks = torch.from_numpy(np.asarray(all_ranks))\n",
    "\n",
    "choose_val = \"full\"\n",
    "\n",
    "# Parameters changing for every exp\n",
    "w = \"two_untied_mix=0.95_gap=0.01_seed=279\"\n",
    "title_add = \"\"\n",
    "thresholds = np.array([0.5])\n",
    "\n",
    "# dist\n",
    "dists = [\"erm\", \"maxpair\"]#, \"merge\"]\n",
    "my_paths = [get_path_exp(dist, w, delta, epochs, dist_type_sym, norm_type, ratio_norm_, prefix=prefix) for dist in dists]\n",
    "perf_bucket_001, tv_dist_bucket_001 = get_pair_results(my_paths, dists, torch_all_ranks, title_add=\"\", plot_training=False, n=4, thresholds=thresholds, choose_val=\"full\")\n",
    "print(perf_bucket_001, tv_dist_bucket_001)\n",
    "\n"
   ]
  },
  {
   "cell_type": "code",
   "execution_count": 109,
   "id": "fc02d91a",
   "metadata": {},
   "outputs": [
    {
     "name": "stdout",
     "output_type": "stream",
     "text": [
      "PTORCh = tensor([[0.6000, 0.4000, 0.0000, 0.0000, 0.0000, 0.0000, 0.0000, 0.0000, 0.0000,\n",
      "         0.0000, 0.0000, 0.0000, 0.0000, 0.0000, 0.0000, 0.0000, 0.0000, 0.0000,\n",
      "         0.0000, 0.0000, 0.0000, 0.0000, 0.0000, 0.0000]])\n",
      "perf_list = [0.40000012516975403] \n",
      "\n",
      " eps_list1 (l1 norm) = [tensor(0.2258)]  \n",
      " eps_list2 (l2 norm) = [tensor(0.1557)] \n",
      "\n",
      " alt_eps_list1 (l1 norm) = [tensor(0.2002)]  \n",
      " alt_eps_list2 (l2 norm) = [tensor(0.2002)] \n",
      "\n",
      "\n",
      "PTORCh = tensor([[0.6000, 0.4000, 0.0000, 0.0000, 0.0000, 0.0000, 0.0000, 0.0000, 0.0000,\n",
      "         0.0000, 0.0000, 0.0000, 0.0000, 0.0000, 0.0000, 0.0000, 0.0000, 0.0000,\n",
      "         0.0000, 0.0000, 0.0000, 0.0000, 0.0000, 0.0000]])\n",
      "perf_list = [0.40000012516975403] \n",
      "\n",
      " eps_list1 (l1 norm) = [tensor(0.7901)]  \n",
      " eps_list2 (l2 norm) = [tensor(0.3243)] \n",
      "\n",
      " alt_eps_list1 (l1 norm) = [tensor(0.8182)]  \n",
      " alt_eps_list2 (l2 norm) = [tensor(0.8182)] \n",
      "\n",
      "\n",
      "[0.06666668752829234, 0.06666668752829234] [0.1128893792629242, 0.3950396776199341]\n"
     ]
    },
    {
     "name": "stderr",
     "output_type": "stream",
     "text": [
      "/var/folders/lv/q8rb__s56z713dgsz22yrb4w0000gp/T/ipykernel_98416/708935748.py:9: UserWarning: To copy construct from a tensor, it is recommended to use sourceTensor.clone().detach() or sourceTensor.clone().detach().requires_grad_(True), rather than torch.tensor(sourceTensor).\n",
      "  minval = torch.min( torch.tensor(eps_list1[i]), torch.tensor(alt_eps_list1[i]) )\n",
      "/var/folders/lv/q8rb__s56z713dgsz22yrb4w0000gp/T/ipykernel_98416/708935748.py:10: UserWarning: To copy construct from a tensor, it is recommended to use sourceTensor.clone().detach() or sourceTensor.clone().detach().requires_grad_(True), rather than torch.tensor(sourceTensor).\n",
      "  maxval = torch.max( torch.tensor(eps_list1[i]), torch.tensor(alt_eps_list1[i]) )\n",
      "/var/folders/lv/q8rb__s56z713dgsz22yrb4w0000gp/T/ipykernel_98416/708935748.py:12: UserWarning: To copy construct from a tensor, it is recommended to use sourceTensor.clone().detach() or sourceTensor.clone().detach().requires_grad_(True), rather than torch.tensor(sourceTensor).\n",
      "  l1_norm.append(torch.tensor(eps_list1[i]))\n",
      "/var/folders/lv/q8rb__s56z713dgsz22yrb4w0000gp/T/ipykernel_98416/708935748.py:22: UserWarning: To copy construct from a tensor, it is recommended to use sourceTensor.clone().detach() or sourceTensor.clone().detach().requires_grad_(True), rather than torch.tensor(sourceTensor).\n",
      "  minval = torch.min( torch.tensor(eps_list2[i]), torch.tensor(alt_eps_list2[i]) )\n",
      "/var/folders/lv/q8rb__s56z713dgsz22yrb4w0000gp/T/ipykernel_98416/708935748.py:23: UserWarning: To copy construct from a tensor, it is recommended to use sourceTensor.clone().detach() or sourceTensor.clone().detach().requires_grad_(True), rather than torch.tensor(sourceTensor).\n",
      "  maxval = torch.max( torch.tensor(eps_list2[i]), torch.tensor(alt_eps_list2[i]) )\n",
      "/var/folders/lv/q8rb__s56z713dgsz22yrb4w0000gp/T/ipykernel_98416/708935748.py:25: UserWarning: To copy construct from a tensor, it is recommended to use sourceTensor.clone().detach() or sourceTensor.clone().detach().requires_grad_(True), rather than torch.tensor(sourceTensor).\n",
      "  l2_norm.append(torch.tensor(eps_list2[i]))\n"
     ]
    },
    {
     "data": {
      "image/png": "[encoded data removed]",
      "text/plain": [
       "<Figure size 504x216 with 1 Axes>"
      ]
     },
     "metadata": {
      "needs_background": "light"
     },
     "output_type": "display_data"
    }
   ],
   "source": [
    "# Basic (mostly unchanged) parameters\n",
    "delta = 1\n",
    "epochs = 20001\n",
    "dist_type_sym = False\n",
    "norm_type = \"1\"\n",
    "ratio_norm_ = 1.0\n",
    "prefix = \"two_untied/\"\n",
    "n_items = 4\n",
    "all_ranks = list(itertools.permutations(list(np.arange(n_items))))\n",
    "all_ranks = [np.array(elem) for elem in all_ranks]\n",
    "torch_all_ranks = torch.from_numpy(np.asarray(all_ranks))\n",
    "\n",
    "choose_val = \"full\"\n",
    "\n",
    "# Parameters changing for every exp\n",
    "w = \"two_untied_mix=1_gap=0.1_seed=279\"\n",
    "title_add = \"\"\n",
    "thresholds = np.array([0.5])\n",
    "\n",
    "# dist\n",
    "dists = [\"erm\", \"maxpair\"]#, \"merge\"]\n",
    "my_paths = [get_path_exp(dist, w, delta, epochs, dist_type_sym, norm_type, ratio_norm_, prefix=prefix) for dist in dists]\n",
    "perf_bucket_01, tv_dist_bucket_01 = get_pair_results(my_paths, dists, torch_all_ranks, title_add=\"\", plot_training=False, n=4, thresholds=thresholds, choose_val=\"full\")\n",
    "print(perf_bucket_01, tv_dist_bucket_01)\n",
    "\n"
   ]
  },
  {
   "cell_type": "code",
   "execution_count": 127,
   "id": "f7d2d79f",
   "metadata": {},
   "outputs": [
    {
     "name": "stdout",
     "output_type": "stream",
     "text": [
      "path get pair = /Users/m.goibert/Documents/Criteo/Projets_Recherche/P5_General_Depth_Fct/depth-functions/perf_robustness_profile/unimodal/perf_robustness_dist=erm_w=[0.99852407 0.9910795  0.9796387  0.97639084]_delta=1_epochs=20001_dist_type_sym=False_norm_L1_ratio_1.0.pt\n",
      "PTORCh = tensor([[0.0426, 0.0425, 0.0424, 0.0417, 0.0422, 0.0417, 0.0425, 0.0424, 0.0421,\n",
      "         0.0412, 0.0419, 0.0411, 0.0421, 0.0415, 0.0419, 0.0410, 0.0410, 0.0407,\n",
      "         0.0419, 0.0414, 0.0417, 0.0409, 0.0410, 0.0407]], dtype=torch.float64)\n",
      "perf_list = [2.9802862798290857] \n",
      "\n",
      " eps_list1 (l1 norm) = [tensor(0.0009, dtype=torch.float64)]  \n",
      " eps_list2 (l2 norm) = [tensor(0.0002, dtype=torch.float64)] \n",
      "\n",
      " alt_eps_list1 (l1 norm) = [tensor(0.0005, dtype=torch.float64)]  \n",
      " alt_eps_list2 (l2 norm) = [tensor(0.0005, dtype=torch.float64)] \n",
      "\n",
      "\n",
      "res get paur =[2.9802862798290857], [tensor(0.0009, dtype=torch.float64)]\n",
      "path get pair = /Users/m.goibert/Documents/Criteo/Projets_Recherche/P5_General_Depth_Fct/depth-functions/perf_robustness_profile/unimodal/perf_robustness_dist=maxpair_w=[0.99852407 0.9910795  0.9796387  0.97639084]_delta=1_epochs=20001_dist_type_sym=False_norm_L1_ratio_1.0.pt\n",
      "PTORCh = tensor([[0.0426, 0.0425, 0.0424, 0.0417, 0.0422, 0.0417, 0.0425, 0.0424, 0.0421,\n",
      "         0.0412, 0.0419, 0.0411, 0.0421, 0.0415, 0.0419, 0.0410, 0.0410, 0.0407,\n",
      "         0.0419, 0.0414, 0.0417, 0.0409, 0.0410, 0.0407]], dtype=torch.float64)\n",
      "perf_list = [3.0] \n",
      "\n",
      " eps_list1 (l1 norm) = [tensor(0.0074, dtype=torch.float64)]  \n",
      " eps_list2 (l2 norm) = [tensor(0.0016, dtype=torch.float64)] \n",
      "\n",
      " alt_eps_list1 (l1 norm) = [tensor(0.0074, dtype=torch.float64)]  \n",
      " alt_eps_list2 (l2 norm) = [tensor(0.0074, dtype=torch.float64)] \n",
      "\n",
      "\n",
      "res get paur =[3.0], [tensor(0.0074, dtype=torch.float64)]\n",
      "[0.4967143799715143, 0.5] [0.0004475643771431406, 0.0036966473260054006]\n"
     ]
    },
    {
     "name": "stderr",
     "output_type": "stream",
     "text": [
      "/var/folders/lv/q8rb__s56z713dgsz22yrb4w0000gp/T/ipykernel_98416/708935748.py:9: UserWarning: To copy construct from a tensor, it is recommended to use sourceTensor.clone().detach() or sourceTensor.clone().detach().requires_grad_(True), rather than torch.tensor(sourceTensor).\n",
      "  minval = torch.min( torch.tensor(eps_list1[i]), torch.tensor(alt_eps_list1[i]) )\n",
      "/var/folders/lv/q8rb__s56z713dgsz22yrb4w0000gp/T/ipykernel_98416/708935748.py:10: UserWarning: To copy construct from a tensor, it is recommended to use sourceTensor.clone().detach() or sourceTensor.clone().detach().requires_grad_(True), rather than torch.tensor(sourceTensor).\n",
      "  maxval = torch.max( torch.tensor(eps_list1[i]), torch.tensor(alt_eps_list1[i]) )\n",
      "/var/folders/lv/q8rb__s56z713dgsz22yrb4w0000gp/T/ipykernel_98416/708935748.py:12: UserWarning: To copy construct from a tensor, it is recommended to use sourceTensor.clone().detach() or sourceTensor.clone().detach().requires_grad_(True), rather than torch.tensor(sourceTensor).\n",
      "  l1_norm.append(torch.tensor(eps_list1[i]))\n",
      "/var/folders/lv/q8rb__s56z713dgsz22yrb4w0000gp/T/ipykernel_98416/708935748.py:22: UserWarning: To copy construct from a tensor, it is recommended to use sourceTensor.clone().detach() or sourceTensor.clone().detach().requires_grad_(True), rather than torch.tensor(sourceTensor).\n",
      "  minval = torch.min( torch.tensor(eps_list2[i]), torch.tensor(alt_eps_list2[i]) )\n",
      "/var/folders/lv/q8rb__s56z713dgsz22yrb4w0000gp/T/ipykernel_98416/708935748.py:23: UserWarning: To copy construct from a tensor, it is recommended to use sourceTensor.clone().detach() or sourceTensor.clone().detach().requires_grad_(True), rather than torch.tensor(sourceTensor).\n",
      "  maxval = torch.max( torch.tensor(eps_list2[i]), torch.tensor(alt_eps_list2[i]) )\n",
      "/var/folders/lv/q8rb__s56z713dgsz22yrb4w0000gp/T/ipykernel_98416/708935748.py:25: UserWarning: To copy construct from a tensor, it is recommended to use sourceTensor.clone().detach() or sourceTensor.clone().detach().requires_grad_(True), rather than torch.tensor(sourceTensor).\n",
      "  l2_norm.append(torch.tensor(eps_list2[i]))\n"
     ]
    }
   ],
   "source": [
    "# Basic (mostly unchanged) parameters\n",
    "delta = 1\n",
    "epochs = 20001\n",
    "dist_type_sym = False\n",
    "norm_type = \"1\"\n",
    "ratio_norm_ = 1.0\n",
    "prefix = \"unimodal/\"\n",
    "seed_val = 279\n",
    "n_items = 4\n",
    "all_ranks = list(itertools.permutations(list(np.arange(n_items))))\n",
    "all_ranks = [np.array(elem) for elem in all_ranks]\n",
    "torch_all_ranks = torch.from_numpy(np.asarray(all_ranks))\n",
    "\n",
    "choose_val = \"full\"\n",
    "\n",
    "# Parameters changing for every exp seed = 279\n",
    "m = 0.01\n",
    "w = f\"[0.99852407 0.9910795  0.9796387  0.97639084]\"\n",
    "title_add = \"\"\n",
    "\n",
    "thresholds = np.array([0.05])\n",
    "\n",
    "# dist\n",
    "dists = [\"erm\", \"maxpair\"]#, \"merge\"]\n",
    "my_paths = [get_path_exp(dist, w, delta, epochs, dist_type_sym, norm_type, ratio_norm_, prefix=prefix) for dist in dists]\n",
    "perf_uniform, tv_dist_uniform = get_pair_results(my_paths, dists, torch_all_ranks, title_add=\"\", plot_training=False, n=4, thresholds=thresholds, choose_val=\"full\")\n",
    "print(perf_uniform, tv_dist_uniform)\n",
    "\n"
   ]
  },
  {
   "cell_type": "code",
   "execution_count": 150,
   "id": "7222299c",
   "metadata": {},
   "outputs": [
    {
     "name": "stdout",
     "output_type": "stream",
     "text": [
      "path get pair = /Users/m.goibert/Documents/Criteo/Projets_Recherche/P5_General_Depth_Fct/depth-functions/perf_robustness_profile/unimodal/perf_robustness_dist=erm_w=[2.2831823e-01 1.2837668e-04 1.1639423e-09 4.2043390e-11]_delta=1_epochs=20002_dist_type_sym=False_norm_L1_ratio_1.0.pt\n",
      "PTORCh = tensor([[9.6459e-01, 3.4842e-02, 9.0614e-06, 2.9676e-12, 3.2731e-07, 2.9676e-12,\n",
      "         5.4236e-04, 1.9591e-05, 2.8648e-12, 5.2753e-22, 1.0348e-13, 5.2753e-22,\n",
      "         5.0922e-09, 1.6677e-15, 2.8632e-12, 5.2724e-22, 9.3716e-19, 5.2694e-22,\n",
      "         1.8394e-10, 1.6677e-15, 1.0342e-13, 5.2724e-22, 9.3716e-19, 5.2694e-22]],\n",
      "       dtype=torch.float64)\n",
      "load plot n = 4, ptorch = torch.Size([1, 24]), all ranks = torch.Size([24, 4])\n"
     ]
    },
    {
     "data": {
      "image/png": "[encoded data removed]",
      "text/plain": [
       "<Figure size 1080x576 with 4 Axes>"
      ]
     },
     "metadata": {
      "needs_background": "light"
     },
     "output_type": "display_data"
    },
    {
     "name": "stdout",
     "output_type": "stream",
     "text": [
      "perf_list = [0.03543361728953287] \n",
      "\n",
      " eps_list1 (l1 norm) = [tensor(1.4065, dtype=torch.float64)]  \n",
      " eps_list2 (l2 norm) = [tensor(0.7217, dtype=torch.float64)] \n",
      "\n",
      " alt_eps_list1 (l1 norm) = [tensor(1.2244, dtype=torch.float64)]  \n",
      " alt_eps_list2 (l2 norm) = [tensor(1.2244, dtype=torch.float64)] \n",
      "\n",
      "\n",
      "res get paur =[0.03543361728953287], [tensor(1.4065, dtype=torch.float64)]\n",
      "path get pair = /Users/m.goibert/Documents/Criteo/Projets_Recherche/P5_General_Depth_Fct/depth-functions/perf_robustness_profile/unimodal/perf_robustness_dist=maxpair_w=[2.2831823e-01 1.2837668e-04 1.1639423e-09 4.2043390e-11]_delta=1_epochs=20002_dist_type_sym=False_norm_L1_ratio_1.0.pt\n",
      "PTORCh = tensor([[9.6459e-01, 3.4842e-02, 9.0614e-06, 2.9676e-12, 3.2731e-07, 2.9676e-12,\n",
      "         5.4236e-04, 1.9591e-05, 2.8648e-12, 5.2753e-22, 1.0348e-13, 5.2753e-22,\n",
      "         5.0922e-09, 1.6677e-15, 2.8632e-12, 5.2724e-22, 9.3716e-19, 5.2694e-22,\n",
      "         1.8394e-10, 1.6677e-15, 1.0342e-13, 5.2724e-22, 9.3716e-19, 5.2694e-22]],\n",
      "       dtype=torch.float64)\n",
      "load plot n = 4, ptorch = torch.Size([1, 24]), all ranks = torch.Size([24, 4])\n"
     ]
    },
    {
     "name": "stderr",
     "output_type": "stream",
     "text": [
      "/var/folders/lv/q8rb__s56z713dgsz22yrb4w0000gp/T/ipykernel_98416/708935748.py:9: UserWarning: To copy construct from a tensor, it is recommended to use sourceTensor.clone().detach() or sourceTensor.clone().detach().requires_grad_(True), rather than torch.tensor(sourceTensor).\n",
      "  minval = torch.min( torch.tensor(eps_list1[i]), torch.tensor(alt_eps_list1[i]) )\n",
      "/var/folders/lv/q8rb__s56z713dgsz22yrb4w0000gp/T/ipykernel_98416/708935748.py:10: UserWarning: To copy construct from a tensor, it is recommended to use sourceTensor.clone().detach() or sourceTensor.clone().detach().requires_grad_(True), rather than torch.tensor(sourceTensor).\n",
      "  maxval = torch.max( torch.tensor(eps_list1[i]), torch.tensor(alt_eps_list1[i]) )\n",
      "/var/folders/lv/q8rb__s56z713dgsz22yrb4w0000gp/T/ipykernel_98416/708935748.py:12: UserWarning: To copy construct from a tensor, it is recommended to use sourceTensor.clone().detach() or sourceTensor.clone().detach().requires_grad_(True), rather than torch.tensor(sourceTensor).\n",
      "  l1_norm.append(torch.tensor(eps_list1[i]))\n",
      "/var/folders/lv/q8rb__s56z713dgsz22yrb4w0000gp/T/ipykernel_98416/708935748.py:22: UserWarning: To copy construct from a tensor, it is recommended to use sourceTensor.clone().detach() or sourceTensor.clone().detach().requires_grad_(True), rather than torch.tensor(sourceTensor).\n",
      "  minval = torch.min( torch.tensor(eps_list2[i]), torch.tensor(alt_eps_list2[i]) )\n",
      "/var/folders/lv/q8rb__s56z713dgsz22yrb4w0000gp/T/ipykernel_98416/708935748.py:23: UserWarning: To copy construct from a tensor, it is recommended to use sourceTensor.clone().detach() or sourceTensor.clone().detach().requires_grad_(True), rather than torch.tensor(sourceTensor).\n",
      "  maxval = torch.max( torch.tensor(eps_list2[i]), torch.tensor(alt_eps_list2[i]) )\n",
      "/var/folders/lv/q8rb__s56z713dgsz22yrb4w0000gp/T/ipykernel_98416/708935748.py:25: UserWarning: To copy construct from a tensor, it is recommended to use sourceTensor.clone().detach() or sourceTensor.clone().detach().requires_grad_(True), rather than torch.tensor(sourceTensor).\n",
      "  l2_norm.append(torch.tensor(eps_list2[i]))\n"
     ]
    },
    {
     "data": {
      "image/png": "[encoded data removed]",
      "text/plain": [
       "<Figure size 1080x576 with 4 Axes>"
      ]
     },
     "metadata": {
      "needs_background": "light"
     },
     "output_type": "display_data"
    },
    {
     "data": {
      "image/png": "[encoded data removed]",
      "text/plain": [
       "<Figure size 1080x576 with 4 Axes>"
      ]
     },
     "metadata": {
      "needs_background": "light"
     },
     "output_type": "display_data"
    },
    {
     "name": "stdout",
     "output_type": "stream",
     "text": [
      "perf_list = [0.03543361728953287] \n",
      "\n",
      " eps_list1 (l1 norm) = [tensor(1.3198, dtype=torch.float64)]  \n",
      " eps_list2 (l2 norm) = [tensor(0.6764, dtype=torch.float64)] \n",
      "\n",
      " alt_eps_list1 (l1 norm) = [tensor(1.1291, dtype=torch.float64)]  \n",
      " alt_eps_list2 (l2 norm) = [tensor(1.1291, dtype=torch.float64)] \n",
      "\n",
      "\n",
      "res get paur =[0.03543361728953287], [tensor(1.3198, dtype=torch.float64)]\n",
      "[0.005905602881588812, 0.005905602881588812] [0.7032653622562615, 0.6599163633434773]\n"
     ]
    },
    {
     "name": "stderr",
     "output_type": "stream",
     "text": [
      "/var/folders/lv/q8rb__s56z713dgsz22yrb4w0000gp/T/ipykernel_98416/708935748.py:9: UserWarning: To copy construct from a tensor, it is recommended to use sourceTensor.clone().detach() or sourceTensor.clone().detach().requires_grad_(True), rather than torch.tensor(sourceTensor).\n",
      "  minval = torch.min( torch.tensor(eps_list1[i]), torch.tensor(alt_eps_list1[i]) )\n",
      "/var/folders/lv/q8rb__s56z713dgsz22yrb4w0000gp/T/ipykernel_98416/708935748.py:10: UserWarning: To copy construct from a tensor, it is recommended to use sourceTensor.clone().detach() or sourceTensor.clone().detach().requires_grad_(True), rather than torch.tensor(sourceTensor).\n",
      "  maxval = torch.max( torch.tensor(eps_list1[i]), torch.tensor(alt_eps_list1[i]) )\n",
      "/var/folders/lv/q8rb__s56z713dgsz22yrb4w0000gp/T/ipykernel_98416/708935748.py:12: UserWarning: To copy construct from a tensor, it is recommended to use sourceTensor.clone().detach() or sourceTensor.clone().detach().requires_grad_(True), rather than torch.tensor(sourceTensor).\n",
      "  l1_norm.append(torch.tensor(eps_list1[i]))\n",
      "/var/folders/lv/q8rb__s56z713dgsz22yrb4w0000gp/T/ipykernel_98416/708935748.py:22: UserWarning: To copy construct from a tensor, it is recommended to use sourceTensor.clone().detach() or sourceTensor.clone().detach().requires_grad_(True), rather than torch.tensor(sourceTensor).\n",
      "  minval = torch.min( torch.tensor(eps_list2[i]), torch.tensor(alt_eps_list2[i]) )\n",
      "/var/folders/lv/q8rb__s56z713dgsz22yrb4w0000gp/T/ipykernel_98416/708935748.py:23: UserWarning: To copy construct from a tensor, it is recommended to use sourceTensor.clone().detach() or sourceTensor.clone().detach().requires_grad_(True), rather than torch.tensor(sourceTensor).\n",
      "  maxval = torch.max( torch.tensor(eps_list2[i]), torch.tensor(alt_eps_list2[i]) )\n",
      "/var/folders/lv/q8rb__s56z713dgsz22yrb4w0000gp/T/ipykernel_98416/708935748.py:25: UserWarning: To copy construct from a tensor, it is recommended to use sourceTensor.clone().detach() or sourceTensor.clone().detach().requires_grad_(True), rather than torch.tensor(sourceTensor).\n",
      "  l2_norm.append(torch.tensor(eps_list2[i]))\n"
     ]
    },
    {
     "data": {
      "image/png": "[encoded data removed]",
      "text/plain": [
       "<Figure size 1080x576 with 4 Axes>"
      ]
     },
     "metadata": {
      "needs_background": "light"
     },
     "output_type": "display_data"
    }
   ],
   "source": [
    "# Basic (mostly unchanged) parameters\n",
    "delta = 1\n",
    "epochs = 20002\n",
    "dist_type_sym = False\n",
    "norm_type = \"1\"\n",
    "ratio_norm_ = 1.0\n",
    "prefix = \"unimodal/\"\n",
    "seed_val = 279\n",
    "n_items = 4\n",
    "all_ranks = list(itertools.permutations(list(np.arange(n_items))))\n",
    "all_ranks = [np.array(elem) for elem in all_ranks]\n",
    "torch_all_ranks = torch.from_numpy(np.asarray(all_ranks))\n",
    "\n",
    "choose_val = \"full\"\n",
    "\n",
    "# Parameters changing for every exp seed = 279\n",
    "m = 0.01\n",
    "w = f\"[2.2831823e-01 1.2837668e-04 1.1639423e-09 4.2043390e-11]\"\n",
    "title_add = \"\"\n",
    "\n",
    "thresholds = np.array([0.05])\n",
    "\n",
    "# dist\n",
    "dists = [\"erm\", \"maxpair\"]#, \"merge\"]\n",
    "my_paths = [get_path_exp(dist, w, delta, epochs, dist_type_sym, norm_type, ratio_norm_, prefix=prefix) for dist in dists]\n",
    "perf_dirac, tv_dist_dirac = get_pair_results(my_paths, dists, torch_all_ranks, title_add=\"\", plot_training=True, n=4, thresholds=thresholds, choose_val=\"full\")\n",
    "print(perf_dirac, tv_dist_dirac)\n",
    "\n"
   ]
  },
  {
   "cell_type": "code",
   "execution_count": 157,
   "id": "39c37aa1",
   "metadata": {},
   "outputs": [
    {
     "name": "stderr",
     "output_type": "stream",
     "text": [
      "*c* argument looks like a single numeric RGB or RGBA sequence, which should be avoided as value-mapping will have precedence in case its length matches with *x* & *y*.  Please use the *color* keyword-argument or provide a 2D array with a single row if you intend to specify the same RGB or RGBA value for all points.\n"
     ]
    },
    {
     "name": "stdout",
     "output_type": "stream",
     "text": [
      "(0.9835755478662053, 0.4127950788158401, 0.28835063437139563, 1.0)\n"
     ]
    },
    {
     "data": {
      "image/png": "[encoded data removed]",
      "text/plain": [
       "<Figure size 360x216 with 1 Axes>"
      ]
     },
     "metadata": {
      "needs_background": "light"
     },
     "output_type": "display_data"
    }
   ],
   "source": [
    "cm = plt.cm.get_cmap('Reds')\n",
    "myred = cm(1/2)\n",
    "print(myred)\n",
    "\n",
    "plt.rcParams.update({\n",
    "    \"text.usetex\": True,\n",
    "    'text.latex.preamble': r'\\usepackage{amsfonts}'\n",
    "        })\n",
    "\n",
    "plt.figure(figsize=(5,3))\n",
    "\n",
    "median_res_x = [perf_18[0], perf_283[0], perf_1903[0], perf_bucket_001[0], perf_bucket_01[0], perf_uniform[0], perf_dirac[0]]\n",
    "median_res_y = [tv_dist_18[0], tv_dist_283[0], tv_dist_1903[0], tv_dist_bucket_001[0], tv_dist_bucket_01[0], tv_dist_uniform[0], tv_dist_dirac[0]]\n",
    "\n",
    "maxpair_res_x = [perf_18[1], perf_283[1], perf_1903[1], perf_bucket_001[1], perf_bucket_01[1], perf_uniform[1], perf_dirac[1]]\n",
    "maxpair_res_y = [tv_dist_18[1], tv_dist_283[1], tv_dist_1903[1], tv_dist_bucket_001[1], tv_dist_bucket_01[1], tv_dist_uniform[1], tv_dist_dirac[1]]\n",
    "\n",
    "plt.plot(perf_18, tv_dist_18, \"-\", c=\"black\")\n",
    "plt.plot(perf_283, tv_dist_283, \"-\", c=\"black\")\n",
    "plt.plot(perf_1903, tv_dist_1903, \"-\", c=\"black\")\n",
    "plt.plot(perf_bucket_001, tv_dist_bucket_001, \"-\", c=\"black\")\n",
    "plt.plot(perf_bucket_01, tv_dist_bucket_01, \"-\", c=\"black\")\n",
    "plt.plot(perf_uniform, tv_dist_uniform, \"-\", c=\"black\")\n",
    "plt.plot(perf_dirac, tv_dist_dirac, \"-\", c=\"black\")\n",
    "\n",
    "plt.scatter(median_res_x, median_res_y, s=120, c=\"cornflowerblue\", marker=\"x\", label=\"Kemeny's median\")\n",
    "plt.scatter(maxpair_res_x, maxpair_res_y, s=90, c=myred, marker=\"o\", label=r\"Down. Merge ($t=0.05$)\")\n",
    "plt.xlabel(r\"Loss $\\mathbb{E}_p(d_{\\tau}(T(p), \\Sigma))$\", fontsize=14)\n",
    "plt.ylabel(r\"Robustness at level $1: \\hat{\\varepsilon}^{\\gamma}_{p,T}(1)$\", fontsize=14)\n",
    "plt.title(f\"Loss vs Robustness Tradeoff\", fontsize=15)\n",
    "#legend = plt.legend(title=\"Statistics\", fontsize=13)\n",
    "plt.xticks(fontsize=11)\n",
    "plt.yticks(fontsize=11)\n",
    "plt.xlim((-0.02, 0.52))\n",
    "plt.ylim((-0.03, 1.03))\n",
    "#plt.setp(legend.get_title(),fontsize=15)\n",
    "plt.tight_layout()\n",
    "plt.savefig(f\"/Users/m.goibert/Documents/Criteo/Projets_Recherche/P5_General_Depth_Fct/img_paper/for_ppt/tradeoffs.png\", dpi=200)\n",
    "plt.show()"
   ]
  },
  {
   "cell_type": "code",
   "execution_count": null,
   "id": "0827a3bf",
   "metadata": {},
   "outputs": [],
   "source": []
  },
  {
   "cell_type": "code",
   "execution_count": null,
   "id": "28a3826b",
   "metadata": {},
   "outputs": [],
   "source": []
  },
  {
   "cell_type": "code",
   "execution_count": null,
   "id": "1416973c",
   "metadata": {},
   "outputs": [],
   "source": []
  },
  {
   "cell_type": "code",
   "execution_count": null,
   "id": "e1a47ee2",
   "metadata": {},
   "outputs": [],
   "source": []
  },
  {
   "cell_type": "code",
   "execution_count": null,
   "id": "8ab79f7f",
   "metadata": {},
   "outputs": [],
   "source": []
  },
  {
   "cell_type": "markdown",
   "id": "5c7cb74c",
   "metadata": {},
   "source": [
    "# Plotting"
   ]
  },
  {
   "cell_type": "code",
   "execution_count": null,
   "id": "fcac2a6c",
   "metadata": {},
   "outputs": [],
   "source": [
    "n_items = 4\n",
    "all_ranks = list(itertools.permutations(list(np.arange(n_items))))\n",
    "all_ranks = [np.array(elem) for elem in all_ranks]\n",
    "torch_all_ranks = torch.from_numpy(np.asarray(all_ranks))"
   ]
  },
  {
   "cell_type": "code",
   "execution_count": null,
   "id": "ac33a728",
   "metadata": {},
   "outputs": [],
   "source": [
    "# Basic (mostly unchanged) parameters\n",
    "delta = 1\n",
    "epochs = 20000\n",
    "dist_type_sym = False\n",
    "norm_type = \"1\"\n",
    "ratio_norm_ = 1.0\n",
    "prefix = \"unimodal/\""
   ]
  },
  {
   "cell_type": "markdown",
   "id": "bc34686a",
   "metadata": {},
   "source": [
    "### Unimodal exps"
   ]
  },
  {
   "cell_type": "code",
   "execution_count": null,
   "id": "9443aa89",
   "metadata": {},
   "outputs": [],
   "source": [
    "# Parameters changing for every exp\n",
    "w = \"[1.1840667 1.1067724 1.0653596 1.0230277]\"\n",
    "title_add = \"Loss vs Robustness Tradeoff - Unimodal - Delta=1\" #m=0.1 seed 938\n",
    "prefix = \"unimodal/\"\n",
    "\n",
    "# dist\n",
    "dists = [\"erm\", \"maxpair\", \"merge\"]\n",
    "my_paths = [get_path_exp(dist, w, delta, epochs, dist_type_sym, norm_type, ratio_norm_, prefix=prefix) for dist in dists]\n",
    "print(my_paths)\n",
    "thresholds = np.array([0.0096, 0.0102, 0.0170, 0.0198, 0.0265, 0.0366])\n",
    "#thresholds = np.linspace(0,0.5,11)\n",
    "\n",
    "f1 = exp_plot(my_paths, dists, torch_all_ranks, norm=\"L1\", title_add=title_add, plot_training=False, type_=\"classic\", n=4, thresholds=thresholds)\n",
    "plt.tight_layout()\n",
    "plt.savefig(f\"/Users/m.goibert/Documents/Criteo/Projets_Recherche/P5_General_Depth_Fct/img_paper/classic_unimodal_n=4_seed=938.png\", dpi=200)\n",
    "\n",
    "\n",
    "f2 = exp_plot(my_paths, dists, torch_all_ranks, norm=\"L2\", title_add=title_add, thresholds=thresholds)"
   ]
  },
  {
   "cell_type": "code",
   "execution_count": null,
   "id": "d573f0ab",
   "metadata": {},
   "outputs": [],
   "source": [
    "# Parameters changing for every exp\n",
    "w = \"[158.95894    20.97728     6.6816835   1.9798005]\" # seed 938 m=3\n",
    "title_add = \"\"\n",
    "thresholds = np.array([0.2585, 0.2715, 0.3835, 0.4139, 0.4598, 0.4878])\n",
    "#thresholds = np.linspace(0,0.5,11)\n",
    "prefix = \"unimodal/\"\n",
    "\n",
    "# dist\n",
    "dists = [\"erm\", \"maxpair\", \"merge\"]\n",
    "my_paths = [get_path_exp(dist, w, delta, epochs, dist_type_sym, norm_type, ratio_norm_, prefix=prefix) for dist in dists]\n",
    "\n",
    "f1 = exp_plot(my_paths, dists, torch_all_ranks, norm=\"L1\", title_add=title_add, plot_training=False, type_=\"classic\", n=4, thresholds=thresholds)\n",
    "plt.tight_layout()\n",
    "plt.savefig(f\"/Users/m.goibert/Documents/Criteo/Projets_Recherche/P5_General_Depth_Fct/img_paper/classic_unimodal_n=4_seed=938_m=3.png\", dpi=200)\n",
    "\n",
    "f2 = exp_plot(my_paths, dists, torch_all_ranks, norm=\"L2\", title_add=title_add, thresholds=thresholds)\n"
   ]
  },
  {
   "cell_type": "code",
   "execution_count": null,
   "id": "67275dd9",
   "metadata": {},
   "outputs": [],
   "source": [
    "# Parameters changing for every exp\n",
    "w = \"[0.7752823  0.69426465 0.5638316  0.22069816]\" # seed 730 m=1\n",
    "title_add = \"\"\n",
    "thresholds = np.array([0.0277, 0.0519, 0.0791, 0.2188, 0.2589, 0.2785])\n",
    "\n",
    "# dist\n",
    "dists = [\"erm\", \"maxpair\", \"merge\"]\n",
    "my_paths = [get_path_exp(dist, w, delta, epochs, dist_type_sym, norm_type, ratio_norm_, prefix=prefix) for dist in dists]\n",
    "\n",
    "f1 = exp_plot(my_paths, dists, torch_all_ranks, norm=\"L1\", title_add=title_add, plot_training=False, type_=\"classic\", n=4, thresholds=thresholds)\n",
    "plt.tight_layout()\n",
    "plt.savefig(f\"/Users/m.goibert/Documents/Criteo/Projets_Recherche/P5_General_Depth_Fct/img_paper/classic_unimodal_n=4_seed=730.png\", dpi=200)\n",
    "\n",
    "f2 = exp_plot(my_paths, dists, torch_all_ranks, norm=\"L2\", title_add=title_add, thresholds=thresholds)\n"
   ]
  },
  {
   "cell_type": "markdown",
   "id": "8e407333",
   "metadata": {},
   "source": [
    "### Multimodal exps"
   ]
  },
  {
   "cell_type": "code",
   "execution_count": null,
   "id": "cf7a0f32",
   "metadata": {},
   "outputs": [],
   "source": [
    "# Parameters changing for every exp seed = 37\n",
    "prefix = \"multimodal_sst/\"\n",
    "epochs = 20000\n",
    "w = \"multimodal_sst_m=1.0_seed=37\"\n",
    "title_add = \"\"\n",
    "#thresholds = np.array([0.0289, 0.0433, 0.0672, 0.1060, 0.1363, 0.1784])\n",
    "thresholds = np.array([0.0180, 0.1379, 0.1467, 0.2958, 0.3197, 0.4023])\n",
    "\n",
    "# dist\n",
    "dists = [\"erm\", \"maxpair\"]#, \"merge\"]\n",
    "my_paths = [get_path_exp(dist, w, delta, epochs, dist_type_sym, norm_type, ratio_norm_, prefix=prefix) for dist in dists]\n",
    "\n",
    "f1 = exp_plot(my_paths, dists, torch_all_ranks, norm=\"L1\", title_add=title_add, thresholds=thresholds)\n",
    "plt.tight_layout()\n",
    "plt.savefig(f\"/Users/m.goibert/Documents/Criteo/Projets_Recherche/P5_General_Depth_Fct/img_paper/classic_multimodal_n=4_seed=37.png\", dpi=200)\n",
    "\n",
    "f2 = exp_plot(my_paths, dists, torch_all_ranks, norm=\"L2\", title_add=title_add, thresholds=thresholds)\n"
   ]
  },
  {
   "cell_type": "markdown",
   "id": "64d88cd4",
   "metadata": {},
   "source": [
    "### Pairwise version"
   ]
  },
  {
   "cell_type": "markdown",
   "id": "3b827daf",
   "metadata": {},
   "source": [
    "#### Unimodal"
   ]
  },
  {
   "cell_type": "code",
   "execution_count": null,
   "id": "793c06b1",
   "metadata": {},
   "outputs": [],
   "source": [
    "# Basic (mostly unchanged) parameters\n",
    "delta = 1\n",
    "epochs = 50000\n",
    "dist_type_sym = False\n",
    "norm_type = \"1\"\n",
    "ratio_norm_ = 1.0\n",
    "prefix = \"pairwise_res/unimodal/\""
   ]
  },
  {
   "cell_type": "code",
   "execution_count": null,
   "id": "79b5212e",
   "metadata": {},
   "outputs": [],
   "source": [
    "# Parameters changing for every exp\n",
    "w = \"[0.7752823  0.69426465 0.5638316  0.22069816]\" # seed 730 m=1\n",
    "title_add = \"\"\n",
    "\n",
    "# dist\n",
    "dists = [\"erm\", \"maxpair\"]#, \"merge\"]\n",
    "my_paths = [get_path_exp(dist, w, delta, epochs, dist_type_sym, norm_type, ratio_norm_, prefix=prefix) for dist in dists]\n",
    "\n",
    "#thresholds = np.linspace(0,0.5,11)\n",
    "thresholds = np.array([0.0277, 0.0519, 0.0791, 0.2188, 0.2589, 0.2785])\n",
    "\n",
    "f1 = exp_plot(my_paths, dists, torch_all_ranks, norm=\"L1\", title_add=title_add, plot_training=False, type_=\"pairwise\", n=4, thresholds=thresholds)\n",
    "plt.tight_layout()\n",
    "plt.savefig(f\"/Users/m.goibert/Documents/Criteo/Projets_Recherche/P5_General_Depth_Fct/img_paper/pairwise_unimodal_n=4_seed=730.png\", dpi=200)\n",
    "\n",
    "f2 = exp_plot(my_paths, dists, torch_all_ranks, norm=\"L2\", title_add=title_add, thresholds=thresholds)\n"
   ]
  },
  {
   "cell_type": "code",
   "execution_count": null,
   "id": "e2c2b4ee",
   "metadata": {},
   "outputs": [],
   "source": [
    "# Parameters changing for every exp\n",
    "w = \"[2.7052357  2.4382606  0.583109   0.26570046]\" # seed=37\n",
    "title_add = \"m = 1\"\n",
    "\n",
    "# dist\n",
    "dists = [\"erm\", \"maxpair\"]#, \"merge\"]\n",
    "my_paths = [get_path_exp(dist, w, delta, epochs, dist_type_sym, norm_type, ratio_norm_, prefix=prefix) for dist in dists]\n",
    "\n",
    "thresholds = np.linspace(0,0.5,11)\n",
    "\n",
    "f1 = exp_plot(my_paths, dists, torch_all_ranks, norm=\"L1\", title_add=title_add, plot_training=False, type_=\"pairwise\", n=4)\n",
    "plt.tight_layout()\n",
    "plt.savefig(f\"/Users/m.goibert/Documents/Criteo/Projets_Recherche/P5_General_Depth_Fct/img_paper/pairwise_unimodal_n=4_seed=37.png\", dpi=200)\n",
    "\n",
    "f2 = exp_plot(my_paths, dists, torch_all_ranks, norm=\"L2\", title_add=title_add)"
   ]
  },
  {
   "cell_type": "code",
   "execution_count": null,
   "id": "b0b052e1",
   "metadata": {},
   "outputs": [],
   "source": [
    "# Parameters changing for every exp\n",
    "w = \"[1.1840667 1.1067724 1.0653596 1.0230277]\" # seed=938, m=0.1\n",
    "title_add = \"\"\n",
    "\n",
    "# dist\n",
    "dists = [\"erm\", \"maxpair\"]\n",
    "my_paths = [get_path_exp(dist, w, delta, epochs, dist_type_sym, norm_type, ratio_norm_, prefix=prefix) for dist in dists]\n",
    "\n",
    "thresholds = np.array([0.0096, 0.0102, 0.0170, 0.0198, 0.0265, 0.0366])\n",
    "\n",
    "f1 = exp_plot(my_paths, dists, torch_all_ranks, norm=\"L1\", title_add=title_add, plot_training=False, type_=\"pairwise\", n=4, thresholds=thresholds)\n",
    "plt.tight_layout()\n",
    "plt.savefig(f\"/Users/m.goibert/Documents/Criteo/Projets_Recherche/P5_General_Depth_Fct/img_paper/pairwise_unimodal_n=4_seed=938.png\", dpi=200)\n",
    "\n",
    "f2 = exp_plot(my_paths, dists, torch_all_ranks, norm=\"L2\", title_add=title_add, thresholds=thresholds)"
   ]
  },
  {
   "cell_type": "code",
   "execution_count": null,
   "id": "a97ed0ee",
   "metadata": {},
   "outputs": [],
   "source": [
    "# Parameters changing for every exp\n",
    "w = \"[158.95894    20.97728     6.6816835   1.9798005]\" # seed=938, m=3\n",
    "title_add = \"\"\n",
    "\n",
    "# dist\n",
    "dists = [\"erm\", \"maxpair\"]\n",
    "my_paths = [get_path_exp(dist, w, delta, epochs, dist_type_sym, norm_type, ratio_norm_, prefix=prefix) for dist in dists]\n",
    "\n",
    "thresholds = np.array([0.2585, 0.2715, 0.3835, 0.4139, 0.4598, 0.4878])\n",
    "\n",
    "f1 = exp_plot(my_paths, dists, torch_all_ranks, norm=\"L1\", title_add=title_add, plot_training=False, type_=\"pairwise\", n=4, thresholds=thresholds)\n",
    "plt.tight_layout()\n",
    "plt.savefig(f\"/Users/m.goibert/Documents/Criteo/Projets_Recherche/P5_General_Depth_Fct/img_paper/pairwise_unimodal_n=4_seed=938_m=3.png\", dpi=200)\n",
    "\n",
    "f2 = exp_plot(my_paths, dists, torch_all_ranks, norm=\"L2\", title_add=title_add, thresholds=thresholds)"
   ]
  },
  {
   "cell_type": "markdown",
   "id": "08c0a13c",
   "metadata": {},
   "source": [
    "### Multimodal"
   ]
  },
  {
   "cell_type": "code",
   "execution_count": null,
   "id": "189b265a",
   "metadata": {},
   "outputs": [],
   "source": [
    "# Basic (mostly unchanged) parameters\n",
    "delta = 1\n",
    "epochs = 50000\n",
    "dist_type_sym = False\n",
    "norm_type = \"1\"\n",
    "ratio_norm_ = 1.0\n",
    "prefix = \"pairwise_res/multimodal_sst/\""
   ]
  },
  {
   "cell_type": "code",
   "execution_count": null,
   "id": "c37b7072",
   "metadata": {},
   "outputs": [],
   "source": [
    "# Parameters changing for every exp seed = 37\n",
    "w = \"multimodal_sst_m=1.0_seed=37\"\n",
    "title_add = \"\"\n",
    "#thresholds = np.array([0.0289, 0.0433, 0.0672, 0.1060, 0.1363, 0.1784])\n",
    "thresholds = np.array([0.0180, 0.1379, 0.1467, 0.2958, 0.3197, 0.4023])\n",
    "\n",
    "# dist\n",
    "dists = [\"erm\", \"maxpair\"]#, \"merge\"]\n",
    "my_paths = [get_path_exp(dist, w, delta, epochs, dist_type_sym, norm_type, ratio_norm_, prefix=prefix) for dist in dists]\n",
    "\n",
    "f1 = exp_plot(my_paths, dists, torch_all_ranks, norm=\"L1\", title_add=title_add, thresholds=thresholds)\n",
    "plt.tight_layout()\n",
    "plt.savefig(f\"/Users/m.goibert/Documents/Criteo/Projets_Recherche/P5_General_Depth_Fct/img_paper/pairwise_multimodal_n=4_seed=37.png\", dpi=200)\n",
    "\n",
    "f2 = exp_plot(my_paths, dists, torch_all_ranks, norm=\"L2\", title_add=title_add, thresholds=thresholds)\n"
   ]
  },
  {
   "cell_type": "code",
   "execution_count": null,
   "id": "c88f3a6a",
   "metadata": {},
   "outputs": [],
   "source": [
    "# Parameters changing for every exp seed = 29 (m=2)\n",
    "w = \"multimodal_sst_m=2.0_seed=29\"\n",
    "title_add = \"\"\n",
    "thresholds = np.array([0.0064, 0.0128, 0.0154, 0.0245, 0.0777, 0.0977, 0.1309, 0.1570, 0.1800, 0.1832, 0.2017, 0.2517, 0.3017, 0.3517])\n",
    "epochs = 25000\n",
    "\n",
    "# dist\n",
    "dists = [\"erm\", \"maxpair\"]\n",
    "my_paths = [get_path_exp(dist, w, delta, epochs, dist_type_sym, norm_type, ratio_norm_, prefix=prefix) for dist in dists]\n",
    "\n",
    "f1 = exp_plot(my_paths, dists, torch_all_ranks, norm=\"L1\", title_add=title_add, thresholds=thresholds)\n",
    "#plt.tight_layout()\n",
    "#plt.savefig(f\"/Users/m.goibert/Documents/Criteo/Projets_Recherche/P5_General_Depth_Fct/img_paper/pairwise_multimodal_n=4_seed=29.png\", dpi=200)\n",
    "\n",
    "f2 = exp_plot(my_paths, dists, torch_all_ranks, norm=\"L2\", title_add=title_add, thresholds=thresholds)\n"
   ]
  },
  {
   "cell_type": "markdown",
   "id": "5fe41b52",
   "metadata": {},
   "source": [
    "### Pairwise Unimodal with n=8"
   ]
  },
  {
   "cell_type": "code",
   "execution_count": null,
   "id": "8378a6eb",
   "metadata": {},
   "outputs": [],
   "source": [
    "n_items = 8\n",
    "all_ranks = list(itertools.permutations(list(np.arange(n_items))))\n",
    "all_ranks = [np.array(elem) for elem in all_ranks]\n",
    "torch_all_ranks = torch.from_numpy(np.asarray(all_ranks))"
   ]
  },
  {
   "cell_type": "code",
   "execution_count": null,
   "id": "955f3594",
   "metadata": {},
   "outputs": [],
   "source": [
    "# Parameters changing for every exp\n",
    "w = \"[4.4905963  2.984672   1.3321997  1.0773835  0.5858078  0.54696006 0.4910444  0.14756523]\"\n",
    "title_add = \"m = 1\"\n",
    "epochs = 25000\n",
    "\n",
    "# dist\n",
    "dists = [\"erm\", \"maxpair\"]#, \"merge\"]\n",
    "my_paths = [get_path_exp(dist, w, delta, epochs, dist_type_sym, norm_type, ratio_norm_, prefix=prefix) for dist in dists]\n",
    "\n",
    "f1 = exp_plot(my_paths, dists, torch_all_ranks, norm=\"L1\", title_add=title_add, plot_training=False, type_=\"pairwise\", n=8)\n",
    "f2 = exp_plot(my_paths, dists, torch_all_ranks, norm=\"L2\", title_add=title_add)"
   ]
  },
  {
   "cell_type": "code",
   "execution_count": null,
   "id": "2bf8a8ca",
   "metadata": {},
   "outputs": [],
   "source": [
    "# Parameters changing for every exp\n",
    "w = \"[2.1191027  1.7276204  1.1542095  1.0379709  0.7653808  0.73956746 0.7007456  0.3841422]\"\n",
    "title_add = \"m = 0.5\"\n",
    "epochs = 25000\n",
    "\n",
    "# dist\n",
    "dists = [\"erm\",\"maxpair\"]#, \"merge\"]\n",
    "my_paths = [get_path_exp(dist, w, delta, epochs, dist_type_sym, norm_type, ratio_norm_, prefix=prefix) for dist in dists]\n",
    "\n",
    "f1 = exp_plot(my_paths, dists, torch_all_ranks, norm=\"L1\", title_add=title_add, plot_training=False, type_=\"pairwise\", n=8)\n",
    "f2 = exp_plot(my_paths, dists, torch_all_ranks, norm=\"L2\", title_add=title_add)"
   ]
  },
  {
   "cell_type": "code",
   "execution_count": null,
   "id": "dbdfc411",
   "metadata": {},
   "outputs": [],
   "source": [
    "# Parameters changing for every exp seed = 820\n",
    "w = \"[4.4905963  2.984672   1.3321997  1.0773835  0.5858078  0.54696006 0.4910444  0.14756523]\"\n",
    "title_add = \"m = 1\"\n",
    "epochs = 75000\n",
    "prefix = \"pairwise_res/unimodal/\"\n",
    "thresholds = np.array([0.0172, 0.0270, 0.0441, 0.0530, 0.1008, 0.1479, 0.1634, 0.1870, 0.1915,\n",
    "        0.1947, 0.2090, 0.2308, 0.2349, 0.2690, 0.2713, 0.2876, 0.2989, 0.3066,\n",
    "        0.3360, 0.3452, 0.3588, 0.3796, 0.3847, 0.3915, 0.4004, 0.4015, 0.4530,\n",
    "        0.4683])\n",
    "\n",
    "# dist\n",
    "dists = [\"erm\", \"maxpair\"]\n",
    "my_paths = [get_path_exp(dist, w, delta, epochs, dist_type_sym, norm_type, ratio_norm_, prefix=prefix) for dist in dists]\n",
    "\n",
    "f1 = exp_plot(my_paths, dists, torch_all_ranks, norm=\"L1\", title_add=title_add, plot_training=False, type_=\"pairwise\", n=n_items, thresholds=thresholds)\n",
    "f2 = exp_plot(my_paths, dists, torch_all_ranks, norm=\"L2\", title_add=title_add, thresholds=thresholds)\n",
    "                      "
   ]
  },
  {
   "cell_type": "code",
   "execution_count": null,
   "id": "e49255a5",
   "metadata": {},
   "outputs": [],
   "source": [
    "# Parameters changing for every exp seed = 372\n",
    "w = \"[8.780987   4.950233   3.1971316  1.5199904  1.2945006  0.45349538  0.15727499 0.04492239]\"\n",
    "title_add = \"\"\n",
    "epochs = 25000\n",
    "prefix = \"pairwise_res/unimodal/\"\n",
    "thresholds = np.array([0.0201, 0.0402, 0.0639, 0.1077, 0.1209, 0.1236, 0.1396, 0.1757, 0.1779,\n",
    "        0.1784, 0.1817, 0.2093, 0.2119, 0.2230, 0.2332, 0.2356, 0.2385, 0.2407,\n",
    "        0.2426, 0.2556, 0.2652, 0.2703, 0.2779, 0.2868, 0.2904, 0.2928, 0.2966,\n",
    "        0.3092, 0.3243, 0.3358, 0.3370, 0.3432, 0.3525, 0.3535, 0.3611, 0.3656,\n",
    "        0.3716, 0.3759, 0.3811, 0.3914, 0.3918, 0.4063, 0.4100, 0.4162, 0.4175,\n",
    "        0.4314, 0.4510, 0.4532, 0.4666, 0.4693, 0.4714, 0.4825, 0.4862, 0.4911,\n",
    "        0.4950])\n",
    "\n",
    "# dist\n",
    "dists = [\"erm\"]#, \"maxpair\"]\n",
    "my_paths = [get_path_exp(dist, w, delta, epochs, dist_type_sym, norm_type, ratio_norm_, prefix=prefix) for dist in dists]\n",
    "\n",
    "f1 = exp_plot(my_paths, dists, torch_all_ranks, norm=\"L1\", title_add=title_add, plot_training=True, type_=\"pairwise\", n=8, thresholds=thresholds)\n",
    "f2 = exp_plot(my_paths, dists, torch_all_ranks, norm=\"L2\", title_add=title_add, thresholds=thresholds)\n",
    "                      "
   ]
  },
  {
   "cell_type": "code",
   "execution_count": null,
   "id": "cbedc545",
   "metadata": {},
   "outputs": [],
   "source": []
  },
  {
   "cell_type": "code",
   "execution_count": null,
   "id": "915459e9",
   "metadata": {},
   "outputs": [],
   "source": []
  },
  {
   "cell_type": "code",
   "execution_count": null,
   "id": "f2f93571",
   "metadata": {},
   "outputs": [],
   "source": [
    "def return_pairwise_mat(M):\n",
    "    for i in range(M.shape[0]):\n",
    "        M[i,i] = torch.tensor(0.0)\n",
    "        for j in range(i+1, M.shape[0]):\n",
    "            if M[i,j] > torch.tensor(1.0):\n",
    "                M[i,j] = torch.tensor(1.0)\n",
    "            if M[i,j] < torch.tensor(0.0):\n",
    "                M[i,j] = torch.tensor(0.0)\n",
    "            M[j,i] = 1.0-M[i,j]\n",
    "    return M\n",
    "\n",
    "def monte_carlo_phi(P, Q, dist_Tp_Tq, std_dev_=0.00001, nb_simu=50):\n",
    "    kernel_conv = lambda _S: MultivariateNormal(_S.reshape(-1), std_dev_*torch.eye(_S.reshape(-1).shape[0])) #MultivariateNormal(_s, std_dev_*torch.eye(_s.size()[-1]))\n",
    "    rhos = list()\n",
    "    for i in range(nb_simu):\n",
    "        Q2 = kernel_conv(Q.float()).sample(torch.Size()).reshape((P.shape[0], P.shape[1]))\n",
    "        Q2 = return_pairwise_mat(Q2)\n",
    "        rho = dist_Tp_Tq(P, Q2).detach().numpy().item()\n",
    "        rhos.append(rho)\n",
    "    rho_final = np.mean(rhos)\n",
    "    return torch.tensor(rho_final)\n",
    "\n",
    "class NewPhi(torch.autograd.Function):\n",
    "    \"\"\"\n",
    "    We can implement our own custom autograd Functions by subclassing\n",
    "    torch.autograd.Function and implementing the forward and backward passes\n",
    "    which operate on Tensors.\n",
    "    \"\"\"\n",
    "    def __init__(self):\n",
    "        self.name = \"New Phi class\"\n",
    "\n",
    "    @staticmethod\n",
    "    def forward(ctx, input_S, input_backward, P, dist_Tp_Tq, std_dev_, nb_simu):\n",
    "        \"\"\"\n",
    "        In the forward pass we receive a Tensor containing the input and return\n",
    "        a Tensor containing the output. ctx is a context object that can be used\n",
    "        to stash information for backward computation. You can cache arbitrary\n",
    "        objects for use in the backward pass using the ctx.save_for_backward method.\n",
    "        \"\"\"\n",
    "        with torch.no_grad():\n",
    "            softsign = torch.nn.Softsign()\n",
    "            ctx.save_for_backward(input_backward)\n",
    "            if len(input_S.shape) < 2:\n",
    "                input_Q2 = torch.zeros((P.shape[0],P.shape[0]))\n",
    "                input_Q2[torch.triu(torch.ones(P.shape[0], P.shape[0]), 1) == 1] = (softsign(input_S) + 1.0)/2.0\n",
    "                input_Q2[torch.tril(torch.ones(P.shape[0], P.shape[0]), -1) == 1] = 1.0 - (softsign(input_S) + 1.0)/2.0\n",
    "            else:\n",
    "                input_Q2 = input_S\n",
    "            monte_carlo_val = monte_carlo_phi(P, input_Q2, dist_Tp_Tq, std_dev_=std_dev_, nb_simu=nb_simu)\n",
    "            return monte_carlo_val\n",
    "\n",
    "    @staticmethod\n",
    "    def backward(ctx, grad_output):\n",
    "        \"\"\"\n",
    "        In the backward pass we receive a Tensor containing the gradient of the loss\n",
    "        with respect to the output, and we need to compute the gradient of the loss\n",
    "        with respect to the input.\n",
    "        \"\"\"\n",
    "        back_,  = ctx.saved_tensors\n",
    "        #print(f\"back size = {back_.shape} ({back_}) and grad = {grad_output.shape} ({grad_output})\")\n",
    "        #print(f\"size grad phi = {(back_ * grad_output).shape}\")\n",
    "        return (back_ * grad_output), None, None, None, None, None\n",
    "\n",
    "def subsample_fct(vect, time=10):\n",
    "    l = len(vect)\n",
    "    res = vect[0:l:time]\n",
    "    return res\n",
    "\n",
    "def plot_end_training_pairwise(P, dist_Tp_Tq, norms_, losses, mean_qs_, phis_, mean_phi2_, lambdas_, mean_lambdas_, grad_data,\n",
    "                      freq_phi_, norm_type):\n",
    "    f, ax = plt.subplots(2, 2, figsize=(15, 8))\n",
    "    ax[0, 0].plot(norms_)\n",
    "    # ax[0,0].set_ylim([-0.05, 2.05])\n",
    "    ax[0, 0].set_title(f\"Norm diff btw p and q\")\n",
    "\n",
    "    ax[0, 1].plot(phis_)\n",
    "    ax[0, 1].set_ylim([-0.05, 6.05])\n",
    "    ax[0, 1].set_title(f\"Phi\")\n",
    "\n",
    "    ax[1, 0].plot(lambdas_)\n",
    "    # ax[1,0].set_ylim([-0.05, 8.05])\n",
    "    ax[1, 0].set_title(f\"Lambda\")\n",
    "\n",
    "    ax[1, 1].plot(losses)\n",
    "    # ax[1,1].set_ylim([-10.05, 10.05])\n",
    "    ax[1, 1].set_title(f\"Loss\")\n",
    "    plt.show()\n",
    "\n",
    "    #print(\"\\n \\n\")\n",
    "    time_fct = 1000\n",
    "    x_axis_val = subsample_fct(np.linspace(0, len(mean_lambdas_), len(mean_lambdas_)), time=time_fct)\n",
    "    f, ax = plt.subplots(2, 2, figsize=(15, 8))\n",
    "\n",
    "    mean_qs_subsample = subsample_fct(mean_qs_, time_fct)\n",
    "    mean_qs1_ = [torch.norm(P - torch.tensor(mean_q_), int(norm_type)) for mean_q_ in\n",
    "                 mean_qs_subsample]  # [mean_q_[0] for mean_q_ in mean_qs_]\n",
    "    ax[0, 0].plot(x_axis_val, mean_qs1_)\n",
    "    # ax[0,0].set_ylim([-0.05, 1.05])\n",
    "    ax[0, 0].set_title(f\"Norm of the difference between p and q\")\n",
    "\n",
    "    Phi_ = NewPhi.apply\n",
    "    mean_phis_ = [Phi_(torch.tensor(mean_q_), grad_data, P, dist_Tp_Tq, 1e-7, 100) for mean_q_ in mean_qs_subsample]\n",
    "    ax[0, 1].plot(x_axis_val, mean_phis_, label=\"from mean q\")\n",
    "    ax[0, 1].plot(x_axis_val, subsample_fct(mean_phi2_, time_fct), label=\"from phis\")\n",
    "    ax[0, 1].legend()\n",
    "    ax[0, 1].set_ylim([-0.05, 6.05])\n",
    "    ax[0, 1].set_title(f\"Phi\")\n",
    "\n",
    "    ax[1, 0].plot(x_axis_val, subsample_fct(mean_lambdas_, time_fct))\n",
    "    ax[1, 0].set_title(f\"Lambda\")\n",
    "\n",
    "    ax[1, 1].plot(x_axis_val, subsample_fct(losses, time_fct))\n",
    "    ax[1, 1].set_title(f\"Loss\")\n",
    "    plt.plot()"
   ]
  },
  {
   "cell_type": "code",
   "execution_count": null,
   "id": "61ca5e08",
   "metadata": {},
   "outputs": [],
   "source": []
  },
  {
   "cell_type": "code",
   "execution_count": null,
   "id": "a516dcb8",
   "metadata": {},
   "outputs": [],
   "source": []
  },
  {
   "cell_type": "code",
   "execution_count": null,
   "id": "66d90dc0",
   "metadata": {},
   "outputs": [],
   "source": []
  },
  {
   "cell_type": "markdown",
   "id": "82df273d",
   "metadata": {},
   "source": [
    "## Revamp"
   ]
  },
  {
   "cell_type": "markdown",
   "id": "58a16ce6",
   "metadata": {},
   "source": [
    "#### Unimodal uniform"
   ]
  },
  {
   "cell_type": "code",
   "execution_count": 81,
   "id": "c0a3e805",
   "metadata": {},
   "outputs": [
    {
     "name": "stderr",
     "output_type": "stream",
     "text": [
      "[autoreload of app.launcher_classic failed: Traceback (most recent call last):\n",
      "  File \"/Users/m.goibert/miniforge3/lib/python3.9/site-packages/IPython/extensions/autoreload.py\", line 245, in check\n",
      "    superreload(m, reload, self.old_objects)\n",
      "  File \"/Users/m.goibert/miniforge3/lib/python3.9/site-packages/IPython/extensions/autoreload.py\", line 410, in superreload\n",
      "    update_generic(old_obj, new_obj)\n",
      "  File \"/Users/m.goibert/miniforge3/lib/python3.9/site-packages/IPython/extensions/autoreload.py\", line 347, in update_generic\n",
      "    update(a, b)\n",
      "  File \"/Users/m.goibert/miniforge3/lib/python3.9/site-packages/IPython/extensions/autoreload.py\", line 302, in update_class\n",
      "    if update_generic(old_obj, new_obj): continue\n",
      "  File \"/Users/m.goibert/miniforge3/lib/python3.9/site-packages/IPython/extensions/autoreload.py\", line 347, in update_generic\n",
      "    update(a, b)\n",
      "  File \"/Users/m.goibert/miniforge3/lib/python3.9/site-packages/IPython/extensions/autoreload.py\", line 302, in update_class\n",
      "    if update_generic(old_obj, new_obj): continue\n",
      "  File \"/Users/m.goibert/miniforge3/lib/python3.9/site-packages/IPython/extensions/autoreload.py\", line 347, in update_generic\n",
      "    update(a, b)\n",
      "  File \"/Users/m.goibert/miniforge3/lib/python3.9/site-packages/IPython/extensions/autoreload.py\", line 302, in update_class\n",
      "    if update_generic(old_obj, new_obj): continue\n",
      "  File \"/Users/m.goibert/miniforge3/lib/python3.9/site-packages/IPython/extensions/autoreload.py\", line 347, in update_generic\n",
      "    update(a, b)\n",
      "  File \"/Users/m.goibert/miniforge3/lib/python3.9/site-packages/IPython/extensions/autoreload.py\", line 302, in update_class\n",
      "    if update_generic(old_obj, new_obj): continue\n",
      "RecursionError: maximum recursion depth exceeded\n",
      "]\n",
      "/var/folders/lv/q8rb__s56z713dgsz22yrb4w0000gp/T/ipykernel_61590/708935748.py:9: UserWarning: To copy construct from a tensor, it is recommended to use sourceTensor.clone().detach() or sourceTensor.clone().detach().requires_grad_(True), rather than torch.tensor(sourceTensor).\n",
      "  minval = torch.min( torch.tensor(eps_list1[i]), torch.tensor(alt_eps_list1[i]) )\n",
      "/var/folders/lv/q8rb__s56z713dgsz22yrb4w0000gp/T/ipykernel_61590/708935748.py:10: UserWarning: To copy construct from a tensor, it is recommended to use sourceTensor.clone().detach() or sourceTensor.clone().detach().requires_grad_(True), rather than torch.tensor(sourceTensor).\n",
      "  maxval = torch.max( torch.tensor(eps_list1[i]), torch.tensor(alt_eps_list1[i]) )\n",
      "/var/folders/lv/q8rb__s56z713dgsz22yrb4w0000gp/T/ipykernel_61590/708935748.py:12: UserWarning: To copy construct from a tensor, it is recommended to use sourceTensor.clone().detach() or sourceTensor.clone().detach().requires_grad_(True), rather than torch.tensor(sourceTensor).\n",
      "  l1_norm.append(torch.tensor(eps_list1[i]))\n",
      "/var/folders/lv/q8rb__s56z713dgsz22yrb4w0000gp/T/ipykernel_61590/708935748.py:22: UserWarning: To copy construct from a tensor, it is recommended to use sourceTensor.clone().detach() or sourceTensor.clone().detach().requires_grad_(True), rather than torch.tensor(sourceTensor).\n",
      "  minval = torch.min( torch.tensor(eps_list2[i]), torch.tensor(alt_eps_list2[i]) )\n",
      "/var/folders/lv/q8rb__s56z713dgsz22yrb4w0000gp/T/ipykernel_61590/708935748.py:23: UserWarning: To copy construct from a tensor, it is recommended to use sourceTensor.clone().detach() or sourceTensor.clone().detach().requires_grad_(True), rather than torch.tensor(sourceTensor).\n",
      "  maxval = torch.max( torch.tensor(eps_list2[i]), torch.tensor(alt_eps_list2[i]) )\n",
      "/var/folders/lv/q8rb__s56z713dgsz22yrb4w0000gp/T/ipykernel_61590/708935748.py:25: UserWarning: To copy construct from a tensor, it is recommended to use sourceTensor.clone().detach() or sourceTensor.clone().detach().requires_grad_(True), rather than torch.tensor(sourceTensor).\n",
      "  l2_norm.append(torch.tensor(eps_list2[i]))\n"
     ]
    },
    {
     "name": "stdout",
     "output_type": "stream",
     "text": [
      "PTORCh = tensor([[0.0426, 0.0425, 0.0424, 0.0417, 0.0422, 0.0417, 0.0425, 0.0424, 0.0421,\n",
      "         0.0412, 0.0419, 0.0411, 0.0421, 0.0415, 0.0419, 0.0410, 0.0410, 0.0407,\n",
      "         0.0419, 0.0414, 0.0417, 0.0409, 0.0410, 0.0407]], dtype=torch.float64)\n",
      "perf_list = [2.9802862798290857] \n",
      "\n",
      " eps_list1 (l1 norm) = [tensor(0.0022, dtype=torch.float64)]  \n",
      " eps_list2 (l2 norm) = [tensor(0.0005, dtype=torch.float64)] \n",
      "\n",
      " alt_eps_list1 (l1 norm) = [tensor(0.0031, dtype=torch.float64)]  \n",
      " alt_eps_list2 (l2 norm) = [tensor(0.0031, dtype=torch.float64)] \n",
      "\n",
      "\n",
      "normalize l1 norm = [tensor(0.0011, dtype=torch.float64)]\n",
      "for point nb 0 --> l1_norm = [tensor(0.0011, dtype=torch.float64)]\n",
      "PTORCh = tensor([[0.0426, 0.0425, 0.0424, 0.0417, 0.0422, 0.0417, 0.0425, 0.0424, 0.0421,\n",
      "         0.0412, 0.0419, 0.0411, 0.0421, 0.0415, 0.0419, 0.0410, 0.0410, 0.0407,\n",
      "         0.0419, 0.0414, 0.0417, 0.0409, 0.0410, 0.0407]], dtype=torch.float64)\n",
      "perf_list = [2.9802862798290857, 2.9802862798290857, 2.9802862798290857, 2.9802862798290857, 2.981116496611806, 2.981116496611806, 2.981116496611806, 2.9829873618952756, 2.983188981370212] \n",
      "\n",
      " eps_list1 (l1 norm) = [tensor(0.0020, dtype=torch.float64), tensor(0.0016, dtype=torch.float64), tensor(0.0013, dtype=torch.float64), tensor(0.0013, dtype=torch.float64), tensor(0.0021, dtype=torch.float64), tensor(0.0020, dtype=torch.float64), tensor(0.0013, dtype=torch.float64), tensor(0.0012, dtype=torch.float64), tensor(0.0003, dtype=torch.float64)]  \n",
      " eps_list2 (l2 norm) = [tensor(0.0005, dtype=torch.float64), tensor(0.0004, dtype=torch.float64), tensor(0.0003, dtype=torch.float64), tensor(0.0003, dtype=torch.float64), tensor(0.0005, dtype=torch.float64), tensor(0.0005, dtype=torch.float64), tensor(0.0003, dtype=torch.float64), tensor(0.0003, dtype=torch.float64), tensor(7.6373e-05, dtype=torch.float64)] \n",
      "\n",
      " alt_eps_list1 (l1 norm) = [tensor(0.0022, dtype=torch.float64), tensor(0.0021, dtype=torch.float64), tensor(0.0016, dtype=torch.float64), tensor(0.0013, dtype=torch.float64), tensor(0.0027, dtype=torch.float64), tensor(0.0023, dtype=torch.float64), tensor(0.0015, dtype=torch.float64), tensor(0.0014, dtype=torch.float64), tensor(0.0001, dtype=torch.float64)]  \n",
      " alt_eps_list2 (l2 norm) = [tensor(0.0022, dtype=torch.float64), tensor(0.0021, dtype=torch.float64), tensor(0.0016, dtype=torch.float64), tensor(0.0013, dtype=torch.float64), tensor(0.0027, dtype=torch.float64), tensor(0.0023, dtype=torch.float64), tensor(0.0015, dtype=torch.float64), tensor(0.0014, dtype=torch.float64), tensor(0.0001, dtype=torch.float64)] \n",
      "\n",
      "\n",
      "normalize l1 norm = [tensor(0.0010, dtype=torch.float64), tensor(0.0008, dtype=torch.float64), tensor(0.0007, dtype=torch.float64), tensor(0.0006, dtype=torch.float64), tensor(0.0010, dtype=torch.float64), tensor(0.0010, dtype=torch.float64), tensor(0.0006, dtype=torch.float64), tensor(0.0006, dtype=torch.float64), tensor(0.0002, dtype=torch.float64)]\n",
      "for point nb 1 --> l1_norm = [tensor(0.0010, dtype=torch.float64), tensor(0.0008, dtype=torch.float64), tensor(0.0007, dtype=torch.float64), tensor(0.0006, dtype=torch.float64), tensor(0.0010, dtype=torch.float64), tensor(0.0010, dtype=torch.float64), tensor(0.0006, dtype=torch.float64), tensor(0.0006, dtype=torch.float64), tensor(0.0002, dtype=torch.float64)]\n",
      "PTORCh = tensor([[0.0426, 0.0425, 0.0424, 0.0417, 0.0422, 0.0417, 0.0425, 0.0424, 0.0421,\n",
      "         0.0412, 0.0419, 0.0411, 0.0421, 0.0415, 0.0419, 0.0410, 0.0410, 0.0407,\n",
      "         0.0419, 0.0414, 0.0417, 0.0409, 0.0410, 0.0407]], dtype=torch.float64)\n",
      "perf_list = [2.999838528665991, 2.999838528665991, 2.999838528665991, 2.999838528665991, 2.999827162481257, 2.999827162481257, 2.999827162481257, 2.999827162481257, 2.999827162481257] \n",
      "\n",
      " eps_list1 (l1 norm) = [tensor(0.0037, dtype=torch.float64), tensor(0.0030, dtype=torch.float64), tensor(0.0041, dtype=torch.float64), tensor(0.0028, dtype=torch.float64), tensor(0.0001, dtype=torch.float64), tensor(0.0001, dtype=torch.float64), tensor(6.1150e-05, dtype=torch.float64), tensor(7.1885e-05, dtype=torch.float64), tensor(0.0005, dtype=torch.float64)]  \n",
      " eps_list2 (l2 norm) = [tensor(0.0010, dtype=torch.float64), tensor(0.0007, dtype=torch.float64), tensor(0.0012, dtype=torch.float64), tensor(0.0008, dtype=torch.float64), tensor(3.0163e-05, dtype=torch.float64), tensor(3.7218e-05, dtype=torch.float64), tensor(1.5812e-05, dtype=torch.float64), tensor(1.8501e-05, dtype=torch.float64), tensor(0.0001, dtype=torch.float64)] \n",
      "\n",
      " alt_eps_list1 (l1 norm) = [tensor(0.0038, dtype=torch.float64), tensor(0.0020, dtype=torch.float64), tensor(0.0009, dtype=torch.float64), tensor(0.0011, dtype=torch.float64), tensor(0.0002, dtype=torch.float64), tensor(0.0002, dtype=torch.float64), tensor(0.0002, dtype=torch.float64), tensor(5.2842e-05, dtype=torch.float64), tensor(0.0002, dtype=torch.float64)]  \n",
      " alt_eps_list2 (l2 norm) = [tensor(0.0038, dtype=torch.float64), tensor(0.0020, dtype=torch.float64), tensor(0.0009, dtype=torch.float64), tensor(0.0011, dtype=torch.float64), tensor(0.0002, dtype=torch.float64), tensor(0.0002, dtype=torch.float64), tensor(0.0002, dtype=torch.float64), tensor(5.2842e-05, dtype=torch.float64), tensor(0.0002, dtype=torch.float64)] \n",
      "\n",
      "\n",
      "normalize l1 norm = [tensor(0.0018, dtype=torch.float64), tensor(0.0015, dtype=torch.float64), tensor(0.0020, dtype=torch.float64), tensor(0.0014, dtype=torch.float64), tensor(5.9269e-05, dtype=torch.float64), tensor(7.3154e-05, dtype=torch.float64), tensor(3.0575e-05, dtype=torch.float64), tensor(3.5942e-05, dtype=torch.float64), tensor(0.0002, dtype=torch.float64)]\n",
      "for point nb 2 --> l1_norm = [tensor(0.0018, dtype=torch.float64), tensor(0.0015, dtype=torch.float64), tensor(0.0020, dtype=torch.float64), tensor(0.0014, dtype=torch.float64), tensor(5.9269e-05, dtype=torch.float64), tensor(7.3154e-05, dtype=torch.float64), tensor(3.0575e-05, dtype=torch.float64), tensor(3.5942e-05, dtype=torch.float64), tensor(0.0002, dtype=torch.float64)]\n",
      "PTORCh = tensor([[0.0426, 0.0425, 0.0424, 0.0417, 0.0422, 0.0417, 0.0425, 0.0424, 0.0421,\n",
      "         0.0412, 0.0419, 0.0411, 0.0421, 0.0415, 0.0419, 0.0410, 0.0410, 0.0407,\n",
      "         0.0419, 0.0414, 0.0417, 0.0409, 0.0410, 0.0407]], dtype=torch.float64)\n",
      "perf_list = [2.9802862798290857] \n",
      "\n",
      " eps_list1 (l1 norm) = [tensor(0.0022, dtype=torch.float64)]  \n",
      " eps_list2 (l2 norm) = [tensor(0.0005, dtype=torch.float64)] \n",
      "\n",
      " alt_eps_list1 (l1 norm) = [tensor(0.0031, dtype=torch.float64)]  \n",
      " alt_eps_list2 (l2 norm) = [tensor(0.0031, dtype=torch.float64)] \n",
      "\n",
      "\n",
      "normalize l1 norm = [tensor(0.0011, dtype=torch.float64)]\n",
      "for point nb 0 --> l1_norm = [tensor(0.0011, dtype=torch.float64)]\n",
      "PTORCh = tensor([[0.0426, 0.0425, 0.0424, 0.0417, 0.0422, 0.0417, 0.0425, 0.0424, 0.0421,\n",
      "         0.0412, 0.0419, 0.0411, 0.0421, 0.0415, 0.0419, 0.0410, 0.0410, 0.0407,\n",
      "         0.0419, 0.0414, 0.0417, 0.0409, 0.0410, 0.0407]], dtype=torch.float64)\n",
      "perf_list = [2.9802862798290857, 2.9802862798290857, 2.9802862798290857, 2.9802862798290857, 2.981116496611806, 2.981116496611806, 2.981116496611806, 2.9829873618952756, 2.983188981370212] \n",
      "\n",
      " eps_list1 (l1 norm) = [tensor(0.0020, dtype=torch.float64), tensor(0.0016, dtype=torch.float64), tensor(0.0013, dtype=torch.float64), tensor(0.0013, dtype=torch.float64), tensor(0.0021, dtype=torch.float64), tensor(0.0020, dtype=torch.float64), tensor(0.0013, dtype=torch.float64), tensor(0.0012, dtype=torch.float64), tensor(0.0003, dtype=torch.float64)]  \n",
      " eps_list2 (l2 norm) = [tensor(0.0005, dtype=torch.float64), tensor(0.0004, dtype=torch.float64), tensor(0.0003, dtype=torch.float64), tensor(0.0003, dtype=torch.float64), tensor(0.0005, dtype=torch.float64), tensor(0.0005, dtype=torch.float64), tensor(0.0003, dtype=torch.float64), tensor(0.0003, dtype=torch.float64), tensor(7.6373e-05, dtype=torch.float64)] \n",
      "\n",
      " alt_eps_list1 (l1 norm) = [tensor(0.0022, dtype=torch.float64), tensor(0.0021, dtype=torch.float64), tensor(0.0016, dtype=torch.float64), tensor(0.0013, dtype=torch.float64), tensor(0.0027, dtype=torch.float64), tensor(0.0023, dtype=torch.float64), tensor(0.0015, dtype=torch.float64), tensor(0.0014, dtype=torch.float64), tensor(0.0001, dtype=torch.float64)]  \n",
      " alt_eps_list2 (l2 norm) = [tensor(0.0022, dtype=torch.float64), tensor(0.0021, dtype=torch.float64), tensor(0.0016, dtype=torch.float64), tensor(0.0013, dtype=torch.float64), tensor(0.0027, dtype=torch.float64), tensor(0.0023, dtype=torch.float64), tensor(0.0015, dtype=torch.float64), tensor(0.0014, dtype=torch.float64), tensor(0.0001, dtype=torch.float64)] \n",
      "\n",
      "\n",
      "normalize l1 norm = [tensor(0.0010, dtype=torch.float64), tensor(0.0008, dtype=torch.float64), tensor(0.0007, dtype=torch.float64), tensor(0.0006, dtype=torch.float64), tensor(0.0010, dtype=torch.float64), tensor(0.0010, dtype=torch.float64), tensor(0.0006, dtype=torch.float64), tensor(0.0006, dtype=torch.float64), tensor(0.0002, dtype=torch.float64)]\n",
      "for point nb 1 --> l1_norm = [tensor(0.0010, dtype=torch.float64), tensor(0.0008, dtype=torch.float64), tensor(0.0007, dtype=torch.float64), tensor(0.0006, dtype=torch.float64), tensor(0.0010, dtype=torch.float64), tensor(0.0010, dtype=torch.float64), tensor(0.0006, dtype=torch.float64), tensor(0.0006, dtype=torch.float64), tensor(0.0002, dtype=torch.float64)]\n"
     ]
    },
    {
     "name": "stdout",
     "output_type": "stream",
     "text": [
      "PTORCh = tensor([[0.0426, 0.0425, 0.0424, 0.0417, 0.0422, 0.0417, 0.0425, 0.0424, 0.0421,\n",
      "         0.0412, 0.0419, 0.0411, 0.0421, 0.0415, 0.0419, 0.0410, 0.0410, 0.0407,\n",
      "         0.0419, 0.0414, 0.0417, 0.0409, 0.0410, 0.0407]], dtype=torch.float64)\n",
      "perf_list = [2.999838528665991, 2.999838528665991, 2.999838528665991, 2.999838528665991, 2.999827162481257, 2.999827162481257, 2.999827162481257, 2.999827162481257, 2.999827162481257] \n",
      "\n",
      " eps_list1 (l1 norm) = [tensor(0.0037, dtype=torch.float64), tensor(0.0030, dtype=torch.float64), tensor(0.0041, dtype=torch.float64), tensor(0.0028, dtype=torch.float64), tensor(0.0001, dtype=torch.float64), tensor(0.0001, dtype=torch.float64), tensor(6.1150e-05, dtype=torch.float64), tensor(7.1885e-05, dtype=torch.float64), tensor(0.0005, dtype=torch.float64)]  \n",
      " eps_list2 (l2 norm) = [tensor(0.0010, dtype=torch.float64), tensor(0.0007, dtype=torch.float64), tensor(0.0012, dtype=torch.float64), tensor(0.0008, dtype=torch.float64), tensor(3.0163e-05, dtype=torch.float64), tensor(3.7218e-05, dtype=torch.float64), tensor(1.5812e-05, dtype=torch.float64), tensor(1.8501e-05, dtype=torch.float64), tensor(0.0001, dtype=torch.float64)] \n",
      "\n",
      " alt_eps_list1 (l1 norm) = [tensor(0.0038, dtype=torch.float64), tensor(0.0020, dtype=torch.float64), tensor(0.0009, dtype=torch.float64), tensor(0.0011, dtype=torch.float64), tensor(0.0002, dtype=torch.float64), tensor(0.0002, dtype=torch.float64), tensor(0.0002, dtype=torch.float64), tensor(5.2842e-05, dtype=torch.float64), tensor(0.0002, dtype=torch.float64)]  \n",
      " alt_eps_list2 (l2 norm) = [tensor(0.0038, dtype=torch.float64), tensor(0.0020, dtype=torch.float64), tensor(0.0009, dtype=torch.float64), tensor(0.0011, dtype=torch.float64), tensor(0.0002, dtype=torch.float64), tensor(0.0002, dtype=torch.float64), tensor(0.0002, dtype=torch.float64), tensor(5.2842e-05, dtype=torch.float64), tensor(0.0002, dtype=torch.float64)] \n",
      "\n",
      "\n",
      "normalize l1 norm = [tensor(0.0018, dtype=torch.float64), tensor(0.0015, dtype=torch.float64), tensor(0.0020, dtype=torch.float64), tensor(0.0014, dtype=torch.float64), tensor(5.9269e-05, dtype=torch.float64), tensor(7.3154e-05, dtype=torch.float64), tensor(3.0575e-05, dtype=torch.float64), tensor(3.5942e-05, dtype=torch.float64), tensor(0.0002, dtype=torch.float64)]\n",
      "for point nb 2 --> l1_norm = [tensor(0.0018, dtype=torch.float64), tensor(0.0015, dtype=torch.float64), tensor(0.0020, dtype=torch.float64), tensor(0.0014, dtype=torch.float64), tensor(5.9269e-05, dtype=torch.float64), tensor(7.3154e-05, dtype=torch.float64), tensor(3.0575e-05, dtype=torch.float64), tensor(3.5942e-05, dtype=torch.float64), tensor(0.0002, dtype=torch.float64)]\n"
     ]
    },
    {
     "data": {
      "image/png": "[encoded data removed]",
      "text/plain": [
       "<Figure size 432x216 with 2 Axes>"
      ]
     },
     "metadata": {
      "needs_background": "light"
     },
     "output_type": "display_data"
    },
    {
     "data": {
      "image/png": "[encoded data removed]",
      "text/plain": [
       "<Figure size 432x216 with 2 Axes>"
      ]
     },
     "metadata": {
      "needs_background": "light"
     },
     "output_type": "display_data"
    }
   ],
   "source": [
    "# Basic (mostly unchanged) parameters\n",
    "delta = 1\n",
    "epochs = 20000\n",
    "dist_type_sym = False\n",
    "norm_type = \"1\"\n",
    "ratio_norm_ = 1.0\n",
    "prefix = \"unimodal/\"\n",
    "seed_val = 279\n",
    "n_items = 4\n",
    "all_ranks = list(itertools.permutations(list(np.arange(n_items))))\n",
    "all_ranks = [np.array(elem) for elem in all_ranks]\n",
    "torch_all_ranks = torch.from_numpy(np.asarray(all_ranks))\n",
    "\n",
    "choose_val = \"full\"\n",
    "\n",
    "# Parameters changing for every exp seed = 279\n",
    "m = 0.01\n",
    "w = f\"[0.99852407 0.9910795  0.9796387  0.97639084]\"\n",
    "title_add = \"\"\n",
    "\n",
    "thresholds = np.array([0.0002, 0.0005, 0.0007, 0.0007, 0.0009, 0.0011, 0.0015, 0.0020, 0.0030])\n",
    "\n",
    "# dist\n",
    "dists = [\"erm\", \"maxpair\", \"merge\"]\n",
    "my_paths = [get_path_exp(dist, w, delta, epochs, dist_type_sym, norm_type, ratio_norm_, prefix=prefix) for dist in dists]\n",
    "\n",
    "f1 = exp_plot(my_paths, dists, torch_all_ranks, norm=\"L1\", title_add=title_add, plot_training=False, type_=\"classic\", n=n_items, thresholds=thresholds, choose_val=choose_val)\n",
    "#plt.tight_layout()\n",
    "#plt.savefig(f\"/Users/m.goibert/Documents/Criteo/Projets_Recherche/P5_General_Depth_Fct/img_paper/classic_uniform_n=4_seed=279.png\", dpi=200)\n",
    "\n",
    "f2 = exp_plot(my_paths, dists, torch_all_ranks, norm=\"L2\", title_add=title_add, thresholds=thresholds, choose_val=choose_val)\n",
    "                      "
   ]
  },
  {
   "cell_type": "markdown",
   "id": "105397e1",
   "metadata": {},
   "source": [
    "#### Unimodal peaked"
   ]
  },
  {
   "cell_type": "code",
   "execution_count": null,
   "id": "d0411bbe",
   "metadata": {},
   "outputs": [],
   "source": [
    "# Basic (mostly unchanged) parameters\n",
    "n_items = 4\n",
    "all_ranks = list(itertools.permutations(list(np.arange(n_items))))\n",
    "all_ranks = [np.array(elem) for elem in all_ranks]\n",
    "torch_all_ranks = torch.from_numpy(np.asarray(all_ranks))\n",
    "\n",
    "delta = 1\n",
    "epochs = 20000\n",
    "dist_type_sym = False\n",
    "norm_type = \"1\"\n",
    "ratio_norm_ = 1.0\n",
    "prefix = \"unimodal/\"\n",
    "seed_val = 279\n",
    "choose_val = \"full\"\n",
    "\n",
    "# Parameters changing for every exp seed = 279\n",
    "m = 10\n",
    "w = \"[2.2831823e-01 1.2837668e-04 1.1639423e-09 4.2043390e-11]\"\n",
    "title_add = \"\"\n",
    "\n",
    "thresholds = np.array([0.1163, 0.2121, 0.2326, 0.3079, 0.3489, 0.4037, 0.4652, 0.4995])\n",
    "\n",
    "# dist\n",
    "dists = [\"erm\", \"maxpair\", \"merge\"]\n",
    "my_paths = [get_path_exp(dist, w, delta, epochs, dist_type_sym, norm_type, ratio_norm_, prefix=prefix) for dist in dists]\n",
    "\n",
    "f1 = exp_plot(my_paths, dists, torch_all_ranks, norm=\"L1\", title_add=title_add, plot_training=False, type_=\"classic\", n=n_items, thresholds=thresholds, choose_val=choose_val)\n",
    "#plt.tight_layout()\n",
    "#plt.savefig(f\"/Users/m.goibert/Documents/Criteo/Projets_Recherche/P5_General_Depth_Fct/img_paper/classic_dirac_n=4_seed=279.png\", dpi=200)\n",
    "\n",
    "\n",
    "f2 = exp_plot(my_paths, dists, torch_all_ranks, norm=\"L2\", title_add=title_add, thresholds=thresholds)\n",
    "  "
   ]
  },
  {
   "cell_type": "code",
   "execution_count": null,
   "id": "b0052a90",
   "metadata": {},
   "outputs": [],
   "source": []
  },
  {
   "cell_type": "markdown",
   "id": "ccf63e6f",
   "metadata": {},
   "source": [
    "#### Two untied classic"
   ]
  },
  {
   "cell_type": "code",
   "execution_count": null,
   "id": "5bb7491c",
   "metadata": {},
   "outputs": [],
   "source": [
    "# Basic (mostly unchanged) parameters\n",
    "delta = 1\n",
    "epochs = 50000\n",
    "dist_type_sym = False\n",
    "norm_type = \"1\"\n",
    "ratio_norm_ = 1.0\n",
    "prefix = \"two_untied/\"\n",
    "seed_val = 279\n",
    "n_items = 4\n",
    "all_ranks = list(itertools.permutations(list(np.arange(n_items))))\n",
    "all_ranks = [np.array(elem) for elem in all_ranks]\n",
    "torch_all_ranks = torch.from_numpy(np.asarray(all_ranks))\n",
    "\n",
    "choose_val = \"alt\"\n",
    "\n",
    "# Parameters changing for every exp seed = 279\n",
    "mixture_val = 1.0\n",
    "gap_mode = 0.1\n",
    "w = f\"two_untied_mix={mixture_val}_gap={gap_mode}_seed={seed_val}_n=4\"\n",
    "title_add = \"\"\n",
    "\n",
    "thresholds = np.array([0.0250, 0.0501, 0.0751, 0.1001, 0.1438, 0.2626, 0.3813])\n",
    "\n",
    "# dist\n",
    "dists = [\"erm\", \"maxpair\", \"merge\"]\n",
    "my_paths = [get_path_exp(dist, w, delta, epochs, dist_type_sym, norm_type, ratio_norm_, prefix=prefix) for dist in dists]\n",
    "\n",
    "f1 = exp_plot(my_paths, dists, torch_all_ranks, norm=\"L1\", title_add=title_add, plot_training=False, type_=\"classic\", n=n_items, thresholds=thresholds, choose_val=choose_val)\n",
    "#plt.tight_layout()\n",
    "#plt.savefig(f\"/Users/m.goibert/Documents/Criteo/Projets_Recherche/P5_General_Depth_Fct/img_paper/classic_two_untied_n=4_seed=279.png\", dpi=200)\n",
    "\n",
    "f2 = exp_plot(my_paths, dists, torch_all_ranks, norm=\"L2\", title_add=title_add, thresholds=thresholds, choose_val=choose_val)\n",
    "                      "
   ]
  },
  {
   "cell_type": "markdown",
   "id": "779e8b10",
   "metadata": {},
   "source": [
    "#### Two Untied Pairwise"
   ]
  },
  {
   "cell_type": "code",
   "execution_count": null,
   "id": "a88282f9",
   "metadata": {
    "scrolled": true
   },
   "outputs": [],
   "source": [
    "# Basic (mostly unchanged) parameters\n",
    "delta = 1\n",
    "epochs = 50000\n",
    "dist_type_sym = False\n",
    "norm_type = \"1\"\n",
    "ratio_norm_ = 1.0\n",
    "prefix = \"pairwise_res/two_untied/\"\n",
    "seed_val = 279\n",
    "n_items = 4\n",
    "all_ranks = list(itertools.permutations(list(np.arange(n_items))))\n",
    "all_ranks = [np.array(elem) for elem in all_ranks]\n",
    "torch_all_ranks = torch.from_numpy(np.asarray(all_ranks))\n",
    "\n",
    "choose_val = \"full\"\n",
    "\n",
    "# Parameters changing for every exp seed = 279\n",
    "mixture_val = 1\n",
    "gap_mode = 0.1\n",
    "w = f\"two_untied_mix={mixture_val}_gap={gap_mode}_seed={seed_val}_n=4\"\n",
    "title_add = \"\"\n",
    "\n",
    "thresholds = np.array([0.0250, 0.0501, 0.0751, 0.1001, 0.1438, 0.2626, 0.3813])\n",
    "\n",
    "# dist\n",
    "dists = [\"erm\", \"maxpair\"]\n",
    "my_paths = [get_path_exp(dist, w, delta, epochs, dist_type_sym, norm_type, ratio_norm_, prefix=prefix) for dist in dists]\n",
    "\n",
    "f1 = exp_plot(my_paths, dists, torch_all_ranks, norm=\"L1\", title_add=title_add, plot_training=False, type_=\"pairwise\", n=n_items, thresholds=thresholds, choose_val=choose_val)\n",
    "plt.tight_layout()\n",
    "plt.savefig(f\"/Users/m.goibert/Documents/Criteo/Projets_Recherche/P5_General_Depth_Fct/img_paper/pairwise_two_untied_n=4_seed=279.png\", dpi=200)\n",
    "\n",
    "f2 = exp_plot(my_paths, dists, torch_all_ranks, norm=\"L2\", title_add=title_add, plot_training=False, type_=\"pairwise\", n=n_items, thresholds=thresholds, choose_val=choose_val)\n",
    "                      "
   ]
  },
  {
   "cell_type": "code",
   "execution_count": null,
   "id": "a0d7bacf",
   "metadata": {},
   "outputs": [],
   "source": [
    "# Basic (mostly unchanged) parameters\n",
    "delta = 1\n",
    "epochs = 50000\n",
    "dist_type_sym = False\n",
    "norm_type = \"1\"\n",
    "ratio_norm_ = 1.0\n",
    "prefix = \"pairwise_res/two_untied/\"\n",
    "seed_val = 279\n",
    "n_items = 8\n",
    "all_ranks = list(itertools.permutations(list(np.arange(n_items))))\n",
    "all_ranks = [np.array(elem) for elem in all_ranks]\n",
    "torch_all_ranks = torch.from_numpy(np.asarray(all_ranks))\n",
    "\n",
    "choose_val=\"alt\"\n",
    "\n",
    "# Parameters changing for every exp seed = 279\n",
    "mixture_val = 1\n",
    "gap_mode = 0.01\n",
    "w = f\"two_untied_mix={mixture_val}_gap={gap_mode}_seed={seed_val}_n=8\"\n",
    "title_add = \"\"\n",
    "\n",
    "thresholds = np.array([0.0009, 0.0015, 0.0017, 0.0021, 0.0026, 0.0028, 0.0034, 0.0051])\n",
    "\n",
    "# dist\n",
    "dists = [\"erm\", \"maxpair\"] #, merge]\n",
    "my_paths = [get_path_exp(dist, w, delta, epochs, dist_type_sym, norm_type, ratio_norm_, prefix=prefix) for dist in dists]\n",
    "\n",
    "f1 = exp_plot(my_paths, dists, torch_all_ranks, norm=\"L1\", title_add=title_add, plot_training=False, type_=\"pairwise\", n=n_items, thresholds=thresholds, choose_val=choose_val)\n",
    "plt.tight_layout()\n",
    "plt.savefig(f\"/Users/m.goibert/Documents/Criteo/Projets_Recherche/P5_General_Depth_Fct/img_paper/pairwise_two_untied_n=8_seed=279.png\", dpi=200)\n",
    "\n",
    "f2 = exp_plot(my_paths, dists, torch_all_ranks, norm=\"L2\", title_add=title_add, plot_training=False, type_=\"pairwise\", n=n_items, thresholds=thresholds, choose_val=choose_val)\n",
    "                      "
   ]
  },
  {
   "cell_type": "code",
   "execution_count": null,
   "id": "5d207db6",
   "metadata": {},
   "outputs": [],
   "source": [
    "# Basic (mostly unchanged) parameters\n",
    "delta = 3\n",
    "epochs = 50000\n",
    "dist_type_sym = False\n",
    "norm_type = \"1\"\n",
    "ratio_norm_ = 1.0\n",
    "prefix = \"pairwise_res/two_untied/\"\n",
    "seed_val = 279\n",
    "n_items = 8\n",
    "all_ranks = list(itertools.permutations(list(np.arange(n_items))))\n",
    "all_ranks = [np.array(elem) for elem in all_ranks]\n",
    "torch_all_ranks = torch.from_numpy(np.asarray(all_ranks))\n",
    "\n",
    "choose_val = \"alt\"\n",
    "\n",
    "# Parameters changing for every exp seed = 279\n",
    "mixture_val = 1\n",
    "gap_mode = 0.01\n",
    "w = f\"two_untied_mix={mixture_val}_gap={gap_mode}_seed={seed_val}_n=8\"\n",
    "title_add = \"\"\n",
    "\n",
    "#thresholds = np.array([0.0017, 0.0026, 0.0034, 0.0043, 0.0051, 0.1270, 0.2513, 0.3757])\n",
    "thresholds = np.array([0.0017, 0.0026, 0.0034, 0.0043, 0.0051])#, 0.1270, 0.2513, 0.3757])\n",
    "\n",
    "# dist\n",
    "dists = [\"erm\", \"maxpair\"]\n",
    "my_paths = [get_path_exp(dist, w, delta, epochs, dist_type_sym, norm_type, ratio_norm_, prefix=prefix) for dist in dists]\n",
    "\n",
    "f1 = exp_plot(my_paths, dists, torch_all_ranks, norm=\"L1\", title_add=title_add, plot_training=False, type_=\"pairwise\", n=n_items, thresholds=thresholds, choose_val=choose_val)\n",
    "plt.tight_layout()\n",
    "plt.savefig(f\"/Users/m.goibert/Documents/Criteo/Projets_Recherche/P5_General_Depth_Fct/img_paper/pairwise_two_untied_n=8_delta=3_seed=279.png\", dpi=200)\n",
    "\n",
    "f2 = exp_plot(my_paths, dists, torch_all_ranks, norm=\"L2\", title_add=title_add, plot_training=False, type_=\"pairwise\", n=n_items, thresholds=thresholds, choose_val=choose_val)\n",
    "                      "
   ]
  },
  {
   "cell_type": "code",
   "execution_count": null,
   "id": "4f295bf9",
   "metadata": {},
   "outputs": [],
   "source": []
  },
  {
   "cell_type": "code",
   "execution_count": null,
   "id": "2de6e686",
   "metadata": {},
   "outputs": [],
   "source": []
  },
  {
   "cell_type": "code",
   "execution_count": null,
   "id": "d673072f",
   "metadata": {},
   "outputs": [],
   "source": []
  },
  {
   "cell_type": "code",
   "execution_count": null,
   "id": "4a8ce71a",
   "metadata": {},
   "outputs": [],
   "source": []
  },
  {
   "cell_type": "code",
   "execution_count": null,
   "id": "bc21b4e9",
   "metadata": {},
   "outputs": [],
   "source": []
  },
  {
   "cell_type": "code",
   "execution_count": null,
   "id": "78c540e4",
   "metadata": {},
   "outputs": [],
   "source": []
  },
  {
   "cell_type": "code",
   "execution_count": null,
   "id": "1d889fdf",
   "metadata": {},
   "outputs": [],
   "source": []
  },
  {
   "cell_type": "code",
   "execution_count": null,
   "id": "bd4e728a",
   "metadata": {},
   "outputs": [],
   "source": []
  },
  {
   "cell_type": "code",
   "execution_count": null,
   "id": "149bf630",
   "metadata": {},
   "outputs": [],
   "source": [
    "# Exp to launch afterward\n",
    "# Seeds unimodal = 938, 37\n",
    "# Seeds multimodal = 453\n",
    "\n",
    "#python app/launcher_classic.py --exp_types \"multimodal_sst\" --epochs_list \"20000\" --seed_vals \"453\" --ms \"0.1;0.5;1;3\"\n",
    "# DONE\n",
    "\n",
    "\n",
    "\n",
    "# Pairwise\n",
    "# Done except merge\n",
    "#python app/launcher_pairwise.py --exp_types \"unimodal\" --epochs_list \"50000\" --seed_vals \"938\" --ms \"0.1;0.5;1;3\"\n",
    "\n",
    "# More items\n",
    "#DONE -- python app/launcher_pairwise.py --exp_types \"unimodal\" --epochs_list \"25000\" --seed_vals \"820\" --ms \"0.5;1;3\" --n 8\n",
    "# python app/launcher_pairwise.py --exp_types \"unimodal\" --epochs_list \"50000\" --seed_vals \"429\" --ms \"1\" --n 8\n",
    "\n",
    "\n",
    "###\n",
    "\n",
    "#python app/launcher_classic.py --exp_types \"multimodal_sst\" --epochs_list \"20000\" --seed_vals \"453\" --ms \"63\"\n",
    "\n",
    "\n",
    "\n"
   ]
  },
  {
   "cell_type": "code",
   "execution_count": null,
   "id": "4a509b5b",
   "metadata": {},
   "outputs": [],
   "source": [
    "# Nice plots\n",
    "# Classic, n=4, epochs=20000, seed=938, m=0.01 or m=3\n",
    "# Pairwise, n=4\n",
    "# Pairwise, n=8"
   ]
  },
  {
   "cell_type": "code",
   "execution_count": null,
   "id": "9d112b71",
   "metadata": {},
   "outputs": [],
   "source": []
  },
  {
   "cell_type": "code",
   "execution_count": null,
   "id": "58fd96de",
   "metadata": {},
   "outputs": [],
   "source": []
  },
  {
   "cell_type": "code",
   "execution_count": null,
   "id": "1578666c",
   "metadata": {},
   "outputs": [],
   "source": [
    "torch.manual_seed(938)\n",
    "\n",
    "logits = torch.sort(torch.randn(4), descending=True)[0].numpy()\n",
    "w = np.exp(logits)\n",
    "w"
   ]
  }
 ],
 "metadata": {
  "kernelspec": {
   "display_name": "Python 3 (ipykernel)",
   "language": "python",
   "name": "python3"
  },
  "language_info": {
   "codemirror_mode": {
    "name": "ipython",
    "version": 3
   },
   "file_extension": ".py",
   "mimetype": "text/x-python",
   "name": "python",
   "nbconvert_exporter": "python",
   "pygments_lexer": "ipython3",
   "version": "3.9.7"
  }
 },
 "nbformat": 4,
 "nbformat_minor": 5
}
