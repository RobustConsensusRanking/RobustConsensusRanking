{
 "cells": [
  {
   "cell_type": "code",
   "execution_count": 3,
   "id": "4014d5b4",
   "metadata": {},
   "outputs": [],
   "source": [
    "import numpy as np"
   ]
  },
  {
   "cell_type": "markdown",
   "id": "276af887",
   "metadata": {},
   "source": [
    "![title](img_bkdwnpts.jpg)"
   ]
  },
  {
   "cell_type": "code",
   "execution_count": 2,
   "id": "167c433b",
   "metadata": {},
   "outputs": [
    {
     "name": "stdout",
     "output_type": "stream",
     "text": [
      "pL = [[0.95 1.15 1.35 1.85 1.65 2.05]]\n",
      "adv pL = [[0.95 1.15 1.35 1.85 1.65 2.05]]\n"
     ]
    }
   ],
   "source": [
    "# Loss matrix\n",
    "L = np.matrix([[0,1,1,2,2,3],[1,0,2,3,1,2],[1,2,0,1,3,2],[2,3,1,0,2,1],[2,1,3,2,0,1],[3,2,2,1,1,0]])\n",
    "\n",
    "# Distrib\n",
    "p = np.matrix([0.35, 0.25, 0.15, 0.1, 0.1, 0.05])\n",
    "print(f\"pL = {p*L}\")\n",
    "\n",
    "# Adv distrib\n",
    "eps = 0.4\n",
    "p_ = np.matrix([-eps/2,0,0,0,0,eps/2])\n",
    "ptilde = p + p_\n",
    "print(f\"adv pL = {p*L}\")"
   ]
  }
 ],
 "metadata": {
  "kernelspec": {
   "display_name": "Python 3 (ipykernel)",
   "language": "python",
   "name": "python3"
  },
  "language_info": {
   "codemirror_mode": {
    "name": "ipython",
    "version": 3
   },
   "file_extension": ".py",
   "mimetype": "text/x-python",
   "name": "python",
   "nbconvert_exporter": "python",
   "pygments_lexer": "ipython3",
   "version": "3.9.7"
  }
 },
 "nbformat": 4,
 "nbformat_minor": 5
}
