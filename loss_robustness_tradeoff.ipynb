{
 "cells": [
  {
   "cell_type": "markdown",
   "id": "9cd7a9c2",
   "metadata": {},
   "source": [
    "# Loss versus Robustness tradeoffs -- Plots\n",
    "\n",
    "This notebook is used to generate Figure 5 of the paper \"Robust Consensus in Ranking Data Analysis: Definitions, Properties and Computational Issues\"\n",
    "\n",
    "The fist cells load the relevant librairies and define the relevant functions.\n",
    "\n",
    "The next cells load the results.\n",
    "\n",
    "The last cell outputs the plot."
   ]
  },
  {
   "cell_type": "markdown",
   "id": "1215cc9e",
   "metadata": {},
   "source": [
    "### Librairies"
   ]
  },
  {
   "cell_type": "code",
   "execution_count": 25,
   "id": "c238326f",
   "metadata": {},
   "outputs": [
    {
     "name": "stderr",
     "output_type": "stream",
     "text": [
      "[autoreload of app.launcher_classic failed: Traceback (most recent call last):\n",
      "  File \"/Users/m.goibert/miniforge3/lib/python3.9/site-packages/IPython/extensions/autoreload.py\", line 245, in check\n",
      "    superreload(m, reload, self.old_objects)\n",
      "  File \"/Users/m.goibert/miniforge3/lib/python3.9/site-packages/IPython/extensions/autoreload.py\", line 410, in superreload\n",
      "    update_generic(old_obj, new_obj)\n",
      "  File \"/Users/m.goibert/miniforge3/lib/python3.9/site-packages/IPython/extensions/autoreload.py\", line 347, in update_generic\n",
      "    update(a, b)\n",
      "  File \"/Users/m.goibert/miniforge3/lib/python3.9/site-packages/IPython/extensions/autoreload.py\", line 302, in update_class\n",
      "    if update_generic(old_obj, new_obj): continue\n",
      "  File \"/Users/m.goibert/miniforge3/lib/python3.9/site-packages/IPython/extensions/autoreload.py\", line 347, in update_generic\n",
      "    update(a, b)\n",
      "  File \"/Users/m.goibert/miniforge3/lib/python3.9/site-packages/IPython/extensions/autoreload.py\", line 302, in update_class\n",
      "    if update_generic(old_obj, new_obj): continue\n",
      "  File \"/Users/m.goibert/miniforge3/lib/python3.9/site-packages/IPython/extensions/autoreload.py\", line 347, in update_generic\n",
      "    update(a, b)\n",
      "  File \"/Users/m.goibert/miniforge3/lib/python3.9/site-packages/IPython/extensions/autoreload.py\", line 302, in update_class\n",
      "    if update_generic(old_obj, new_obj): continue\n",
      "  File \"/Users/m.goibert/miniforge3/lib/python3.9/site-packages/IPython/extensions/autoreload.py\", line 347, in update_generic\n",
      "    update(a, b)\n",
      "  File \"/Users/m.goibert/miniforge3/lib/python3.9/site-packages/IPython/extensions/autoreload.py\", line 302, in update_class\n",
      "    if update_generic(old_obj, new_obj): continue\n",
      "RecursionError: maximum recursion depth exceeded\n",
      "]\n"
     ]
    }
   ],
   "source": [
    "import numpy as np\n",
    "import torch\n",
    "import itertools\n",
    "import matplotlib.pyplot as plt\n",
    "import os\n",
    "from app.launcher_classic import torch_dist, proba_plackett_luce, pairwise_matrix\n",
    "from app.launcher_classic import plot_end_training as plot_end_training_classic\n",
    "from app.launcher_classic import torch_dist as torch_dist_classic\n",
    "\n",
    "device = \"cpu\"\n",
    "default_tensor_type = torch.FloatTensor"
   ]
  },
  {
   "cell_type": "code",
   "execution_count": 26,
   "id": "797edb84",
   "metadata": {},
   "outputs": [
    {
     "name": "stdout",
     "output_type": "stream",
     "text": [
      "The autoreload extension is already loaded. To reload it, use:\n",
      "  %reload_ext autoreload\n"
     ]
    }
   ],
   "source": [
    "%load_ext autoreload\n",
    "%autoreload 2"
   ]
  },
  {
   "cell_type": "markdown",
   "id": "1be3e3a6",
   "metadata": {},
   "source": [
    "### Useful functions"
   ]
  },
  {
   "cell_type": "code",
   "execution_count": 5,
   "id": "e3e36ea3",
   "metadata": {},
   "outputs": [],
   "source": [
    "def get_path_exp(dist, w, delta, epochs, dist_type_sym, norm_type, prefix=\"\", folder_path=None):\n",
    "    if folder_path == None:\n",
    "        folder_path = f\"{os.getcwd()}/perf_robustness_profile/\"+prefix\n",
    "    filename = f\"perf_robustness_dist={dist}_w={w}_delta={delta}_epochs={epochs}_dist_type_sym={dist_type_sym}_norm_L{norm_type}.pt\"\n",
    "    return folder_path+filename\n",
    "\n",
    "def get_res(mypath, dist, torch_all_ranks, plot_training=False, n=4, choose_val=\"full\"):\n",
    "    \n",
    "    perf_list, eps_list1, eps_list2, alt_eps_list1, alt_eps_list2, thresholds = load_plot_exp(mypath, dist, torch_all_ranks, plot_training=plot_training, n=n)\n",
    "    \n",
    "    print(f\"perf_list = {perf_list} \\n\\n eps_list1 (l1 norm) = {eps_list1}  \\n eps_list2 (l2 norm) = {eps_list2} \\n\\n alt_eps_list1 (l1 norm) = {alt_eps_list1}  \\n alt_eps_list2 (l2 norm) = {alt_eps_list2} \\n\\n\")\n",
    "    \n",
    "    l1_norm = list()\n",
    "    for i in range(len(eps_list1)):\n",
    "        minval = torch.min( torch.tensor(eps_list1[i]), torch.tensor(alt_eps_list1[i]) ) \n",
    "        maxval = torch.max( torch.tensor(eps_list1[i]), torch.tensor(alt_eps_list1[i]) ) \n",
    "        if choose_val == \"full\":\n",
    "            l1_norm.append(torch.tensor(eps_list1[i]))\n",
    "        elif choose_val == \"alt\":\n",
    "            l1_norm.append(torch.tensor(alt_eps_list1[i]))\n",
    "        elif choose_val == \"min\":\n",
    "            l1_norm.append(minval)\n",
    "        elif choose_val == \"max\":\n",
    "            l1_norm.append(maxval)\n",
    "\n",
    "    l2_norm = list()\n",
    "    for i in range(len(eps_list2)):\n",
    "        minval = torch.min( torch.tensor(eps_list2[i]), torch.tensor(alt_eps_list2[i]) ) \n",
    "        maxval = torch.max( torch.tensor(eps_list2[i]), torch.tensor(alt_eps_list2[i]) ) \n",
    "        if choose_val == \"full\":\n",
    "            l2_norm.append(torch.tensor(eps_list2[i]))\n",
    "        elif choose_val == \"alt\":\n",
    "            l2_norm.append(torch.tensor(alt_eps_list2[i]))\n",
    "        elif choose_val == \"min\":\n",
    "            l2_norm.append(minval)\n",
    "        elif choose_val == \"max\":\n",
    "            l2_norm.append(maxval)\n",
    "    \n",
    "    return perf_list, l1_norm, l2_norm\n",
    "\n",
    "def load_plot_exp(path, dist, torch_all_ranks, plot_training=False, n=4):\n",
    "    dict_res = torch.load(path)\n",
    "    training_dict = dict_res['training_dict']\n",
    "    final_val_dict = dict_res['final_val_dict']\n",
    "    epochs = int(path.split('epochs=')[1].split('_')[0])\n",
    "    p_torch=final_val_dict['p_torch']\n",
    "    print(f\"PTORCh = {p_torch}\")\n",
    "    \n",
    "    for i, threshold in enumerate(training_dict.keys()):\n",
    "        qlist_ = training_dict[threshold]['qs_'][epochs-10000:]\n",
    "        q1 = np.mean(qlist_, axis=0)\n",
    "        q2 = training_dict[threshold]['mean_qs'][-1]\n",
    "        p_torch=final_val_dict['p_torch']\n",
    "    \n",
    "    if plot_training:\n",
    "        for threshold in list(training_dict.keys()):\n",
    "            if type_ == \"classic\":\n",
    "                dist_Tp_Tq = lambda _p,_q: torch_dist_classic(dist, _p, _q, torch_all_ranks, threshold=threshold, dist_type_sym=dist_type_sym)\n",
    "            elif type_ == \"pairwise\":\n",
    "                dist_Tp_Tq = lambda _P,_Q: torch_dist_pairwise(dist, _P, _Q, torch_all_ranks, threshold=threshold, dist_type_sym=dist_type_sym)\n",
    "            \n",
    "            norms_ = training_dict[threshold]['norms']\n",
    "            losses = training_dict[threshold]['losses']\n",
    "            mean_qs_=training_dict[threshold]['mean_qs']\n",
    "            phis_=training_dict[threshold]['phis']\n",
    "            mean_phi2_=training_dict[threshold]['mean_phi2']\n",
    "            lambdas_=training_dict[threshold]['lambdas']\n",
    "            mean_lambdas_=training_dict[threshold]['mean_lambdas']\n",
    "            grad_data=training_dict[threshold]['grad_data']\n",
    "            freq_phi_=training_dict[threshold]['freq_phi']\n",
    "            p_torch=final_val_dict['p_torch']\n",
    "            print(f\"load plot n = {n}, ptorch = {p_torch.shape}, all ranks = {torch_all_ranks.shape}\")\n",
    "            P=pairwise_matrix(p_torch, torch_all_ranks, n=n)\n",
    "            \n",
    "            plot_end_training_classic(p_torch=p_torch, dist_Tp_Tq=dist_Tp_Tq, norms_=norms_, losses=losses, mean_qs_=mean_qs_, phis_=phis_, mean_phi2_=mean_phi2_, lambdas_=lambdas_, mean_lambdas_=mean_lambdas_, grad_data=grad_data, norm_type=norm_type)\n",
    "    return final_val_dict[\"perf_list\"], final_val_dict[\"eps_list1\"], final_val_dict[\"eps_list2\"], final_val_dict[\"alt_eps_list1\"], final_val_dict[\"alt_eps_list2\"], final_val_dict[\"thresholds\"]\n",
    "\n",
    "def get_pair_results(my_paths, dists, torch_all_ranks, plot_training=False, n=4, choose_val=\"full\", thresholds=np.linspace(0,0.5,11)):\n",
    "    \n",
    "    perf_list_res = list()\n",
    "    l1_norm_res = list()\n",
    "    \n",
    "    for i, (my_path, dist) in enumerate(zip(my_paths, dists)):\n",
    "        print(f\"File path = {my_path}\")\n",
    "        perf_list, l1_norm, l2_norm = get_res(my_path, dist, torch_all_ranks, plot_training=plot_training, n=n, choose_val=choose_val)\n",
    "        perf_res_ = perf_list[0]/(n*(n-1)/2)\n",
    "        l1_norm_res_ = l1_norm[0].item()/2\n",
    "        print(f\"Results: perf = {perf_res_} and robustness = {l1_norm_res_}\")\n",
    "        perf_list_res.append(perf_res_)\n",
    "        l1_norm_res.append(l1_norm_res_)\n",
    "    \n",
    "    return perf_list_res, l1_norm_res\n"
   ]
  },
  {
   "cell_type": "markdown",
   "id": "8219b877",
   "metadata": {},
   "source": [
    "### Load experiments"
   ]
  },
  {
   "cell_type": "code",
   "execution_count": 4,
   "id": "eb41a7cd",
   "metadata": {},
   "outputs": [],
   "source": [
    "n_items = 4\n",
    "all_ranks = list(itertools.permutations(list(np.arange(n_items))))\n",
    "all_ranks = [np.array(elem) for elem in all_ranks]\n",
    "torch_all_ranks = torch.from_numpy(np.asarray(all_ranks))\n",
    "\n",
    "# Unchanged parameters\n",
    "delta = 1\n",
    "dist_type_sym = False\n",
    "norm_type = \"1\"\n",
    "choose_val = \"full\"\n",
    "thresholds = np.array([0.05])\n",
    "dists = [\"erm\", \"maxpair\"]"
   ]
  },
  {
   "cell_type": "markdown",
   "id": "6d30a759",
   "metadata": {},
   "source": [
    "##### Random Plackett-Luce 1"
   ]
  },
  {
   "cell_type": "code",
   "execution_count": null,
   "id": "903e47f7",
   "metadata": {},
   "outputs": [],
   "source": [
    "# Rerun the exp --> You will need to change \"epochs\" and \"w\" in the next cell\n",
    "# %run app/launcher_classic.py --seed_vals \"18\" --epochs_list \"20000\""
   ]
  },
  {
   "cell_type": "code",
   "execution_count": null,
   "id": "a51f1fb8",
   "metadata": {},
   "outputs": [],
   "source": [
    "# Basic (mostly unchanged) parameters\n",
    "epochs = 20001\n",
    "prefix = \"unimodal/\"\n",
    "n_items = 4\n",
    "\n",
    "# To copy paste from the name of the saved file\n",
    "w = f\"[1.1173979 1.0336659 0.6316072 0.3937561]\"\n",
    "\n",
    "my_paths = [get_path_exp(dist, w, delta, epochs, dist_type_sym, norm_type, prefix=prefix) for dist in dists]\n",
    "perf_18, tv_dist_18 = get_pair_results(my_paths, dists, torch_all_ranks, plot_training=False, n=4, thresholds=np.linspace(0,0.5,11), choose_val=choose_val)\n",
    "\n",
    "                      "
   ]
  },
  {
   "cell_type": "markdown",
   "id": "dda1872f",
   "metadata": {},
   "source": [
    "##### Random Plackett-Luce 2"
   ]
  },
  {
   "cell_type": "code",
   "execution_count": null,
   "id": "bec11958",
   "metadata": {},
   "outputs": [],
   "source": [
    "# Rerun the exp --> You will need to change \"epochs\" and \"w\" in the next cell\n",
    "# %run app/launcher_classic.py --seed_vals \"283\" --epochs_list \"20000\""
   ]
  },
  {
   "cell_type": "code",
   "execution_count": null,
   "id": "f27c9dcb",
   "metadata": {},
   "outputs": [],
   "source": [
    "# Basic (mostly unchanged) parameters\n",
    "epochs = 20001\n",
    "prefix = \"unimodal/\"\n",
    "\n",
    "# To copy-paste from the name of the file\n",
    "w = f\"[1.7226691  0.6500638  0.09824223 0.09391503]\"\n",
    "\n",
    "my_paths = [get_path_exp(dist, w, delta, epochs, dist_type_sym, norm_type, prefix=prefix) for dist in dists]\n",
    "perf_283, tv_dist_283 = get_pair_results(my_paths, dists, torch_all_ranks, plot_training=False, n=4, thresholds=np.linspace(0,0.5,11), choose_val=choose_val)\n",
    "print(perf_283, tv_dist_283)\n"
   ]
  },
  {
   "cell_type": "markdown",
   "id": "3a28e813",
   "metadata": {},
   "source": [
    "##### Random Plackett-Luce 3"
   ]
  },
  {
   "cell_type": "code",
   "execution_count": null,
   "id": "b642f271",
   "metadata": {},
   "outputs": [],
   "source": [
    "# Rerun the exp --> You will need to change \"epochs\" and \"w\" in the next cell\n",
    "# %run app/launcher_classic.py --seed_vals \"1903\" --epochs_list \"20000\""
   ]
  },
  {
   "cell_type": "code",
   "execution_count": null,
   "id": "1eddadf8",
   "metadata": {},
   "outputs": [],
   "source": [
    "# Basic (mostly unchanged) parameters\n",
    "epochs = 20001\n",
    "prefix = \"unimodal/\"\n",
    "\n",
    "# To copy-paste from the name of the file\n",
    "w = f\"[2.7095466 1.1030647 0.98387283 0.3974442]\"\n",
    "\n",
    "my_paths = [get_path_exp(dist, w, delta, epochs, dist_type_sym, norm_type, prefix=prefix) for dist in dists]\n",
    "perf_1903, tv_dist_1903 = get_pair_results(my_paths, dists, torch_all_ranks, plot_training=False, n=4, thresholds=np.linspace(0,0.5,11), choose_val=choose_val)\n",
    "print(perf_1903, tv_dist_1903)\n"
   ]
  },
  {
   "cell_type": "markdown",
   "id": "a1c65e3d",
   "metadata": {},
   "source": [
    "##### Bucket 1"
   ]
  },
  {
   "cell_type": "code",
   "execution_count": null,
   "id": "ea021f66",
   "metadata": {},
   "outputs": [],
   "source": [
    "# Rerun the exp\n",
    "# %run app/launcher_classic.py --seed_vals \"279\" --exp_types \"two_untied\" --epochs_list \"20000\" --gap_mode \"0.01\" --mixture_val \"0.95\""
   ]
  },
  {
   "cell_type": "code",
   "execution_count": null,
   "id": "4c6a826a",
   "metadata": {},
   "outputs": [],
   "source": [
    "# Basic (mostly unchanged) parameters\n",
    "epochs = 20001\n",
    "prefix = \"two_untied/\"\n",
    "\n",
    "w = \"two_untied_mix=0.95_gap=0.01_seed=279\"\n",
    "\n",
    "my_paths = [get_path_exp(dist, w, delta, epochs, dist_type_sym, norm_type, prefix=prefix) for dist in dists]\n",
    "perf_bucket_001, tv_dist_bucket_001 = get_pair_results(my_paths, dists, torch_all_ranks, plot_training=False, n=4, thresholds=thresholds, choose_val=choose_val)\n",
    "print(perf_bucket_001, tv_dist_bucket_001)\n",
    "\n"
   ]
  },
  {
   "cell_type": "markdown",
   "id": "b4f888fa",
   "metadata": {},
   "source": [
    "##### Bucket 2"
   ]
  },
  {
   "cell_type": "code",
   "execution_count": null,
   "id": "f53e0445",
   "metadata": {},
   "outputs": [],
   "source": [
    "# Rerun the exp\n",
    "# %run app/launcher_classic.py --seed_vals \"279\" --exp_types \"two_untied\" --epochs_list \"20000\" --gap_mode \"0.1\" --mixture_val \"1\""
   ]
  },
  {
   "cell_type": "code",
   "execution_count": null,
   "id": "fc02d91a",
   "metadata": {},
   "outputs": [],
   "source": [
    "# Basic (mostly unchanged) parameters\n",
    "epochs = 20001\n",
    "prefix = \"two_untied/\"\n",
    "\n",
    "w = \"two_untied_mix=1_gap=0.1_seed=279\"\n",
    "\n",
    "my_paths = [get_path_exp(dist, w, delta, epochs, dist_type_sym, norm_type, prefix=prefix) for dist in dists]\n",
    "perf_bucket_01, tv_dist_bucket_01 = get_pair_results(my_paths, dists, torch_all_ranks, plot_training=False, n=4, thresholds=thresholds, choose_val=choose_val)\n",
    "print(perf_bucket_01, tv_dist_bucket_01)\n",
    "\n"
   ]
  },
  {
   "cell_type": "markdown",
   "id": "6931deda",
   "metadata": {},
   "source": [
    "##### Almost uniform"
   ]
  },
  {
   "cell_type": "code",
   "execution_count": null,
   "id": "cf93151f",
   "metadata": {},
   "outputs": [],
   "source": [
    "# Rerun the exp\n",
    "# %run app/launcher_classic.py --seed_vals \"279\" --ms \"0.01\" --epochs_list \"20000\""
   ]
  },
  {
   "cell_type": "code",
   "execution_count": null,
   "id": "f7d2d79f",
   "metadata": {},
   "outputs": [],
   "source": [
    "# Basic (mostly unchanged) parameters\n",
    "epochs = 20001\n",
    "prefix = \"unimodal/\"\n",
    "\n",
    "w = f\"[0.99852407 0.9910795  0.9796387  0.97639084]\"\n",
    "\n",
    "my_paths = [get_path_exp(dist, w, delta, epochs, dist_type_sym, norm_type, prefix=prefix) for dist in dists]\n",
    "perf_uniform, tv_dist_uniform = get_pair_results(my_paths, dists, torch_all_ranks, plot_training=False, n=4, thresholds=thresholds, choose_val=choose_val)\n",
    "print(perf_uniform, tv_dist_uniform)\n",
    "\n"
   ]
  },
  {
   "cell_type": "markdown",
   "id": "3caf8394",
   "metadata": {},
   "source": [
    "##### Almost point mass"
   ]
  },
  {
   "cell_type": "code",
   "execution_count": null,
   "id": "a8d70b69",
   "metadata": {},
   "outputs": [],
   "source": [
    "# Rerun the exp\n",
    "# %run app/launcher_classic.py --seed_vals \"279\" --ms \"10\" --epochs_list \"20000\""
   ]
  },
  {
   "cell_type": "code",
   "execution_count": null,
   "id": "7222299c",
   "metadata": {},
   "outputs": [],
   "source": [
    "# Basic (mostly unchanged) parameters\n",
    "delta = 1\n",
    "epochs = 20002\n",
    "prefix = \"unimodal/\"\n",
    "\n",
    "w = f\"[2.2831823e-01 1.2837668e-04 1.1639423e-09 4.2043390e-11]\"\n",
    "\n",
    "my_paths = [get_path_exp(dist, w, delta, epochs, dist_type_sym, norm_type, prefix=prefix) for dist in dists]\n",
    "perf_dirac, tv_dist_dirac = get_pair_results(my_paths, dists, torch_all_ranks, plot_training=False, n=4, thresholds=thresholds, choose_val=choose_val)\n",
    "print(perf_dirac, tv_dist_dirac)\n",
    "\n"
   ]
  },
  {
   "cell_type": "markdown",
   "id": "caf7638e",
   "metadata": {},
   "source": [
    "### Generate plot"
   ]
  },
  {
   "cell_type": "code",
   "execution_count": null,
   "id": "39c37aa1",
   "metadata": {},
   "outputs": [],
   "source": [
    "cm = plt.cm.get_cmap('Reds')\n",
    "myred = cm(1/2)\n",
    "\n",
    "plt.rcParams.update({\n",
    "    \"text.usetex\": True,\n",
    "    'text.latex.preamble': r'\\usepackage{amsfonts}'\n",
    "        })\n",
    "\n",
    "plt.figure(figsize=(5,3))\n",
    "\n",
    "median_res_x = [perf_18[0], perf_283[0], perf_1903[0], perf_bucket_001[0], perf_bucket_01[0], perf_uniform[0], perf_dirac[0]]\n",
    "median_res_y = [tv_dist_18[0], tv_dist_283[0], tv_dist_1903[0], tv_dist_bucket_001[0], tv_dist_bucket_01[0], tv_dist_uniform[0], tv_dist_dirac[0]]\n",
    "\n",
    "maxpair_res_x = [perf_18[1], perf_283[1], perf_1903[1], perf_bucket_001[1], perf_bucket_01[1], perf_uniform[1], perf_dirac[1]]\n",
    "maxpair_res_y = [tv_dist_18[1], tv_dist_283[1], tv_dist_1903[1], tv_dist_bucket_001[1], tv_dist_bucket_01[1], tv_dist_uniform[1], tv_dist_dirac[1]]\n",
    "\n",
    "plt.plot(perf_18, tv_dist_18, \"-\", c=\"black\")\n",
    "plt.plot(perf_283, tv_dist_283, \"-\", c=\"black\")\n",
    "plt.plot(perf_1903, tv_dist_1903, \"-\", c=\"black\")\n",
    "plt.plot(perf_bucket_001, tv_dist_bucket_001, \"-\", c=\"black\")\n",
    "plt.plot(perf_bucket_01, tv_dist_bucket_01, \"-\", c=\"black\")\n",
    "plt.plot(perf_uniform, tv_dist_uniform, \"-\", c=\"black\")\n",
    "plt.plot(perf_dirac, tv_dist_dirac, \"-\", c=\"black\")\n",
    "\n",
    "plt.scatter(median_res_x, median_res_y, s=120, c=\"cornflowerblue\", marker=\"x\", label=\"Kemeny's median\")\n",
    "plt.scatter(maxpair_res_x, maxpair_res_y, s=90, c=myred, marker=\"o\", label=r\"Down. Merge ($t=0.05$)\")\n",
    "plt.xlabel(r\"Loss $\\mathbb{E}_p(d_{\\tau}(T(p), \\Sigma))$\", fontsize=14)\n",
    "plt.ylabel(r\"Robustness at level $1: \\hat{\\varepsilon}^{\\gamma}_{p,T}(1)$\", fontsize=14)\n",
    "plt.title(f\"Loss vs Robustness Tradeoff\", fontsize=15)\n",
    "legend = plt.legend(title=\"Legend\", fontsize=12)\n",
    "legend.get_title().set_fontsize('13')\n",
    "plt.xticks(fontsize=11)\n",
    "plt.yticks(fontsize=11)\n",
    "plt.xlim((-0.02, 0.52))\n",
    "plt.ylim((-0.03, 1.03))\n",
    "plt.show()"
   ]
  },
  {
   "cell_type": "code",
   "execution_count": null,
   "id": "df806b44",
   "metadata": {},
   "outputs": [],
   "source": []
  },
  {
   "cell_type": "code",
   "execution_count": null,
   "id": "ea94251d",
   "metadata": {},
   "outputs": [],
   "source": []
  },
  {
   "cell_type": "code",
   "execution_count": null,
   "id": "78fd31f0",
   "metadata": {},
   "outputs": [],
   "source": []
  },
  {
   "cell_type": "code",
   "execution_count": null,
   "id": "8aba4d17",
   "metadata": {},
   "outputs": [],
   "source": []
  },
  {
   "cell_type": "code",
   "execution_count": null,
   "id": "912bb9c8",
   "metadata": {},
   "outputs": [],
   "source": []
  },
  {
   "cell_type": "code",
   "execution_count": null,
   "id": "3a16693c",
   "metadata": {},
   "outputs": [],
   "source": []
  },
  {
   "cell_type": "code",
   "execution_count": null,
   "id": "18f3df4f",
   "metadata": {},
   "outputs": [],
   "source": []
  },
  {
   "cell_type": "code",
   "execution_count": null,
   "id": "8aa9aa54",
   "metadata": {},
   "outputs": [],
   "source": []
  },
  {
   "cell_type": "code",
   "execution_count": null,
   "id": "208db367",
   "metadata": {},
   "outputs": [],
   "source": []
  },
  {
   "cell_type": "code",
   "execution_count": null,
   "id": "83842f5d",
   "metadata": {},
   "outputs": [],
   "source": []
  },
  {
   "cell_type": "code",
   "execution_count": null,
   "id": "ffa88aa7",
   "metadata": {},
   "outputs": [],
   "source": [
    "# Rerun the exp\n",
    "# %run app/launcher_classic.py --seed_vals \"279\" --ms \"10\" --epochs_list \"20000\""
   ]
  },
  {
   "cell_type": "code",
   "execution_count": null,
   "id": "092d3d81",
   "metadata": {},
   "outputs": [],
   "source": [
    "# Basic (mostly unchanged) parameters\n",
    "delta = 1\n",
    "epochs = 20002\n",
    "prefix = \"unimodal/\"\n",
    "\n",
    "w = f\"[2.2831823e-01 1.2837668e-04 1.1639423e-09 4.2043390e-11]\"\n",
    "\n",
    "my_paths = [get_path_exp(dist, w, delta, epochs, dist_type_sym, norm_type, prefix=prefix) for dist in dists]\n",
    "perf_dirac, tv_dist_dirac = get_pair_results(my_paths, dists, torch_all_ranks, plot_training=False, n=4, thresholds=thresholds, choose_val=choose_val)\n",
    "print(perf_dirac, tv_dist_dirac)"
   ]
  },
  {
   "cell_type": "code",
   "execution_count": 6,
   "id": "4e438327",
   "metadata": {},
   "outputs": [
    {
     "name": "stdout",
     "output_type": "stream",
     "text": [
      "(5000, 10)\n",
      "<bound method NDFrame.head of       2   3   4   5   6   7   8   9   10  11\n",
      "0      5   0   3   4   6   9   8   1   7   2\n",
      "1      0   9   6   3   7   2   8   1   5   4\n",
      "2      7   0   2   3   8   4   5   1   9   6\n",
      "3      4   5   7   0   2   3   1   6   8   9\n",
      "4      8   6   5   0   3   9   2   7   4   1\n",
      "...   ..  ..  ..  ..  ..  ..  ..  ..  ..  ..\n",
      "4995   3   7   4   5   6   0   1   2   8   9\n",
      "4996   7   1   3   8   6   0   5   2   9   4\n",
      "4997   7   2   4   5   3   6   1   0   8   9\n",
      "4998   7   2   3   0   8   1   5   9   6   4\n",
      "4999   0   5   3   4   7   2   6   9   8   1\n",
      "\n",
      "[5000 rows x 10 columns]>\n"
     ]
    }
   ],
   "source": [
    "import pandas as pd\n",
    "dfsushi = pd.read_table('sushi3-2016/sushi3a.5000.10.order', sep = ' ', skiprows = 1, \n",
    "                        usecols = [2, 3, 4, 5, 6, 7, 8, 9, 10, 11], header = None)\n",
    "print(dfsushi.shape)\n",
    "print(dfsushi.head)\n",
    "sushi = np.array(dfsushi)"
   ]
  },
  {
   "cell_type": "code",
   "execution_count": 7,
   "id": "86f99e41",
   "metadata": {},
   "outputs": [],
   "source": [
    "import math\n",
    "n_items = sushi[0].shape[0]\n",
    "all_ranks = list(itertools.permutations(list(np.arange(n_items))))\n",
    "all_ranks = [np.array(elem) for elem in all_ranks]\n",
    "\n",
    "p_torch = torch.zeros((1,math.factorial(n_items)))"
   ]
  },
  {
   "cell_type": "code",
   "execution_count": 8,
   "id": "4601bafc",
   "metadata": {},
   "outputs": [],
   "source": [
    "list_all_ranks = np.array(all_ranks).tolist()\n",
    "for elem in sushi:\n",
    "    elem = elem.tolist()\n",
    "    idx_elem = list_all_ranks.index(elem)\n",
    "    p_torch[0,idx_elem] += 1\n",
    "p_torch = p_torch/torch.sum(p_torch)"
   ]
  },
  {
   "cell_type": "code",
   "execution_count": 14,
   "id": "3b6e4582",
   "metadata": {},
   "outputs": [],
   "source": [
    "torch_all_ranks = torch.from_numpy(np.asarray(all_ranks))\n",
    "P = pairwise_matrix(p_torch, torch_all_ranks, n=4)"
   ]
  },
  {
   "cell_type": "code",
   "execution_count": 19,
   "id": "f1062c36",
   "metadata": {},
   "outputs": [],
   "source": [
    "@torch.jit.script\n",
    "def torch_merge_idx(M, idx):\n",
    "    P = M\n",
    "    for i in torch.arange(M.shape[0]):\n",
    "        m = torch.max(M[i, idx])\n",
    "        for j in idx:\n",
    "            P[i,j] = m\n",
    "    for j in torch.arange(M.shape[0]):\n",
    "        m = torch.max(M[idx, j])\n",
    "        for i in idx:\n",
    "            P[i,j] = m\n",
    "    for i in idx:\n",
    "        for j in idx:\n",
    "            P[i,j] = 0.5\n",
    "    PTRIU = torch.triu(P, 0)\n",
    "    P = PTRIU + torch.tril(1 - PTRIU.T, -1)\n",
    "    return P\n",
    "\n",
    "def _maxpair(P, threshold=0.):\n",
    "    s = torch.sum(1 * (P > 0.5) + 1 / 2 * (P == 0.5), axis=1)\n",
    "    sigma = torch.argsort(-s)\n",
    "    M = P[np.ix_(sigma, sigma)]\n",
    "\n",
    "    idxs = torch.argwhere(M > 1 / 2 + threshold)\n",
    "    for idx in idxs:\n",
    "        M[:idx[0] + 1, idx[1]] = 1\n",
    "        M[idx[1], :idx[0] + 1] = 0\n",
    "\n",
    "    m = torch.max(torch.abs(M - 0.5) * (M != 0.5) * (torch.abs(M - 0.5) <= threshold))\n",
    "    while m > 0:\n",
    "        i, j = torch.argwhere(np.abs(M - 0.5) == m)[0]\n",
    "        if i <= j:\n",
    "            idx_tomerge1, idx_tomerge2 = i, j + 1\n",
    "        elif i > j:\n",
    "            idx_tomerge1, idx_tomerge2 = j, i + 1\n",
    "        M = torch_merge_idx(M, torch.arange(idx_tomerge1, idx_tomerge2))\n",
    "        m = torch.max(np.abs(M - 0.5) * (M != 0.5) * (torch.abs(M - 0.5) <= threshold))\n",
    "    return M[np.ix_(torch.argsort(sigma), torch.argsort(sigma))]\n",
    "\n",
    "\n",
    "def maxpair(p, torch_all_ranks, n=4, threshold=0.):\n",
    "    P = pairwise_matrix(p, torch_all_ranks=torch_all_ranks, n=n)\n",
    "    return _maxpair(P, threshold=threshold)\n",
    "\n",
    "def expected_kendall(P1, P2):\n",
    "    P1 = P1 - torch.diag(torch.diag(P1))\n",
    "    P2 = P2 - torch.diag(torch.diag(P2))\n",
    "    return torch.norm(P1 * (1-P2), 1)"
   ]
  },
  {
   "cell_type": "code",
   "execution_count": 20,
   "id": "56efb3d8",
   "metadata": {},
   "outputs": [
    {
     "data": {
      "image/png": "[encoded data removed]",
      "text/plain": [
       "<Figure size 432x288 with 1 Axes>"
      ]
     },
     "metadata": {
      "needs_background": "light"
     },
     "output_type": "display_data"
    }
   ],
   "source": [
    "vals = list()\n",
    "thresholds = np.linspace(0,0.5,21)\n",
    "for i, threshold in enumerate(thresholds):\n",
    "    Ptilde = maxpair(p_torch, torch_all_ranks, n=n_items, threshold=threshold)\n",
    "    val = expected_kendall(Ptilde, P).detach().item()\n",
    "    vals.append(val)\n",
    "\n",
    "plt.plot(thresholds, vals, \"o-\")\n",
    "plt.show()"
   ]
  },
  {
   "cell_type": "code",
   "execution_count": 21,
   "id": "fbf33c24",
   "metadata": {},
   "outputs": [],
   "source": [
    "torch.save(p_torch, 'p_torch_sushi.pt')"
   ]
  },
  {
   "cell_type": "code",
   "execution_count": 30,
   "id": "3ed14513",
   "metadata": {},
   "outputs": [
    {
     "data": {
      "text/plain": [
       "torch.Size([1, 3628800])"
      ]
     },
     "execution_count": 30,
     "metadata": {},
     "output_type": "execute_result"
    }
   ],
   "source": [
    "test = torch.load('p_torch_sushi.pt')\n",
    "test.shape"
   ]
  },
  {
   "cell_type": "code",
   "execution_count": null,
   "id": "c464684b",
   "metadata": {},
   "outputs": [
    {
     "name": "stderr",
     "output_type": "stream",
     "text": [
      "[autoreload of app.launcher_classic failed: Traceback (most recent call last):\n",
      "  File \"/Users/m.goibert/miniforge3/lib/python3.9/site-packages/IPython/extensions/autoreload.py\", line 245, in check\n",
      "    superreload(m, reload, self.old_objects)\n",
      "  File \"/Users/m.goibert/miniforge3/lib/python3.9/site-packages/IPython/extensions/autoreload.py\", line 410, in superreload\n",
      "    update_generic(old_obj, new_obj)\n",
      "  File \"/Users/m.goibert/miniforge3/lib/python3.9/site-packages/IPython/extensions/autoreload.py\", line 347, in update_generic\n",
      "    update(a, b)\n",
      "  File \"/Users/m.goibert/miniforge3/lib/python3.9/site-packages/IPython/extensions/autoreload.py\", line 302, in update_class\n",
      "    if update_generic(old_obj, new_obj): continue\n",
      "  File \"/Users/m.goibert/miniforge3/lib/python3.9/site-packages/IPython/extensions/autoreload.py\", line 347, in update_generic\n",
      "    update(a, b)\n",
      "  File \"/Users/m.goibert/miniforge3/lib/python3.9/site-packages/IPython/extensions/autoreload.py\", line 302, in update_class\n",
      "    if update_generic(old_obj, new_obj): continue\n",
      "  File \"/Users/m.goibert/miniforge3/lib/python3.9/site-packages/IPython/extensions/autoreload.py\", line 347, in update_generic\n",
      "    update(a, b)\n",
      "  File \"/Users/m.goibert/miniforge3/lib/python3.9/site-packages/IPython/extensions/autoreload.py\", line 302, in update_class\n",
      "    if update_generic(old_obj, new_obj): continue\n",
      "  File \"/Users/m.goibert/miniforge3/lib/python3.9/site-packages/IPython/extensions/autoreload.py\", line 347, in update_generic\n",
      "    update(a, b)\n",
      "  File \"/Users/m.goibert/miniforge3/lib/python3.9/site-packages/IPython/extensions/autoreload.py\", line 302, in update_class\n",
      "    if update_generic(old_obj, new_obj): continue\n",
      "RecursionError: maximum recursion depth exceeded\n",
      "]\n",
      "2023-03-15 10:49:25,720 -- Classic Launcher - INFO -- my_config = Config(n=10, exp_types=array(['sushi'], dtype='<U5'), seed_vals=array([1892]), ms=array([0.1]), delta_list=array([1]), epochs_list=array([100]), dist_type_sym_list=array([False]), norm_type_list=array(['1'], dtype='<U1'), ratio_list=array([1.]), nb_simu_training_list=array([25]), thresholds=array([0.05]), gap_mode=array([0.1]), mixture_val=array([1.]))\n",
      "2023-03-15 10:49:25,720 -- Classic Launcher - INFO -- nb seed = (1,) and nb m = (1,)\n",
      "2023-03-15 10:49:28,293 -- Classic Launcher - INFO -- HERE1 n_items=10 and all_rank = 3628800\n",
      "2023-03-15 10:49:28,295 -- Classic Launcher - INFO -- \t \t SEED EXP 1892\n",
      "2023-03-15 10:49:28,295 -- Classic Launcher - INFO -- \t \t \t M VAL = 0.1\n",
      "2023-03-15 10:49:28,295 -- Classic Launcher - INFO -- HERE SUSHI\n",
      "2023-03-15 10:49:28,301 -- Classic Launcher - INFO -- thresholds = tensor([0.0500], dtype=torch.float64)\n",
      "2023-03-15 10:49:28,302 -- Classic Launcher - INFO -- \n",
      " ERM \n",
      "\n",
      "2023-03-15 10:49:28,302 -- Classic Launcher - INFO -- HERE2 n_items=10, all_ranks = 3628800\n",
      "2023-03-15 10:49:29,021 -- Classic Launcher - INFO -- HERE3 n_items=10\n",
      "2023-03-15 10:49:42,561 -- Classic Launcher - INFO -- \t EXP THRESHOLD nb 0 = 0.0 \n",
      "\n",
      "2023-03-15 10:49:42,563 -- Classic Launcher - INFO -- HERE3 n_items=4\n",
      "2023-03-15 10:49:54,956 -- Classic Launcher - INFO -- HERE3 n_items=4\n",
      "2023-03-15 10:50:07,141 -- Classic Launcher - INFO -- Original proba p = tensor([[0., 0., 0.,  ..., 0., 0., 0.]]) \n",
      " and pairwise = tensor([[0.0000, 0.5254, 0.4354, 0.6370, 0.5324, 0.4918, 0.7146, 0.2886, 0.6136,\n",
      "         0.8446],\n",
      "        [0.4746, 0.0000, 0.4304, 0.5696, 0.5140, 0.4856, 0.6898, 0.2840, 0.5718,\n",
      "         0.7570],\n",
      "        [0.5646, 0.5696, 0.0000, 0.6790, 0.5618, 0.5402, 0.7616, 0.2570, 0.7250,\n",
      "         0.8694],\n",
      "        [0.3630, 0.4304, 0.3210, 0.0000, 0.4632, 0.4050, 0.6234, 0.2262, 0.5006,\n",
      "         0.7694],\n",
      "        [0.4676, 0.4860, 0.4382, 0.5368, 0.0000, 0.4826, 0.5882, 0.2842, 0.5290,\n",
      "         0.6622],\n",
      "        [0.5082, 0.5144, 0.4598, 0.5950, 0.5174, 0.0000, 0.6698, 0.2954, 0.5928,\n",
      "         0.7508],\n",
      "        [0.2854, 0.3102, 0.2384, 0.3766, 0.4118, 0.3302, 0.0000, 0.1786, 0.3558,\n",
      "         0.6576],\n",
      "        [0.7114, 0.7160, 0.7430, 0.7738, 0.7158, 0.7046, 0.8214, 0.0000, 0.8202,\n",
      "         0.8828],\n",
      "        [0.3864, 0.4282, 0.2750, 0.4994, 0.4710, 0.4072, 0.6442, 0.1798, 0.0000,\n",
      "         0.8206],\n",
      "        [0.1554, 0.2430, 0.1306, 0.2306, 0.3378, 0.2492, 0.3424, 0.1172, 0.1794,\n",
      "         0.0000]], dtype=torch.float64) \n",
      " and stat origin =tensor([[0., 1., 0., 1., 1., 0., 1., 0., 1., 1.],\n",
      "        [0., 0., 0., 1., 1., 0., 1., 0., 1., 1.],\n",
      "        [1., 1., 0., 1., 1., 1., 1., 0., 1., 1.],\n",
      "        [0., 0., 0., 0., 0., 0., 1., 0., 1., 1.],\n",
      "        [0., 0., 0., 1., 0., 0., 1., 0., 1., 1.],\n",
      "        [1., 1., 0., 1., 1., 0., 1., 0., 1., 1.],\n",
      "        [0., 0., 0., 0., 0., 0., 0., 0., 0., 1.],\n",
      "        [1., 1., 1., 1., 1., 1., 1., 0., 1., 1.],\n",
      "        [0., 0., 0., 0., 0., 0., 1., 0., 0., 1.],\n",
      "        [0., 0., 0., 0., 0., 0., 0., 0., 0., 0.]], dtype=torch.float64)\n",
      "2023-03-15 10:50:07,162 -- Classic Launcher - INFO -- Init val = tensor([-0.4184, -0.5452,  0.5908,  ..., -0.6950, -0.8047,  0.9555])\n"
     ]
    }
   ],
   "source": [
    "%run app/launcher_classic.py --seed_vals \"1892\" --epochs_list \"100\"  --exp_types \"sushi\" --n 10"
   ]
  },
  {
   "cell_type": "code",
   "execution_count": null,
   "id": "4c582dd4",
   "metadata": {},
   "outputs": [],
   "source": []
  }
 ],
 "metadata": {
  "kernelspec": {
   "display_name": "Python 3 (ipykernel)",
   "language": "python",
   "name": "python3"
  },
  "language_info": {
   "codemirror_mode": {
    "name": "ipython",
    "version": 3
   },
   "file_extension": ".py",
   "mimetype": "text/x-python",
   "name": "python",
   "nbconvert_exporter": "python",
   "pygments_lexer": "ipython3",
   "version": "3.9.7"
  }
 },
 "nbformat": 4,
 "nbformat_minor": 5
}
